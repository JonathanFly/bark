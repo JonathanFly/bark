{
 "cells": [
  {
   "cell_type": "code",
   "execution_count": 1,
   "id": "0392278d-1c1c-4772-9e64-1c8ecf9878cc",
   "metadata": {
    "tags": []
   },
   "outputs": [
    {
     "name": "stdout",
     "output_type": "stream",
     "text": [
      "Importing libraries...\n",
      "Importing done...\n"
     ]
    }
   ],
   "source": [
    "print(\"Importing libraries...\")\n",
    "import os\n",
    "os.chdir(\"../\")\n",
    "from bark_perform import gen_and_save_audio, save_audio_to_file, get_absolute_path, combined_audio_file, BarkAudio\n",
    "from bark import SAMPLE_RATE, preload_models\n",
    "from IPython.display import Audio, display, HTML\n",
    "import numpy as np\n",
    "import datetime\n",
    "from os import listdir\n",
    "from os.path import isfile, join\n",
    "import wave\n",
    "from pathlib import Path\n",
    "\n",
    "text_temp =  0.7\n",
    "waveform_temp =  0.7\n",
    "stable_mode = False\n",
    "confused_travolta_mode = False\n",
    "output_dir = \"bark_samples\"\n",
    "conversation_name = \"conversation_2\"\n",
    "split_by_words = 35\n",
    "split_by_lines = 0\n",
    "conversation_dir = output_dir + \"\\\\\" + conversation_name\n",
    "    \n",
    "print(\"Importing done...\")"
   ]
  },
  {
   "cell_type": "code",
   "execution_count": 2,
   "id": "d9ae3068-724f-4243-95b1-9af0e4c32d7a",
   "metadata": {
    "tags": []
   },
   "outputs": [
    {
     "name": "stdout",
     "output_type": "stream",
     "text": [
      "Loading Bark models...\n",
      "Models loaded.\n"
     ]
    }
   ],
   "source": [
    "use_smaller_models = False\n",
    "print(\"Loading Bark models...\")\n",
    "if use_smaller_models:\n",
    "    print(\"Using smaller models.\")\n",
    "    preload_models(use_smaller_models=True)\n",
    "else:\n",
    "    preload_models()\n",
    "print(\"Models loaded.\")"
   ]
  },
  {
   "cell_type": "code",
   "execution_count": null,
   "id": "dff4e96b-cdce-4459-9933-edaee7372d68",
   "metadata": {
    "tags": []
   },
   "outputs": [],
   "source": [
    "prompts = [\n",
    "    BarkAudio(\"1\", None, \"Hi everyone, welcome to my podcast. We have James with us right here. James, how are you?\"),\n",
    "    BarkAudio(\"2\", None, \"I'm doing good. Thanks for asking [laugh]. You looks good today.\"),\n",
    "]\n",
    "\n",
    "print(\"Done.\")"
   ]
  },
  {
   "cell_type": "code",
   "execution_count": null,
   "id": "1efcb020-cc3a-48f2-b71f-85adea3db0a6",
   "metadata": {},
   "outputs": [],
   "source": [
    "for idx, promptObj in enumerate(prompts, start=1):\n",
    "    print(f\"Processing prompt {idx} of {len(prompts)}:\")\n",
    "    speaker = promptObj.speaker\n",
    "    if speaker is None:\n",
    "        speaker = f\"random_{idx}\"\n",
    "    filename = promptObj.index + \"_\" + speaker + \".wav\"\n",
    "    gen_and_save_audio(promptObj.prompt, promptObj.speaker, text_temp, waveform_temp, filename, conversation_dir, split_by_words, split_by_lines, stable_mode, confused_travolta_mode, override_existing_file = True)"
   ]
  },
  {
   "cell_type": "code",
   "execution_count": null,
   "id": "dd13c135-e31f-4655-b619-c358c97447ef",
   "metadata": {
    "tags": []
   },
   "outputs": [],
   "source": [
    "## Play the combined audio files\n",
    "combined_audio = combined_audio_file(output_dir, conversation_name)\n",
    "Audio(combined_audio, rate=SAMPLE_RATE)"
   ]
  },
  {
   "cell_type": "code",
   "execution_count": null,
   "id": "b5cc587f-f285-497b-b119-d7e3b289183b",
   "metadata": {},
   "outputs": [],
   "source": []
  }
 ],
 "metadata": {
  "kernelspec": {
   "display_name": "Python 3 (ipykernel)",
   "language": "python",
   "name": "python3"
  },
  "language_info": {
   "codemirror_mode": {
    "name": "ipython",
    "version": 3
   },
   "file_extension": ".py",
   "mimetype": "text/x-python",
   "name": "python",
   "nbconvert_exporter": "python",
   "pygments_lexer": "ipython3",
   "version": "3.10.6"
  }
 },
 "nbformat": 4,
 "nbformat_minor": 5
}
