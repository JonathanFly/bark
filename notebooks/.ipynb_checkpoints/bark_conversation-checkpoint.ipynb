{
 "cells": [
  {
   "cell_type": "code",
   "execution_count": null,
   "id": "0392278d-1c1c-4772-9e64-1c8ecf9878cc",
   "metadata": {
    "tags": []
   },
   "outputs": [],
   "source": [
    "print(\"Importing libraries...\")\n",
    "import os\n",
    "os.chdir(\"../\")\n",
    "from bark_perform import gen_and_save_audio, save_audio_to_file, get_absolute_path, combined_audio_file, BarkAudio\n",
    "from bark import SAMPLE_RATE, preload_models\n",
    "from IPython.display import Audio\n",
    "import numpy as np\n",
    "import datetime\n",
    "from os import listdir\n",
    "from os.path import isfile, join\n",
    "import wave\n",
    "from pathlib import Path\n",
    "\n",
    "text_temp =  0.7\n",
    "waveform_temp =  0.7\n",
    "stable_mode = False\n",
    "confused_travolta_mode = False\n",
    "output_dir = \"bark_samples\"\n",
    "conversation_name = \"conversation_1\"\n",
    "split_by_words = 35\n",
    "split_by_lines = 0\n",
    "conversation_dir = output_dir + \"\\\\\" + conversation_name\n",
    "    \n",
    "print(\"Importing done...\")"
   ]
  },
  {
   "cell_type": "code",
   "execution_count": null,
   "id": "d9ae3068-724f-4243-95b1-9af0e4c32d7a",
   "metadata": {
    "tags": []
   },
   "outputs": [],
   "source": [
    "use_smaller_models = False\n",
    "print(\"Loading Bark models...\")\n",
    "if use_smaller_models:\n",
    "    print(\"Using smaller models.\")\n",
    "    preload_models(use_smaller_models=True)\n",
    "else:\n",
    "    preload_models()\n",
    "print(\"Models loaded.\")"
   ]
  },
  {
   "cell_type": "code",
   "execution_count": null,
   "id": "dff4e96b-cdce-4459-9933-edaee7372d68",
   "metadata": {
    "tags": []
   },
   "outputs": [],
   "source": [
    "prompts = [\n",
    "    BarkAudio(\"1\", \"en_female_intense\", \"Hi everyone, welcome to my podcast. We have James with us right here. James, how are you?\"),\n",
    "    BarkAudio(\"2\", \"talkradio\", \"I'm doing good. Thanks for asking [laugh]. You looks good today.\"),\n",
    "    BarkAudio(\"3\", \"en_female_intense\", \"[laugh], come on. Don't be rude [laugh]\"),\n",
    "    BarkAudio(\"4\", \"talkradio\", \"Oh I'm sorry. Didn't mean that\"),\n",
    "    BarkAudio(\"5\", \"en_female_intense\", \"[laugh]. So, what are you doing today?\"),\n",
    "    BarkAudio(\"6\", \"talkradio\", \"I'm talking on your podcast. What do you think am I doing?\"),\n",
    "]\n",
    "\n",
    "print(\"Done.\")"
   ]
  },
  {
   "cell_type": "code",
   "execution_count": null,
   "id": "1efcb020-cc3a-48f2-b71f-85adea3db0a6",
   "metadata": {},
   "outputs": [],
   "source": [
    "for idx, promptObj in enumerate(prompts, start=1):\n",
    "    print(f\"Processing prompt {idx} of {len(prompts)}:\")\n",
    "    filename = promptObj.index + \"_\" + promptObj.speaker + \".wav\"\n",
    "    gen_and_save_audio(promptObj.prompt, promptObj.speaker, text_temp, waveform_temp, filename, conversation_dir, split_by_words, split_by_lines, stable_mode, confused_travolta_mode, override_existing_file = True)"
   ]
  },
  {
   "cell_type": "code",
   "execution_count": null,
   "id": "dd13c135-e31f-4655-b619-c358c97447ef",
   "metadata": {
    "tags": []
   },
   "outputs": [],
   "source": [
    "## Play the combined audio files\n",
    "combined_audio = combined_audio_file(output_dir, conversation_name)\n",
    "Audio(combined_audio, rate=SAMPLE_RATE)"
   ]
  }
 ],
 "metadata": {
  "kernelspec": {
   "display_name": "Python 3 (ipykernel)",
   "language": "python",
   "name": "python3"
  },
  "language_info": {
   "codemirror_mode": {
    "name": "ipython",
    "version": 3
   },
   "file_extension": ".py",
   "mimetype": "text/x-python",
   "name": "python",
   "nbconvert_exporter": "python",
   "pygments_lexer": "ipython3",
   "version": "3.10.6"
  }
 },
 "nbformat": 4,
 "nbformat_minor": 5
}
