{
  "cells": [
    {
      "cell_type": "markdown",
      "metadata": {
        "id": "HJQ4TI0_Qowr"
      },
      "source": [
        "## Setup Notebook, Install\n"
      ]
    },
    {
      "cell_type": "code",
      "execution_count": null,
      "metadata": {
        "colab": {
          "base_uri": "https://localhost:8080/"
        },
        "id": "r8wG_tIaOV0Q",
        "outputId": "6ea4ba04-3578-41e7-f9b5-4a44ca654452"
      },
      "outputs": [
        {
          "output_type": "stream",
          "name": "stdout",
          "text": [
            "Cloning into 'bark'...\n",
            "remote: Enumerating objects: 854, done.\u001b[K\n",
            "remote: Counting objects: 100% (393/393), done.\u001b[K\n",
            "remote: Compressing objects: 100% (187/187), done.\u001b[K\n",
            "remote: Total 854 (delta 297), reused 249 (delta 204), pack-reused 461\u001b[K\n",
            "Receiving objects: 100% (854/854), 3.50 MiB | 9.79 MiB/s, done.\n",
            "Resolving deltas: 100% (329/329), done.\n",
            "/content/bark\n",
            "Looking in indexes: https://pypi.org/simple, https://us-python.pkg.dev/colab-wheels/public/simple/\n",
            "Collecting boto3\n",
            "  Downloading boto3-1.26.127-py3-none-any.whl (135 kB)\n",
            "\u001b[2K     \u001b[90m━━━━━━━━━━━━━━━━━━━━━━━━━━━━━━━━━━━━━\u001b[0m \u001b[32m135.6/135.6 kB\u001b[0m \u001b[31m967.6 kB/s\u001b[0m eta \u001b[36m0:00:00\u001b[0m\n",
            "\u001b[?25hCollecting funcy\n",
            "  Downloading funcy-2.0-py2.py3-none-any.whl (30 kB)\n",
            "Requirement already satisfied: numpy in /usr/local/lib/python3.10/dist-packages (from -r requirements-pip.txt (line 3)) (1.22.4)\n",
            "Requirement already satisfied: scipy in /usr/local/lib/python3.10/dist-packages (from -r requirements-pip.txt (line 4)) (1.10.1)\n",
            "Collecting tokenizers\n",
            "  Downloading tokenizers-0.13.3-cp310-cp310-manylinux_2_17_x86_64.manylinux2014_x86_64.whl (7.8 MB)\n",
            "\u001b[2K     \u001b[90m━━━━━━━━━━━━━━━━━━━━━━━━━━━━━━━━━━━━━━━━\u001b[0m \u001b[32m7.8/7.8 MB\u001b[0m \u001b[31m43.5 MB/s\u001b[0m eta \u001b[36m0:00:00\u001b[0m\n",
            "\u001b[?25hRequirement already satisfied: torch in /usr/local/lib/python3.10/dist-packages (from -r requirements-pip.txt (line 6)) (2.0.0+cu118)\n",
            "Requirement already satisfied: tqdm in /usr/local/lib/python3.10/dist-packages (from -r requirements-pip.txt (line 7)) (4.65.0)\n",
            "Collecting transformers\n",
            "  Downloading transformers-4.28.1-py3-none-any.whl (7.0 MB)\n",
            "\u001b[2K     \u001b[90m━━━━━━━━━━━━━━━━━━━━━━━━━━━━━━━━━━━━━━━━\u001b[0m \u001b[32m7.0/7.0 MB\u001b[0m \u001b[31m47.4 MB/s\u001b[0m eta \u001b[36m0:00:00\u001b[0m\n",
            "\u001b[?25hRequirement already satisfied: ipython in /usr/local/lib/python3.10/dist-packages (from -r requirements-pip.txt (line 9)) (7.34.0)\n",
            "Collecting huggingface_hub>0.14\n",
            "  Downloading huggingface_hub-0.14.1-py3-none-any.whl (224 kB)\n",
            "\u001b[2K     \u001b[90m━━━━━━━━━━━━━━━━━━━━━━━━━━━━━━━━━━━━━━━\u001b[0m \u001b[32m224.5/224.5 kB\u001b[0m \u001b[31m8.2 MB/s\u001b[0m eta \u001b[36m0:00:00\u001b[0m\n",
            "\u001b[?25hRequirement already satisfied: rich in /usr/local/lib/python3.10/dist-packages (from -r requirements-pip.txt (line 11)) (13.3.4)\n",
            "Collecting pathvalidate\n",
            "  Downloading pathvalidate-2.5.2-py3-none-any.whl (20 kB)\n",
            "Collecting gradio\n",
            "  Downloading gradio-3.28.3-py3-none-any.whl (17.3 MB)\n",
            "\u001b[2K     \u001b[90m━━━━━━━━━━━━━━━━━━━━━━━━━━━━━━━━━━━━━━━━\u001b[0m \u001b[32m17.3/17.3 MB\u001b[0m \u001b[31m18.3 MB/s\u001b[0m eta \u001b[36m0:00:00\u001b[0m\n",
            "\u001b[?25hCollecting rich-argparse\n",
            "  Downloading rich_argparse-1.1.0-py3-none-any.whl (12 kB)\n",
            "Collecting encodec\n",
            "  Downloading encodec-0.1.1.tar.gz (3.7 MB)\n",
            "\u001b[2K     \u001b[90m━━━━━━━━━━━━━━━━━━━━━━━━━━━━━━━━━━━━━━━━\u001b[0m \u001b[32m3.7/3.7 MB\u001b[0m \u001b[31m39.1 MB/s\u001b[0m eta \u001b[36m0:00:00\u001b[0m\n",
            "\u001b[?25h  Preparing metadata (setup.py) ... \u001b[?25l\u001b[?25hdone\n",
            "Collecting jmespath<2.0.0,>=0.7.1\n",
            "  Downloading jmespath-1.0.1-py3-none-any.whl (20 kB)\n",
            "Collecting botocore<1.30.0,>=1.29.127\n",
            "  Downloading botocore-1.29.127-py3-none-any.whl (10.7 MB)\n",
            "\u001b[2K     \u001b[90m━━━━━━━━━━━━━━━━━━━━━━━━━━━━━━━━━━━━━━━━\u001b[0m \u001b[32m10.7/10.7 MB\u001b[0m \u001b[31m27.6 MB/s\u001b[0m eta \u001b[36m0:00:00\u001b[0m\n",
            "\u001b[?25hCollecting s3transfer<0.7.0,>=0.6.0\n",
            "  Downloading s3transfer-0.6.1-py3-none-any.whl (79 kB)\n",
            "\u001b[2K     \u001b[90m━━━━━━━━━━━━━━━━━━━━━━━━━━━━━━━━━━━━━━━━\u001b[0m \u001b[32m79.8/79.8 kB\u001b[0m \u001b[31m7.0 MB/s\u001b[0m eta \u001b[36m0:00:00\u001b[0m\n",
            "\u001b[?25hRequirement already satisfied: jinja2 in /usr/local/lib/python3.10/dist-packages (from torch->-r requirements-pip.txt (line 6)) (3.1.2)\n",
            "Requirement already satisfied: sympy in /usr/local/lib/python3.10/dist-packages (from torch->-r requirements-pip.txt (line 6)) (1.11.1)\n",
            "Requirement already satisfied: networkx in /usr/local/lib/python3.10/dist-packages (from torch->-r requirements-pip.txt (line 6)) (3.1)\n",
            "Requirement already satisfied: triton==2.0.0 in /usr/local/lib/python3.10/dist-packages (from torch->-r requirements-pip.txt (line 6)) (2.0.0)\n",
            "Requirement already satisfied: typing-extensions in /usr/local/lib/python3.10/dist-packages (from torch->-r requirements-pip.txt (line 6)) (4.5.0)\n",
            "Requirement already satisfied: filelock in /usr/local/lib/python3.10/dist-packages (from torch->-r requirements-pip.txt (line 6)) (3.12.0)\n",
            "Requirement already satisfied: cmake in /usr/local/lib/python3.10/dist-packages (from triton==2.0.0->torch->-r requirements-pip.txt (line 6)) (3.25.2)\n",
            "Requirement already satisfied: lit in /usr/local/lib/python3.10/dist-packages (from triton==2.0.0->torch->-r requirements-pip.txt (line 6)) (16.0.2)\n",
            "Requirement already satisfied: packaging>=20.0 in /usr/local/lib/python3.10/dist-packages (from transformers->-r requirements-pip.txt (line 8)) (23.1)\n",
            "Requirement already satisfied: requests in /usr/local/lib/python3.10/dist-packages (from transformers->-r requirements-pip.txt (line 8)) (2.27.1)\n",
            "Requirement already satisfied: pyyaml>=5.1 in /usr/local/lib/python3.10/dist-packages (from transformers->-r requirements-pip.txt (line 8)) (6.0)\n",
            "Requirement already satisfied: regex!=2019.12.17 in /usr/local/lib/python3.10/dist-packages (from transformers->-r requirements-pip.txt (line 8)) (2022.10.31)\n",
            "Requirement already satisfied: pygments in /usr/local/lib/python3.10/dist-packages (from ipython->-r requirements-pip.txt (line 9)) (2.14.0)\n",
            "Requirement already satisfied: setuptools>=18.5 in /usr/local/lib/python3.10/dist-packages (from ipython->-r requirements-pip.txt (line 9)) (67.7.2)\n",
            "Requirement already satisfied: traitlets>=4.2 in /usr/local/lib/python3.10/dist-packages (from ipython->-r requirements-pip.txt (line 9)) (5.7.1)\n",
            "Requirement already satisfied: pickleshare in /usr/local/lib/python3.10/dist-packages (from ipython->-r requirements-pip.txt (line 9)) (0.7.5)\n",
            "Requirement already satisfied: prompt-toolkit!=3.0.0,!=3.0.1,<3.1.0,>=2.0.0 in /usr/local/lib/python3.10/dist-packages (from ipython->-r requirements-pip.txt (line 9)) (3.0.38)\n",
            "Requirement already satisfied: pexpect>4.3 in /usr/local/lib/python3.10/dist-packages (from ipython->-r requirements-pip.txt (line 9)) (4.8.0)\n",
            "Requirement already satisfied: matplotlib-inline in /usr/local/lib/python3.10/dist-packages (from ipython->-r requirements-pip.txt (line 9)) (0.1.6)\n",
            "Collecting jedi>=0.16\n",
            "  Downloading jedi-0.18.2-py2.py3-none-any.whl (1.6 MB)\n",
            "\u001b[2K     \u001b[90m━━━━━━━━━━━━━━━━━━━━━━━━━━━━━━━━━━━━━━━━\u001b[0m \u001b[32m1.6/1.6 MB\u001b[0m \u001b[31m41.4 MB/s\u001b[0m eta \u001b[36m0:00:00\u001b[0m\n",
            "\u001b[?25hRequirement already satisfied: decorator in /usr/local/lib/python3.10/dist-packages (from ipython->-r requirements-pip.txt (line 9)) (4.4.2)\n",
            "Requirement already satisfied: backcall in /usr/local/lib/python3.10/dist-packages (from ipython->-r requirements-pip.txt (line 9)) (0.2.0)\n",
            "Requirement already satisfied: fsspec in /usr/local/lib/python3.10/dist-packages (from huggingface_hub>0.14->-r requirements-pip.txt (line 10)) (2023.4.0)\n",
            "Requirement already satisfied: markdown-it-py<3.0.0,>=2.2.0 in /usr/local/lib/python3.10/dist-packages (from rich->-r requirements-pip.txt (line 11)) (2.2.0)\n",
            "Collecting orjson\n",
            "  Downloading orjson-3.8.11-cp310-cp310-manylinux_2_28_x86_64.whl (135 kB)\n",
            "\u001b[2K     \u001b[90m━━━━━━━━━━━━━━━━━━━━━━━━━━━━━━━━━━━━━━━\u001b[0m \u001b[32m135.6/135.6 kB\u001b[0m \u001b[31m3.8 MB/s\u001b[0m eta \u001b[36m0:00:00\u001b[0m\n",
            "\u001b[?25hRequirement already satisfied: pydantic in /usr/local/lib/python3.10/dist-packages (from gradio->-r requirements-pip.txt (line 13)) (1.10.7)\n",
            "Collecting mdit-py-plugins<=0.3.3\n",
            "  Downloading mdit_py_plugins-0.3.3-py3-none-any.whl (50 kB)\n",
            "\u001b[2K     \u001b[90m━━━━━━━━━━━━━━━━━━━━━━━━━━━━━━━━━━━━━━━━\u001b[0m \u001b[32m50.5/50.5 kB\u001b[0m \u001b[31m5.0 MB/s\u001b[0m eta \u001b[36m0:00:00\u001b[0m\n",
            "\u001b[?25hCollecting aiohttp\n",
            "  Downloading aiohttp-3.8.4-cp310-cp310-manylinux_2_17_x86_64.manylinux2014_x86_64.whl (1.0 MB)\n",
            "\u001b[2K     \u001b[90m━━━━━━━━━━━━━━━━━━━━━━━━━━━━━━━━━━━━━━━━\u001b[0m \u001b[32m1.0/1.0 MB\u001b[0m \u001b[31m32.3 MB/s\u001b[0m eta \u001b[36m0:00:00\u001b[0m\n",
            "\u001b[?25hRequirement already satisfied: altair>=4.2.0 in /usr/local/lib/python3.10/dist-packages (from gradio->-r requirements-pip.txt (line 13)) (4.2.2)\n",
            "Requirement already satisfied: matplotlib in /usr/local/lib/python3.10/dist-packages (from gradio->-r requirements-pip.txt (line 13)) (3.7.1)\n",
            "Collecting fastapi\n",
            "  Downloading fastapi-0.95.1-py3-none-any.whl (56 kB)\n",
            "\u001b[2K     \u001b[90m━━━━━━━━━━━━━━━━━━━━━━━━━━━━━━━━━━━━━━━━\u001b[0m \u001b[32m57.0/57.0 kB\u001b[0m \u001b[31m1.6 MB/s\u001b[0m eta \u001b[36m0:00:00\u001b[0m\n",
            "\u001b[?25hCollecting aiofiles\n",
            "  Downloading aiofiles-23.1.0-py3-none-any.whl (14 kB)\n",
            "Requirement already satisfied: pandas in /usr/local/lib/python3.10/dist-packages (from gradio->-r requirements-pip.txt (line 13)) (1.5.3)\n",
            "Collecting semantic-version\n",
            "  Downloading semantic_version-2.10.0-py2.py3-none-any.whl (15 kB)\n",
            "Collecting websockets>=10.0\n",
            "  Downloading websockets-11.0.2-cp310-cp310-manylinux_2_5_x86_64.manylinux1_x86_64.manylinux_2_17_x86_64.manylinux2014_x86_64.whl (129 kB)\n",
            "\u001b[2K     \u001b[90m━━━━━━━━━━━━━━━━━━━━━━━━━━━━━━━━━━━━━━━\u001b[0m \u001b[32m129.9/129.9 kB\u001b[0m \u001b[31m8.0 MB/s\u001b[0m eta \u001b[36m0:00:00\u001b[0m\n",
            "\u001b[?25hRequirement already satisfied: pillow in /usr/local/lib/python3.10/dist-packages (from gradio->-r requirements-pip.txt (line 13)) (8.4.0)\n",
            "Requirement already satisfied: markupsafe in /usr/local/lib/python3.10/dist-packages (from gradio->-r requirements-pip.txt (line 13)) (2.1.2)\n",
            "Collecting httpx\n",
            "  Downloading httpx-0.24.0-py3-none-any.whl (75 kB)\n",
            "\u001b[2K     \u001b[90m━━━━━━━━━━━━━━━━━━━━━━━━━━━━━━━━━━━━━━━━\u001b[0m \u001b[32m75.3/75.3 kB\u001b[0m \u001b[31m5.3 MB/s\u001b[0m eta \u001b[36m0:00:00\u001b[0m\n",
            "\u001b[?25hCollecting uvicorn\n",
            "  Downloading uvicorn-0.22.0-py3-none-any.whl (58 kB)\n",
            "\u001b[2K     \u001b[90m━━━━━━━━━━━━━━━━━━━━━━━━━━━━━━━━━━━━━━━━\u001b[0m \u001b[32m58.3/58.3 kB\u001b[0m \u001b[31m5.2 MB/s\u001b[0m eta \u001b[36m0:00:00\u001b[0m\n",
            "\u001b[?25hCollecting python-multipart\n",
            "  Downloading python_multipart-0.0.6-py3-none-any.whl (45 kB)\n",
            "\u001b[2K     \u001b[90m━━━━━━━━━━━━━━━━━━━━━━━━━━━━━━━━━━━━━━━━\u001b[0m \u001b[32m45.7/45.7 kB\u001b[0m \u001b[31m3.6 MB/s\u001b[0m eta \u001b[36m0:00:00\u001b[0m\n",
            "\u001b[?25hCollecting gradio-client>=0.1.3\n",
            "  Downloading gradio_client-0.1.4-py3-none-any.whl (286 kB)\n",
            "\u001b[2K     \u001b[90m━━━━━━━━━━━━━━━━━━━━━━━━━━━━━━━━━━━━━━\u001b[0m \u001b[32m286.7/286.7 kB\u001b[0m \u001b[31m22.6 MB/s\u001b[0m eta \u001b[36m0:00:00\u001b[0m\n",
            "\u001b[?25hCollecting pydub\n",
            "  Downloading pydub-0.25.1-py2.py3-none-any.whl (32 kB)\n",
            "Collecting ffmpy\n",
            "  Downloading ffmpy-0.3.0.tar.gz (4.8 kB)\n",
            "  Preparing metadata (setup.py) ... \u001b[?25l\u001b[?25hdone\n",
            "Requirement already satisfied: torchaudio in /usr/local/lib/python3.10/dist-packages (from encodec->-r requirements-pip.txt (line 15)) (2.0.1+cu118)\n",
            "Collecting einops\n",
            "  Downloading einops-0.6.1-py3-none-any.whl (42 kB)\n",
            "\u001b[2K     \u001b[90m━━━━━━━━━━━━━━━━━━━━━━━━━━━━━━━━━━━━━━━━\u001b[0m \u001b[32m42.2/42.2 kB\u001b[0m \u001b[31m3.3 MB/s\u001b[0m eta \u001b[36m0:00:00\u001b[0m\n",
            "\u001b[?25hRequirement already satisfied: jsonschema>=3.0 in /usr/local/lib/python3.10/dist-packages (from altair>=4.2.0->gradio->-r requirements-pip.txt (line 13)) (4.3.3)\n",
            "Requirement already satisfied: entrypoints in /usr/local/lib/python3.10/dist-packages (from altair>=4.2.0->gradio->-r requirements-pip.txt (line 13)) (0.4)\n",
            "Requirement already satisfied: toolz in /usr/local/lib/python3.10/dist-packages (from altair>=4.2.0->gradio->-r requirements-pip.txt (line 13)) (0.12.0)\n",
            "Requirement already satisfied: python-dateutil<3.0.0,>=2.1 in /usr/local/lib/python3.10/dist-packages (from botocore<1.30.0,>=1.29.127->boto3->-r requirements-pip.txt (line 1)) (2.8.2)\n",
            "Requirement already satisfied: urllib3<1.27,>=1.25.4 in /usr/local/lib/python3.10/dist-packages (from botocore<1.30.0,>=1.29.127->boto3->-r requirements-pip.txt (line 1)) (1.26.15)\n",
            "Requirement already satisfied: parso<0.9.0,>=0.8.0 in /usr/local/lib/python3.10/dist-packages (from jedi>=0.16->ipython->-r requirements-pip.txt (line 9)) (0.8.3)\n",
            "Requirement already satisfied: mdurl~=0.1 in /usr/local/lib/python3.10/dist-packages (from markdown-it-py<3.0.0,>=2.2.0->rich->-r requirements-pip.txt (line 11)) (0.1.2)\n",
            "Collecting linkify-it-py<3,>=1\n",
            "  Downloading linkify_it_py-2.0.2-py3-none-any.whl (19 kB)\n",
            "Requirement already satisfied: pytz>=2020.1 in /usr/local/lib/python3.10/dist-packages (from pandas->gradio->-r requirements-pip.txt (line 13)) (2022.7.1)\n",
            "Requirement already satisfied: ptyprocess>=0.5 in /usr/local/lib/python3.10/dist-packages (from pexpect>4.3->ipython->-r requirements-pip.txt (line 9)) (0.7.0)\n",
            "Requirement already satisfied: wcwidth in /usr/local/lib/python3.10/dist-packages (from prompt-toolkit!=3.0.0,!=3.0.1,<3.1.0,>=2.0.0->ipython->-r requirements-pip.txt (line 9)) (0.2.6)\n",
            "Requirement already satisfied: charset-normalizer<4.0,>=2.0 in /usr/local/lib/python3.10/dist-packages (from aiohttp->gradio->-r requirements-pip.txt (line 13)) (2.0.12)\n",
            "Collecting yarl<2.0,>=1.0\n",
            "  Downloading yarl-1.9.2-cp310-cp310-manylinux_2_17_x86_64.manylinux2014_x86_64.whl (268 kB)\n",
            "\u001b[2K     \u001b[90m━━━━━━━━━━━━━━━━━━━━━━━━━━━━━━━━━━━━━━━\u001b[0m \u001b[32m268.8/268.8 kB\u001b[0m \u001b[31m8.3 MB/s\u001b[0m eta \u001b[36m0:00:00\u001b[0m\n",
            "\u001b[?25hCollecting multidict<7.0,>=4.5\n",
            "  Downloading multidict-6.0.4-cp310-cp310-manylinux_2_17_x86_64.manylinux2014_x86_64.whl (114 kB)\n",
            "\u001b[2K     \u001b[90m━━━━━━━━━━━━━━━━━━━━━━━━━━━━━━━━━━━━━━━\u001b[0m \u001b[32m114.5/114.5 kB\u001b[0m \u001b[31m5.0 MB/s\u001b[0m eta \u001b[36m0:00:00\u001b[0m\n",
            "\u001b[?25hCollecting async-timeout<5.0,>=4.0.0a3\n",
            "  Downloading async_timeout-4.0.2-py3-none-any.whl (5.8 kB)\n",
            "Collecting frozenlist>=1.1.1\n",
            "  Downloading frozenlist-1.3.3-cp310-cp310-manylinux_2_5_x86_64.manylinux1_x86_64.manylinux_2_17_x86_64.manylinux2014_x86_64.whl (149 kB)\n",
            "\u001b[2K     \u001b[90m━━━━━━━━━━━━━━━━━━━━━━━━━━━━━━━━━━━━━━\u001b[0m \u001b[32m149.6/149.6 kB\u001b[0m \u001b[31m18.5 MB/s\u001b[0m eta \u001b[36m0:00:00\u001b[0m\n",
            "\u001b[?25hRequirement already satisfied: attrs>=17.3.0 in /usr/local/lib/python3.10/dist-packages (from aiohttp->gradio->-r requirements-pip.txt (line 13)) (23.1.0)\n",
            "Collecting aiosignal>=1.1.2\n",
            "  Downloading aiosignal-1.3.1-py3-none-any.whl (7.6 kB)\n",
            "Collecting starlette<0.27.0,>=0.26.1\n",
            "  Downloading starlette-0.26.1-py3-none-any.whl (66 kB)\n",
            "\u001b[2K     \u001b[90m━━━━━━━━━━━━━━━━━━━━━━━━━━━━━━━━━━━━━━━━\u001b[0m \u001b[32m66.9/66.9 kB\u001b[0m \u001b[31m9.3 MB/s\u001b[0m eta \u001b[36m0:00:00\u001b[0m\n",
            "\u001b[?25hRequirement already satisfied: idna in /usr/local/lib/python3.10/dist-packages (from httpx->gradio->-r requirements-pip.txt (line 13)) (3.4)\n",
            "Requirement already satisfied: certifi in /usr/local/lib/python3.10/dist-packages (from httpx->gradio->-r requirements-pip.txt (line 13)) (2022.12.7)\n",
            "Requirement already satisfied: sniffio in /usr/local/lib/python3.10/dist-packages (from httpx->gradio->-r requirements-pip.txt (line 13)) (1.3.0)\n",
            "Collecting httpcore<0.18.0,>=0.15.0\n",
            "  Downloading httpcore-0.17.0-py3-none-any.whl (70 kB)\n",
            "\u001b[2K     \u001b[90m━━━━━━━━━━━━━━━━━━━━━━━━━━━━━━━━━━━━━━━━\u001b[0m \u001b[32m70.6/70.6 kB\u001b[0m \u001b[31m9.7 MB/s\u001b[0m eta \u001b[36m0:00:00\u001b[0m\n",
            "\u001b[?25hRequirement already satisfied: kiwisolver>=1.0.1 in /usr/local/lib/python3.10/dist-packages (from matplotlib->gradio->-r requirements-pip.txt (line 13)) (1.4.4)\n",
            "Requirement already satisfied: fonttools>=4.22.0 in /usr/local/lib/python3.10/dist-packages (from matplotlib->gradio->-r requirements-pip.txt (line 13)) (4.39.3)\n",
            "Requirement already satisfied: cycler>=0.10 in /usr/local/lib/python3.10/dist-packages (from matplotlib->gradio->-r requirements-pip.txt (line 13)) (0.11.0)\n",
            "Requirement already satisfied: contourpy>=1.0.1 in /usr/local/lib/python3.10/dist-packages (from matplotlib->gradio->-r requirements-pip.txt (line 13)) (1.0.7)\n",
            "Requirement already satisfied: pyparsing>=2.3.1 in /usr/local/lib/python3.10/dist-packages (from matplotlib->gradio->-r requirements-pip.txt (line 13)) (3.0.9)\n",
            "Requirement already satisfied: mpmath>=0.19 in /usr/local/lib/python3.10/dist-packages (from sympy->torch->-r requirements-pip.txt (line 6)) (1.3.0)\n",
            "Collecting h11>=0.8\n",
            "  Downloading h11-0.14.0-py3-none-any.whl (58 kB)\n",
            "\u001b[2K     \u001b[90m━━━━━━━━━━━━━━━━━━━━━━━━━━━━━━━━━━━━━━━━\u001b[0m \u001b[32m58.3/58.3 kB\u001b[0m \u001b[31m8.9 MB/s\u001b[0m eta \u001b[36m0:00:00\u001b[0m\n",
            "\u001b[?25hRequirement already satisfied: click>=7.0 in /usr/local/lib/python3.10/dist-packages (from uvicorn->gradio->-r requirements-pip.txt (line 13)) (8.1.3)\n",
            "Requirement already satisfied: anyio<5.0,>=3.0 in /usr/local/lib/python3.10/dist-packages (from httpcore<0.18.0,>=0.15.0->httpx->gradio->-r requirements-pip.txt (line 13)) (3.6.2)\n",
            "Requirement already satisfied: pyrsistent!=0.17.0,!=0.17.1,!=0.17.2,>=0.14.0 in /usr/local/lib/python3.10/dist-packages (from jsonschema>=3.0->altair>=4.2.0->gradio->-r requirements-pip.txt (line 13)) (0.19.3)\n",
            "Collecting uc-micro-py\n",
            "  Downloading uc_micro_py-1.0.2-py3-none-any.whl (6.2 kB)\n",
            "Requirement already satisfied: six>=1.5 in /usr/local/lib/python3.10/dist-packages (from python-dateutil<3.0.0,>=2.1->botocore<1.30.0,>=1.29.127->boto3->-r requirements-pip.txt (line 1)) (1.16.0)\n",
            "Building wheels for collected packages: encodec, ffmpy\n",
            "  Building wheel for encodec (setup.py) ... \u001b[?25l\u001b[?25hdone\n",
            "  Created wheel for encodec: filename=encodec-0.1.1-py3-none-any.whl size=45775 sha256=ae6d7ae7f26b67ff1f85c0796a4667ad718afe03d2022aaf7101c04ffa0b1ea6\n",
            "  Stored in directory: /root/.cache/pip/wheels/fc/36/cb/81af8b985a5f5e0815312d5e52b41263237af07b977e6bcbf3\n",
            "  Building wheel for ffmpy (setup.py) ... \u001b[?25l\u001b[?25hdone\n",
            "  Created wheel for ffmpy: filename=ffmpy-0.3.0-py3-none-any.whl size=4707 sha256=c518f743cf08b3a29684aad34e2e623eb5bc2170d19257d0c45d383bcdd456eb\n",
            "  Stored in directory: /root/.cache/pip/wheels/0c/c2/0e/3b9c6845c6a4e35beb90910cc70d9ac9ab5d47402bd62af0df\n",
            "Successfully built encodec ffmpy\n",
            "Installing collected packages: tokenizers, pydub, funcy, ffmpy, websockets, uc-micro-py, semantic-version, python-multipart, pathvalidate, orjson, multidict, jmespath, jedi, h11, frozenlist, einops, async-timeout, aiofiles, yarl, uvicorn, starlette, mdit-py-plugins, linkify-it-py, huggingface_hub, httpcore, botocore, aiosignal, transformers, s3transfer, rich-argparse, httpx, fastapi, aiohttp, gradio-client, boto3, gradio, encodec\n",
            "Successfully installed aiofiles-23.1.0 aiohttp-3.8.4 aiosignal-1.3.1 async-timeout-4.0.2 boto3-1.26.127 botocore-1.29.127 einops-0.6.1 encodec-0.1.1 fastapi-0.95.1 ffmpy-0.3.0 frozenlist-1.3.3 funcy-2.0 gradio-3.28.3 gradio-client-0.1.4 h11-0.14.0 httpcore-0.17.0 httpx-0.24.0 huggingface_hub-0.14.1 jedi-0.18.2 jmespath-1.0.1 linkify-it-py-2.0.2 mdit-py-plugins-0.3.3 multidict-6.0.4 orjson-3.8.11 pathvalidate-2.5.2 pydub-0.25.1 python-multipart-0.0.6 rich-argparse-1.1.0 s3transfer-0.6.1 semantic-version-2.10.0 starlette-0.26.1 tokenizers-0.13.3 transformers-4.28.1 uc-micro-py-1.0.2 uvicorn-0.22.0 websockets-11.0.2 yarl-1.9.2\n",
            "Looking in indexes: https://pypi.org/simple, https://us-python.pkg.dev/colab-wheels/public/simple/\n",
            "Requirement already satisfied: encodec in /usr/local/lib/python3.10/dist-packages (0.1.1)\n",
            "Requirement already satisfied: rich-argparse in /usr/local/lib/python3.10/dist-packages (1.1.0)\n",
            "Requirement already satisfied: numpy in /usr/local/lib/python3.10/dist-packages (from encodec) (1.22.4)\n",
            "Requirement already satisfied: torchaudio in /usr/local/lib/python3.10/dist-packages (from encodec) (2.0.1+cu118)\n",
            "Requirement already satisfied: torch in /usr/local/lib/python3.10/dist-packages (from encodec) (2.0.0+cu118)\n",
            "Requirement already satisfied: einops in /usr/local/lib/python3.10/dist-packages (from encodec) (0.6.1)\n",
            "Requirement already satisfied: rich>=11.0.0 in /usr/local/lib/python3.10/dist-packages (from rich-argparse) (13.3.4)\n",
            "Requirement already satisfied: markdown-it-py<3.0.0,>=2.2.0 in /usr/local/lib/python3.10/dist-packages (from rich>=11.0.0->rich-argparse) (2.2.0)\n",
            "Requirement already satisfied: pygments<3.0.0,>=2.13.0 in /usr/local/lib/python3.10/dist-packages (from rich>=11.0.0->rich-argparse) (2.14.0)\n",
            "Requirement already satisfied: filelock in /usr/local/lib/python3.10/dist-packages (from torch->encodec) (3.12.0)\n",
            "Requirement already satisfied: networkx in /usr/local/lib/python3.10/dist-packages (from torch->encodec) (3.1)\n",
            "Requirement already satisfied: jinja2 in /usr/local/lib/python3.10/dist-packages (from torch->encodec) (3.1.2)\n",
            "Requirement already satisfied: triton==2.0.0 in /usr/local/lib/python3.10/dist-packages (from torch->encodec) (2.0.0)\n",
            "Requirement already satisfied: typing-extensions in /usr/local/lib/python3.10/dist-packages (from torch->encodec) (4.5.0)\n",
            "Requirement already satisfied: sympy in /usr/local/lib/python3.10/dist-packages (from torch->encodec) (1.11.1)\n",
            "Requirement already satisfied: lit in /usr/local/lib/python3.10/dist-packages (from triton==2.0.0->torch->encodec) (16.0.2)\n",
            "Requirement already satisfied: cmake in /usr/local/lib/python3.10/dist-packages (from triton==2.0.0->torch->encodec) (3.25.2)\n",
            "Requirement already satisfied: mdurl~=0.1 in /usr/local/lib/python3.10/dist-packages (from markdown-it-py<3.0.0,>=2.2.0->rich>=11.0.0->rich-argparse) (0.1.2)\n",
            "Requirement already satisfied: MarkupSafe>=2.0 in /usr/local/lib/python3.10/dist-packages (from jinja2->torch->encodec) (2.1.2)\n",
            "Requirement already satisfied: mpmath>=0.19 in /usr/local/lib/python3.10/dist-packages (from sympy->torch->encodec) (1.3.0)\n",
            "Looking in indexes: https://pypi.org/simple, https://us-python.pkg.dev/colab-wheels/public/simple/\n",
            "Requirement already satisfied: librosa in /usr/local/lib/python3.10/dist-packages (0.10.0.post2)\n",
            "Requirement already satisfied: pydub in /usr/local/lib/python3.10/dist-packages (0.25.1)\n",
            "Requirement already satisfied: scipy>=1.2.0 in /usr/local/lib/python3.10/dist-packages (from librosa) (1.10.1)\n",
            "Requirement already satisfied: numba>=0.51.0 in /usr/local/lib/python3.10/dist-packages (from librosa) (0.56.4)\n",
            "Requirement already satisfied: scikit-learn>=0.20.0 in /usr/local/lib/python3.10/dist-packages (from librosa) (1.2.2)\n",
            "Requirement already satisfied: decorator>=4.3.0 in /usr/local/lib/python3.10/dist-packages (from librosa) (4.4.2)\n",
            "Requirement already satisfied: msgpack>=1.0 in /usr/local/lib/python3.10/dist-packages (from librosa) (1.0.5)\n",
            "Requirement already satisfied: soundfile>=0.12.1 in /usr/local/lib/python3.10/dist-packages (from librosa) (0.12.1)\n",
            "Requirement already satisfied: joblib>=0.14 in /usr/local/lib/python3.10/dist-packages (from librosa) (1.2.0)\n",
            "Requirement already satisfied: numpy!=1.22.0,!=1.22.1,!=1.22.2,>=1.20.3 in /usr/local/lib/python3.10/dist-packages (from librosa) (1.22.4)\n",
            "Requirement already satisfied: soxr>=0.3.2 in /usr/local/lib/python3.10/dist-packages (from librosa) (0.3.5)\n",
            "Requirement already satisfied: audioread>=2.1.9 in /usr/local/lib/python3.10/dist-packages (from librosa) (3.0.0)\n",
            "Requirement already satisfied: pooch<1.7,>=1.0 in /usr/local/lib/python3.10/dist-packages (from librosa) (1.6.0)\n",
            "Requirement already satisfied: typing-extensions>=4.1.1 in /usr/local/lib/python3.10/dist-packages (from librosa) (4.5.0)\n",
            "Requirement already satisfied: lazy-loader>=0.1 in /usr/local/lib/python3.10/dist-packages (from librosa) (0.2)\n",
            "Requirement already satisfied: llvmlite<0.40,>=0.39.0dev0 in /usr/local/lib/python3.10/dist-packages (from numba>=0.51.0->librosa) (0.39.1)\n",
            "Requirement already satisfied: setuptools in /usr/local/lib/python3.10/dist-packages (from numba>=0.51.0->librosa) (67.7.2)\n",
            "Requirement already satisfied: packaging>=20.0 in /usr/local/lib/python3.10/dist-packages (from pooch<1.7,>=1.0->librosa) (23.1)\n",
            "Requirement already satisfied: requests>=2.19.0 in /usr/local/lib/python3.10/dist-packages (from pooch<1.7,>=1.0->librosa) (2.27.1)\n",
            "Requirement already satisfied: appdirs>=1.3.0 in /usr/local/lib/python3.10/dist-packages (from pooch<1.7,>=1.0->librosa) (1.4.4)\n",
            "Requirement already satisfied: threadpoolctl>=2.0.0 in /usr/local/lib/python3.10/dist-packages (from scikit-learn>=0.20.0->librosa) (3.1.0)\n",
            "Requirement already satisfied: cffi>=1.0 in /usr/local/lib/python3.10/dist-packages (from soundfile>=0.12.1->librosa) (1.15.1)\n",
            "Requirement already satisfied: pycparser in /usr/local/lib/python3.10/dist-packages (from cffi>=1.0->soundfile>=0.12.1->librosa) (2.21)\n",
            "Requirement already satisfied: charset-normalizer~=2.0.0 in /usr/local/lib/python3.10/dist-packages (from requests>=2.19.0->pooch<1.7,>=1.0->librosa) (2.0.12)\n",
            "Requirement already satisfied: urllib3<1.27,>=1.21.1 in /usr/local/lib/python3.10/dist-packages (from requests>=2.19.0->pooch<1.7,>=1.0->librosa) (1.26.15)\n",
            "Requirement already satisfied: idna<4,>=2.5 in /usr/local/lib/python3.10/dist-packages (from requests>=2.19.0->pooch<1.7,>=1.0->librosa) (3.4)\n",
            "Requirement already satisfied: certifi>=2017.4.17 in /usr/local/lib/python3.10/dist-packages (from requests>=2.19.0->pooch<1.7,>=1.0->librosa) (2022.12.7)\n"
          ]
        }
      ],
      "source": [
        "!git clone https://github.com/JonathanFly/bark.git\n",
        "%cd bark\n",
        "!pip install -r requirements-pip.txt\n",
        "!pip install encodec rich-argparse\n",
        "!pip install librosa pydub"
      ]
    },
    {
      "cell_type": "markdown",
      "metadata": {
        "id": "FHlxNCt3QwIr"
      },
      "source": [
        "## Run Once Per Notebook Restart (if files still exist)"
      ]
    },
    {
      "cell_type": "code",
      "execution_count": null,
      "metadata": {
        "id": "jKTvqvVkOwXM"
      },
      "outputs": [],
      "source": [
        "import os\n",
        "import time\n",
        "from bark_infinity import config\n",
        "import numpy as np\n",
        "\n",
        "logger = config.logger\n",
        "logger.setLevel(\"WARNING\")\n",
        "\n",
        "from bark_infinity import generation\n",
        "from bark_infinity import api\n",
        "\n",
        "import rich\n",
        "from rich import print\n",
        "from rich import pretty\n",
        "from rich.pretty import pprint\n",
        "from rich import inspect\n",
        "\n",
        "import librosa\n",
        "from pydub import AudioSegment\n",
        "import ipywidgets as widgets\n",
        "from IPython.display import display, Audio\n",
        "from io import BytesIO\n",
        "\n",
        "# None of this code, just fiddlign with Colab stuff\n",
        "# Just to save Colab with outputs and float32 wavs are GIGANTO\n",
        "# actually this doesn't work, the iPython widget converts it back to float32? or I messed up\n",
        "\n",
        "def display_audio_int16_but(audio_arr_segments, file_name, sample_rate=generation.SAMPLE_RATE,  width='200px'):\n",
        "    file_name_label = widgets.Label(value=f\"Playing: {file_name}\")\n",
        "    file_name_label.layout.width = width\n",
        "    audio_data_int16 = audio_arr_segments\n",
        "    if isinstance(audio_data_int16, list):\n",
        "        audio_data_int16 = np.concatenate(audio_data_int16)        \n",
        "\n",
        "    #audio_data_int16 = np.int16(audio_data_int16 * np.iinfo(np.int16).max)\n",
        "\n",
        "\n",
        "    audio_widget = Audio(audio_data_int16, rate=sample_rate)\n",
        "    display(file_name_label, audio_widget)\n",
        "    \n",
        "\n",
        "def on_button_click(button):\n",
        "    audio_data, sample_rate = librosa.load(button.wav_path, sr=None)\n",
        "    file_name = os.path.basename(button.wav_path)\n",
        "    display_audio_int16_but(audio_data,file_name, sample_rate)\n",
        "\n",
        "\n",
        "def display_wav_files(directory):\n",
        "    subdirs, wav_files = [], []\n",
        "    \n",
        "    for item in os.listdir(directory):\n",
        "        item_path = os.path.join(directory, item)\n",
        "        \n",
        "        if os.path.isfile(item_path) and item_path.endswith('.wav'):\n",
        "            wav_files.append(item_path)\n",
        "        elif os.path.isdir(item_path):\n",
        "            subdirs.append(item_path)\n",
        "\n",
        "    wav_files.sort(key=lambda x: os.path.basename(x))\n",
        "\n",
        "    for wav_file in wav_files:\n",
        "\n",
        "        filename = os.path.basename(wav_file)\n",
        "        print(f\" {filename}\")\n",
        "        button = widgets.Button(description=f\"Play {filename}\")\n",
        "        button.wav_path = wav_file  \n",
        "        button.on_click(on_button_click)\n",
        "        display(button)\n",
        "\n",
        "    for subdir in sorted(subdirs):\n",
        "        print(f\"<{subdir}>\")\n",
        "        display_wav_files(subdir)\n",
        "\n"
      ]
    },
    {
      "cell_type": "markdown",
      "metadata": {
        "id": "OTRtNy1xT1sI"
      },
      "source": [
        "## Generate\n"
      ]
    },
    {
      "cell_type": "markdown",
      "metadata": {
        "id": "LKLe_gYkQ59l"
      },
      "source": [
        "### Choose Bark Models"
      ]
    },
    {
      "cell_type": "code",
      "source": [
        "generation.OFFLOAD_CPU = False # On your home system set to True probably, but Colab GPU should have plenty of memory for all three models\n",
        "generation.preload_models() # Optional, will lazy load if not preloaded. First time run in New Colab has to download models"
      ],
      "metadata": {
        "colab": {
          "base_uri": "https://localhost:8080/",
          "height": 354,
          "referenced_widgets": [
            "027e4d85d7ec446ea17933b1fd4e676c",
            "32224d540c5244869462288f645951b1",
            "819711a97a6e4fe2b6633eae173b6575",
            "377b633bc3994b52bd0956243d09047a",
            "013a3a01de444015993f29262e764d31",
            "7b2d2049047b459c8e2262c40d0cfa45",
            "576df395690b4c0b99830552e2b31cd5",
            "d5c81d66785d4db3b57fbb92fcab58a8",
            "8169f42d4d8e4b73bb8d8219aa2e5470",
            "00a62ed0e2a7466487681968208fa3bb",
            "ced6cb4550d7488286be0b3638c24c84",
            "ce598375216545fb9f872b5885675ad6",
            "321a14b744234326bb8054b8054cbe2a",
            "9a705060d08f41b4ab63838cc18a0b26",
            "e49e13dba43747fe8eef104ae9dc29bb",
            "f5ca8b4b942f43f589aa8a32195129a5",
            "1bfd3dcb8838423292eac4f14fb91826",
            "e552b786de384492b19c100cd80eade6",
            "7b37d306a0d54a24ae2c2c608874ee3e",
            "62d32b94270c41f49616c042ef3fd247",
            "99537f40148e4a4693045a9c21f27922",
            "89b9dceaedc4486891f691662599a129",
            "0b01544340a146b0bd4a98c9e070afbe",
            "a78700fee93643aab26605c995accb20",
            "445436b5d19e4f579044ffcf054059ec",
            "52cc22a98c8a41248e970c236de3c54a",
            "c55c40e634874df9964171bd0e4dc8f1",
            "838e8cacd05f4b67b08dd8c9d47121f6",
            "a32e5dc742534acd840867b718b7de26",
            "6e04bc6dba3a48b98dcab93ca4f2d663",
            "8f6013de1c1e4b97b739ca9ccd6e6aa9",
            "ec2a76e0610c4ad98d65accdc4a76c00",
            "424eaff7db5f4a6f93b63f6f3689e925",
            "5bd22e64eae04001ac45ea6d7c0e7e87",
            "a497d371f1e544b9b78a5218264d1ff9",
            "fe12056cfa4e4f99b4d2f50f678e5ed1",
            "53b1192d99ed41c8a77977329884fec6",
            "6b014648489141fd961ef5f22ddf5fd7",
            "6b0ccecb9e134820a1fe274d30f59537",
            "8d6be754d6f44266875d523cc36a3440",
            "833a52e4023541568e8617ad3e55342e",
            "73fb07bc20f94d2f80cb52405489d541",
            "f8dfd5fc27974becbc62a34c26a47e59",
            "f05dbf93cf484f4fa2130048ea0bb3ef",
            "0196e347c9994627bbcc132d86b8422b",
            "f2bf510f5e67418f8bde74c11636e2a8",
            "1cf1934e32b74ff3a070b3c6ea1d8dc3",
            "3eaf9a0e62ed494e892905a1b29c68ad",
            "ebfb1dd8e70745b29ed93efa1d44fcad",
            "8d35ce696ee143fd95295652d6cd2977",
            "349f0786f9df43328291527f593435d8",
            "897fde99f5d248dcbe917779b5cc2526",
            "218c5f11039f43bb8496a6e21efcee91",
            "36247efa11dc494c8efc0afafaee5e7b",
            "bd8681508bcb4d7799036010537633ff",
            "dba563834f79488ab1516806c5df19b5",
            "5c088c4eeffa446c9bbc93ce2ece68da",
            "57e700ef080e41b68d3e0a42e4d6ca2d",
            "08f4442e9955495e8b9bb254cfca0635",
            "82395e07a76441d4a21f4f52d7c2d45c",
            "b5188eeb32ed40fc97da82c009515816",
            "5336744cf34c40bc83582a75abe5b366",
            "2f4e1836c7234e21a9dad9c6f0217a40",
            "d6e2321c74d84f8ebcdc6d4418f7afb3",
            "cd216b4627aa416cbf99ae82efe26a0f",
            "404e00dbe5d3426eb438034275151c2c"
          ]
        },
        "id": "QLa2jPOUjSyd",
        "outputId": "50727264-7675-4ac5-b539-735f31fb4a11"
      },
      "execution_count": null,
      "outputs": [
        {
          "output_type": "stream",
          "name": "stdout",
          "text": [
            "Downloading text suno/bark remote model file https://huggingface.co/suno/bark/resolve/main/text_2.pt text_2.pt to /root/.cache/suno/bark_v0\n"
          ]
        },
        {
          "output_type": "display_data",
          "data": {
            "text/plain": [
              "Downloading text_2.pt:   0%|          | 0.00/5.35G [00:00<?, ?B/s]"
            ],
            "application/vnd.jupyter.widget-view+json": {
              "version_major": 2,
              "version_minor": 0,
              "model_id": "027e4d85d7ec446ea17933b1fd4e676c"
            }
          },
          "metadata": {}
        },
        {
          "output_type": "stream",
          "name": "stdout",
          "text": [
            "Loading text model from /root/.cache/suno/bark_v0/text_2.pt to cuda\n"
          ]
        },
        {
          "output_type": "display_data",
          "data": {
            "text/plain": [
              "Downloading (…)solve/main/vocab.txt:   0%|          | 0.00/996k [00:00<?, ?B/s]"
            ],
            "application/vnd.jupyter.widget-view+json": {
              "version_major": 2,
              "version_minor": 0,
              "model_id": "ce598375216545fb9f872b5885675ad6"
            }
          },
          "metadata": {}
        },
        {
          "output_type": "display_data",
          "data": {
            "text/plain": [
              "Downloading (…)okenizer_config.json:   0%|          | 0.00/29.0 [00:00<?, ?B/s]"
            ],
            "application/vnd.jupyter.widget-view+json": {
              "version_major": 2,
              "version_minor": 0,
              "model_id": "0b01544340a146b0bd4a98c9e070afbe"
            }
          },
          "metadata": {}
        },
        {
          "output_type": "display_data",
          "data": {
            "text/plain": [
              "Downloading (…)lve/main/config.json:   0%|          | 0.00/625 [00:00<?, ?B/s]"
            ],
            "application/vnd.jupyter.widget-view+json": {
              "version_major": 2,
              "version_minor": 0,
              "model_id": "5bd22e64eae04001ac45ea6d7c0e7e87"
            }
          },
          "metadata": {}
        },
        {
          "output_type": "stream",
          "name": "stdout",
          "text": [
            "Downloading coarse suno/bark remote model file https://huggingface.co/suno/bark/resolve/main/coarse_2.pt coarse_2.pt to /root/.cache/suno/bark_v0\n"
          ]
        },
        {
          "output_type": "display_data",
          "data": {
            "text/plain": [
              "Downloading coarse_2.pt:   0%|          | 0.00/3.93G [00:00<?, ?B/s]"
            ],
            "application/vnd.jupyter.widget-view+json": {
              "version_major": 2,
              "version_minor": 0,
              "model_id": "0196e347c9994627bbcc132d86b8422b"
            }
          },
          "metadata": {}
        },
        {
          "output_type": "stream",
          "name": "stdout",
          "text": [
            "Loading coarse model from /root/.cache/suno/bark_v0/coarse_2.pt to cuda\n",
            "Downloading fine suno/bark remote model file https://huggingface.co/suno/bark/resolve/main/fine_2.pt fine_2.pt to /root/.cache/suno/bark_v0\n"
          ]
        },
        {
          "output_type": "display_data",
          "data": {
            "text/plain": [
              "Downloading fine_2.pt:   0%|          | 0.00/3.74G [00:00<?, ?B/s]"
            ],
            "application/vnd.jupyter.widget-view+json": {
              "version_major": 2,
              "version_minor": 0,
              "model_id": "dba563834f79488ab1516806c5df19b5"
            }
          },
          "metadata": {}
        },
        {
          "output_type": "stream",
          "name": "stdout",
          "text": [
            "Loading fine model from /root/.cache/suno/bark_v0/fine_2.pt to cuda\n"
          ]
        },
        {
          "output_type": "stream",
          "name": "stderr",
          "text": [
            "Downloading: \"https://dl.fbaipublicfiles.com/encodec/v0/encodec_24khz-d7cc33bc.th\" to /root/.cache/torch/hub/checkpoints/encodec_24khz-d7cc33bc.th\n",
            "100%|██████████| 88.9M/88.9M [00:00<00:00, 137MB/s]\n"
          ]
        }
      ]
    },
    {
      "cell_type": "markdown",
      "source": [
        "### Set Text and Other Generation Options"
      ],
      "metadata": {
        "id": "yPr_MuqFXZ5r"
      }
    },
    {
      "cell_type": "code",
      "execution_count": null,
      "metadata": {
        "id": "nTzF9iamO1Tm"
      },
      "outputs": [],
      "source": [
        "text = \"\"\"\n",
        "Hey, have you heard about this new text-to-audio model called \"Bark\"? \n",
        "It's like rain on your wedding day. It's a free ride when you've already paid. It's the good advice that you just didn't take.\n",
        "And who would've thought? It figures.\n",
        "\n",
        "Well, life has a funny way of sneaking up on you. When you think everything's okay and everything's going right. \n",
        "And life has a funny way of helping you out. When you think everything's gone wrong. \n",
        "And everything blows up in your face.\n",
        "\n",
        "It's a traffic jam when you're already late. A \"No smoking\" sign on your cigarette break.\n",
        "It's like ten thousand spoons when all you need is a knife. It's meeting the man of my dreams.\n",
        "And then meeting his beautiful wife.\n",
        "\n",
        "And isn't it ironic? Don't you think? A little too ironic.\n",
        "And yeah, I really do think.\n",
        "\"\"\"\n",
        "\n",
        "# FOr split set split_character_goal_length and split_character_max_length\n",
        "kwargs = {}\n",
        "\n",
        "kwargs = config.load_all_defaults()\n",
        "kwargs['text_prompt'] = text\n",
        "kwargs['hoarder_mode'] = True\n",
        "kwargs[\"output_dir\"] = 'bark_samples'\n",
        "kwargs[\"history_prompt\"] = None\n",
        "# kwargs[\"single_starting_seed\"] = None # \n",
        "# If you set seed you might want manually call generation.set_seed(-1) after to disable deterministic generation settings \n",
        "# I'm not cleaning up after this paramater at the moment and I'm not sure on other side effects\n",
        "kwargs[\"stable_mode_interval\"] = 1 # 0 for continous, 2,3,4 for mixed\n",
        "kwargs[\"split_character_goal_length\"] = 90\n",
        "kwargs[\"split_character_max_length\"] = 130\n",
        "# kwargs[\"output_iterations\"] = 1\n",
        "kwargs[\"add_silence_between_segments\"] = .025 # See: https://github.com/suno-ai/bark/blob/main/notebooks/long_form_generation.ipynb but not great for songs or stable_mode_interval 0\n",
        "kwargs[\"semantic_min_eos_p\"] = 0.05 # 0.20 is default, lower means more likely to stotp\n",
        "\n",
        "\n",
        "# not sure on overall effect so far from these, but for example:\n",
        "kwargs[\"semantic_top_k\"] = 50\n",
        "kwargs[\"semantic_top_p\"] = 0.95"
      ]
    },
    {
      "cell_type": "markdown",
      "source": [
        "### First Attempt"
      ],
      "metadata": {
        "id": "uuqkchecXnbm"
      }
    },
    {
      "cell_type": "markdown",
      "source": [
        "#### Before we run, let's double check out settings"
      ],
      "metadata": {
        "id": "6ANm93mHZIa6"
      }
    },
    {
      "cell_type": "code",
      "execution_count": null,
      "metadata": {
        "colab": {
          "base_uri": "https://localhost:8080/",
          "height": 582
        },
        "id": "6SPmYLSoQBBp",
        "outputId": "d896cba0-fc95-4343-ff59-57d822a71467"
      },
      "outputs": [
        {
          "output_type": "display_data",
          "data": {
            "text/plain": [
              "\u001b[3m                                               () Segment Breakdown                                                \u001b[0m\n",
              "┏━━━┳━━━━━━━┳━━━━━━━━━━━━┳━━━━━━━━━━━━━━━━━━━━━━━━━━━━━━━━━━━━━━━━━━━━━━━━━━━━━━━━━━━━━━━━━━━━━━━━━━━━━━━━━━━━━━━━┓\n",
              "┃\u001b[1m \u001b[0m\u001b[1m#\u001b[0m\u001b[1m \u001b[0m┃\u001b[1m \u001b[0m\u001b[1mWords\u001b[0m\u001b[1m \u001b[0m┃\u001b[1m \u001b[0m\u001b[1mTime Est  \u001b[0m\u001b[1m \u001b[0m┃\u001b[1m \u001b[0m\u001b[1mSplitting long text aiming for 110 chars max 175                                      \u001b[0m\u001b[1m \u001b[0m┃\n",
              "┡━━━╇━━━━━━━╇━━━━━━━━━━━━╇━━━━━━━━━━━━━━━━━━━━━━━━━━━━━━━━━━━━━━━━━━━━━━━━━━━━━━━━━━━━━━━━━━━━━━━━━━━━━━━━━━━━━━━━┩\n",
              "│\u001b[35m \u001b[0m\u001b[35m1\u001b[0m\u001b[35m \u001b[0m│\u001b[32m \u001b[0m\u001b[32m26   \u001b[0m\u001b[32m \u001b[0m│\u001b[32m \u001b[0m\u001b[32m10.40 secs\u001b[0m\u001b[32m \u001b[0m│ Hey, have you heard about this new text-to-audio model called \"Bark\"? It's like rain   │\n",
              "│\u001b[35m   \u001b[0m│\u001b[32m       \u001b[0m│\u001b[32m            \u001b[0m│ on your wedding day. It's a free ride when you've already paid.                        │\n",
              "├───┼───────┼────────────┼────────────────────────────────────────────────────────────────────────────────────────┤\n",
              "│\u001b[35m \u001b[0m\u001b[35m2\u001b[0m\u001b[35m \u001b[0m│\u001b[32m \u001b[0m\u001b[32m26   \u001b[0m\u001b[32m \u001b[0m│\u001b[32m \u001b[0m\u001b[32m10.40 secs\u001b[0m\u001b[32m \u001b[0m│ It's the good advice that you just didn't take. And who would've thought? It figures.  │\n",
              "│\u001b[35m   \u001b[0m│\u001b[32m       \u001b[0m│\u001b[32m            \u001b[0m│ Well, life has a funny way of sneaking up on you.                                      │\n",
              "├───┼───────┼────────────┼────────────────────────────────────────────────────────────────────────────────────────┤\n",
              "│\u001b[35m \u001b[0m\u001b[35m3\u001b[0m\u001b[35m \u001b[0m│\u001b[32m \u001b[0m\u001b[32m25   \u001b[0m\u001b[32m \u001b[0m│\u001b[32m \u001b[0m\u001b[32m10.00 secs\u001b[0m\u001b[32m \u001b[0m│ When you think everything's okay and everything's going right. And life has a funny    │\n",
              "│\u001b[35m   \u001b[0m│\u001b[32m       \u001b[0m│\u001b[32m            \u001b[0m│ way of helping you out. When you think everything's gone wrong.                        │\n",
              "├───┼───────┼────────────┼────────────────────────────────────────────────────────────────────────────────────────┤\n",
              "│\u001b[35m \u001b[0m\u001b[35m4\u001b[0m\u001b[35m \u001b[0m│\u001b[32m \u001b[0m\u001b[32m23   \u001b[0m\u001b[32m \u001b[0m│\u001b[32m \u001b[0m\u001b[32m9.20 secs \u001b[0m\u001b[32m \u001b[0m│ And everything blows up in your face. It's a traffic jam when you're already late. A   │\n",
              "│\u001b[35m   \u001b[0m│\u001b[32m       \u001b[0m│\u001b[32m            \u001b[0m│ \"No smoking\" sign on your cigarette break.                                             │\n",
              "├───┼───────┼────────────┼────────────────────────────────────────────────────────────────────────────────────────┤\n",
              "│\u001b[35m \u001b[0m\u001b[35m5\u001b[0m\u001b[35m \u001b[0m│\u001b[32m \u001b[0m\u001b[32m32   \u001b[0m\u001b[32m \u001b[0m│\u001b[32m \u001b[0m\u001b[32m12.80 secs\u001b[0m\u001b[32m \u001b[0m│ It's like ten thousand spoons when all you need is a knife. It's meeting the man of my │\n",
              "│\u001b[35m   \u001b[0m│\u001b[32m       \u001b[0m│\u001b[32m            \u001b[0m│ dreams. And then meeting his beautiful wife. And isn't it ironic? Don't you think?     │\n",
              "├───┼───────┼────────────┼────────────────────────────────────────────────────────────────────────────────────────┤\n",
              "│\u001b[35m \u001b[0m\u001b[35m6\u001b[0m\u001b[35m \u001b[0m│\u001b[32m \u001b[0m\u001b[32m10   \u001b[0m\u001b[32m \u001b[0m│\u001b[32m \u001b[0m\u001b[32m4.00 secs \u001b[0m\u001b[32m \u001b[0m│ A little too ironic. And yeah, I really do think.                                      │\n",
              "└───┴───────┴────────────┴────────────────────────────────────────────────────────────────────────────────────────┘\n"
            ],
            "text/html": [
              "<pre style=\"white-space:pre;overflow-x:auto;line-height:normal;font-family:Menlo,'DejaVu Sans Mono',consolas,'Courier New',monospace\"><span style=\"font-style: italic\">                                               () Segment Breakdown                                                </span>\n",
              "┏━━━┳━━━━━━━┳━━━━━━━━━━━━┳━━━━━━━━━━━━━━━━━━━━━━━━━━━━━━━━━━━━━━━━━━━━━━━━━━━━━━━━━━━━━━━━━━━━━━━━━━━━━━━━━━━━━━━━┓\n",
              "┃<span style=\"font-weight: bold\"> # </span>┃<span style=\"font-weight: bold\"> Words </span>┃<span style=\"font-weight: bold\"> Time Est   </span>┃<span style=\"font-weight: bold\"> Splitting long text aiming for 110 chars max 175                                       </span>┃\n",
              "┡━━━╇━━━━━━━╇━━━━━━━━━━━━╇━━━━━━━━━━━━━━━━━━━━━━━━━━━━━━━━━━━━━━━━━━━━━━━━━━━━━━━━━━━━━━━━━━━━━━━━━━━━━━━━━━━━━━━━┩\n",
              "│<span style=\"color: #800080; text-decoration-color: #800080\"> 1 </span>│<span style=\"color: #008000; text-decoration-color: #008000\"> 26    </span>│<span style=\"color: #008000; text-decoration-color: #008000\"> 10.40 secs </span>│ Hey, have you heard about this new text-to-audio model called \"Bark\"? It's like rain   │\n",
              "│<span style=\"color: #800080; text-decoration-color: #800080\">   </span>│<span style=\"color: #008000; text-decoration-color: #008000\">       </span>│<span style=\"color: #008000; text-decoration-color: #008000\">            </span>│ on your wedding day. It's a free ride when you've already paid.                        │\n",
              "├───┼───────┼────────────┼────────────────────────────────────────────────────────────────────────────────────────┤\n",
              "│<span style=\"color: #800080; text-decoration-color: #800080\"> 2 </span>│<span style=\"color: #008000; text-decoration-color: #008000\"> 26    </span>│<span style=\"color: #008000; text-decoration-color: #008000\"> 10.40 secs </span>│ It's the good advice that you just didn't take. And who would've thought? It figures.  │\n",
              "│<span style=\"color: #800080; text-decoration-color: #800080\">   </span>│<span style=\"color: #008000; text-decoration-color: #008000\">       </span>│<span style=\"color: #008000; text-decoration-color: #008000\">            </span>│ Well, life has a funny way of sneaking up on you.                                      │\n",
              "├───┼───────┼────────────┼────────────────────────────────────────────────────────────────────────────────────────┤\n",
              "│<span style=\"color: #800080; text-decoration-color: #800080\"> 3 </span>│<span style=\"color: #008000; text-decoration-color: #008000\"> 25    </span>│<span style=\"color: #008000; text-decoration-color: #008000\"> 10.00 secs </span>│ When you think everything's okay and everything's going right. And life has a funny    │\n",
              "│<span style=\"color: #800080; text-decoration-color: #800080\">   </span>│<span style=\"color: #008000; text-decoration-color: #008000\">       </span>│<span style=\"color: #008000; text-decoration-color: #008000\">            </span>│ way of helping you out. When you think everything's gone wrong.                        │\n",
              "├───┼───────┼────────────┼────────────────────────────────────────────────────────────────────────────────────────┤\n",
              "│<span style=\"color: #800080; text-decoration-color: #800080\"> 4 </span>│<span style=\"color: #008000; text-decoration-color: #008000\"> 23    </span>│<span style=\"color: #008000; text-decoration-color: #008000\"> 9.20 secs  </span>│ And everything blows up in your face. It's a traffic jam when you're already late. A   │\n",
              "│<span style=\"color: #800080; text-decoration-color: #800080\">   </span>│<span style=\"color: #008000; text-decoration-color: #008000\">       </span>│<span style=\"color: #008000; text-decoration-color: #008000\">            </span>│ \"No smoking\" sign on your cigarette break.                                             │\n",
              "├───┼───────┼────────────┼────────────────────────────────────────────────────────────────────────────────────────┤\n",
              "│<span style=\"color: #800080; text-decoration-color: #800080\"> 5 </span>│<span style=\"color: #008000; text-decoration-color: #008000\"> 32    </span>│<span style=\"color: #008000; text-decoration-color: #008000\"> 12.80 secs </span>│ It's like ten thousand spoons when all you need is a knife. It's meeting the man of my │\n",
              "│<span style=\"color: #800080; text-decoration-color: #800080\">   </span>│<span style=\"color: #008000; text-decoration-color: #008000\">       </span>│<span style=\"color: #008000; text-decoration-color: #008000\">            </span>│ dreams. And then meeting his beautiful wife. And isn't it ironic? Don't you think?     │\n",
              "├───┼───────┼────────────┼────────────────────────────────────────────────────────────────────────────────────────┤\n",
              "│<span style=\"color: #800080; text-decoration-color: #800080\"> 6 </span>│<span style=\"color: #008000; text-decoration-color: #008000\"> 10    </span>│<span style=\"color: #008000; text-decoration-color: #008000\"> 4.00 secs  </span>│ A little too ironic. And yeah, I really do think.                                      │\n",
              "└───┴───────┴────────────┴────────────────────────────────────────────────────────────────────────────────────────┘\n",
              "</pre>\n"
            ]
          },
          "metadata": {}
        },
        {
          "output_type": "display_data",
          "data": {
            "text/plain": [
              "--Segment \u001b[1;36m1\u001b[0m/\u001b[1;36m6\u001b[0m: est. \u001b[1;36m10.\u001b[0m40s\n"
            ],
            "text/html": [
              "<pre style=\"white-space:pre;overflow-x:auto;line-height:normal;font-family:Menlo,'DejaVu Sans Mono',consolas,'Courier New',monospace\">--Segment <span style=\"color: #008080; text-decoration-color: #008080; font-weight: bold\">1</span>/<span style=\"color: #008080; text-decoration-color: #008080; font-weight: bold\">6</span>: est. <span style=\"color: #008080; text-decoration-color: #008080; font-weight: bold\">10.</span>40s\n",
              "</pre>\n"
            ]
          },
          "metadata": {}
        },
        {
          "output_type": "stream",
          "name": "stdout",
          "text": [
            "Hey, have you heard about this new text-to-audio model called \"Bark\"? It's like rain on your wedding day. It's a free ride when you've already paid.\n"
          ]
        },
        {
          "output_type": "display_data",
          "data": {
            "text/plain": [
              "--Segment \u001b[1;36m2\u001b[0m/\u001b[1;36m6\u001b[0m: est. \u001b[1;36m10.\u001b[0m40s\n"
            ],
            "text/html": [
              "<pre style=\"white-space:pre;overflow-x:auto;line-height:normal;font-family:Menlo,'DejaVu Sans Mono',consolas,'Courier New',monospace\">--Segment <span style=\"color: #008080; text-decoration-color: #008080; font-weight: bold\">2</span>/<span style=\"color: #008080; text-decoration-color: #008080; font-weight: bold\">6</span>: est. <span style=\"color: #008080; text-decoration-color: #008080; font-weight: bold\">10.</span>40s\n",
              "</pre>\n"
            ]
          },
          "metadata": {}
        },
        {
          "output_type": "stream",
          "name": "stdout",
          "text": [
            "It's the good advice that you just didn't take. And who would've thought? It figures. Well, life has a funny way of sneaking up on you.\n"
          ]
        },
        {
          "output_type": "display_data",
          "data": {
            "text/plain": [
              "--Segment \u001b[1;36m3\u001b[0m/\u001b[1;36m6\u001b[0m: est. \u001b[1;36m10.\u001b[0m00s\n"
            ],
            "text/html": [
              "<pre style=\"white-space:pre;overflow-x:auto;line-height:normal;font-family:Menlo,'DejaVu Sans Mono',consolas,'Courier New',monospace\">--Segment <span style=\"color: #008080; text-decoration-color: #008080; font-weight: bold\">3</span>/<span style=\"color: #008080; text-decoration-color: #008080; font-weight: bold\">6</span>: est. <span style=\"color: #008080; text-decoration-color: #008080; font-weight: bold\">10.</span>00s\n",
              "</pre>\n"
            ]
          },
          "metadata": {}
        },
        {
          "output_type": "stream",
          "name": "stdout",
          "text": [
            "When you think everything's okay and everything's going right. And life has a funny way of helping you out. When you think everything's gone wrong.\n"
          ]
        },
        {
          "output_type": "display_data",
          "data": {
            "text/plain": [
              "--Segment \u001b[1;36m4\u001b[0m/\u001b[1;36m6\u001b[0m: est. \u001b[1;36m9.\u001b[0m20s\n"
            ],
            "text/html": [
              "<pre style=\"white-space:pre;overflow-x:auto;line-height:normal;font-family:Menlo,'DejaVu Sans Mono',consolas,'Courier New',monospace\">--Segment <span style=\"color: #008080; text-decoration-color: #008080; font-weight: bold\">4</span>/<span style=\"color: #008080; text-decoration-color: #008080; font-weight: bold\">6</span>: est. <span style=\"color: #008080; text-decoration-color: #008080; font-weight: bold\">9.</span>20s\n",
              "</pre>\n"
            ]
          },
          "metadata": {}
        },
        {
          "output_type": "stream",
          "name": "stdout",
          "text": [
            "And everything blows up in your face. It's a traffic jam when you're already late. A \"No smoking\" sign on your cigarette break.\n"
          ]
        },
        {
          "output_type": "display_data",
          "data": {
            "text/plain": [
              "--Segment \u001b[1;36m5\u001b[0m/\u001b[1;36m6\u001b[0m: est. \u001b[1;36m12.\u001b[0m80s\n"
            ],
            "text/html": [
              "<pre style=\"white-space:pre;overflow-x:auto;line-height:normal;font-family:Menlo,'DejaVu Sans Mono',consolas,'Courier New',monospace\">--Segment <span style=\"color: #008080; text-decoration-color: #008080; font-weight: bold\">5</span>/<span style=\"color: #008080; text-decoration-color: #008080; font-weight: bold\">6</span>: est. <span style=\"color: #008080; text-decoration-color: #008080; font-weight: bold\">12.</span>80s\n",
              "</pre>\n"
            ]
          },
          "metadata": {}
        },
        {
          "output_type": "stream",
          "name": "stdout",
          "text": [
            "It's like ten thousand spoons when all you need is a knife. It's meeting the man of my dreams. And then meeting his beautiful wife. And isn't it ironic? Don't you think?\n"
          ]
        },
        {
          "output_type": "display_data",
          "data": {
            "text/plain": [
              "--Segment \u001b[1;36m6\u001b[0m/\u001b[1;36m6\u001b[0m: est. \u001b[1;36m4.\u001b[0m00s\n"
            ],
            "text/html": [
              "<pre style=\"white-space:pre;overflow-x:auto;line-height:normal;font-family:Menlo,'DejaVu Sans Mono',consolas,'Courier New',monospace\">--Segment <span style=\"color: #008080; text-decoration-color: #008080; font-weight: bold\">6</span>/<span style=\"color: #008080; text-decoration-color: #008080; font-weight: bold\">6</span>: est. <span style=\"color: #008080; text-decoration-color: #008080; font-weight: bold\">4.</span>00s\n",
              "</pre>\n"
            ]
          },
          "metadata": {}
        },
        {
          "output_type": "stream",
          "name": "stdout",
          "text": [
            "A little too ironic. And yeah, I really do think.\n",
            "Saved to bark_samples/Hey_have_you_heard_a-SPK-random.wav/final_A_little_too_ironic_-SPK-random.wav\n"
          ]
        }
      ],
      "source": [
        "kwargs[\"dry_run\"] = True # Check how the text is being split, don't actually run the model. \n",
        "full_generation_segments, audio_arr_segments, final_filename_will_be = api.generate_audio_long(**kwargs)"
      ]
    },
    {
      "cell_type": "code",
      "execution_count": null,
      "metadata": {
        "colab": {
          "base_uri": "https://localhost:8080/",
          "height": 582
        },
        "id": "IEFQgcemX7Ih",
        "outputId": "49e553d8-2b3d-43e4-9c8a-62cea105bb86"
      },
      "outputs": [
        {
          "output_type": "display_data",
          "data": {
            "text/plain": [
              "\u001b[3m                                               () Segment Breakdown                                                \u001b[0m\n",
              "┏━━━┳━━━━━━━┳━━━━━━━━━━━━┳━━━━━━━━━━━━━━━━━━━━━━━━━━━━━━━━━━━━━━━━━━━━━━━━━━━━━━━━━━━━━━━━━━━━━━━━━━━━━━━━━━━━━━━━┓\n",
              "┃\u001b[1m \u001b[0m\u001b[1m#\u001b[0m\u001b[1m \u001b[0m┃\u001b[1m \u001b[0m\u001b[1mWords\u001b[0m\u001b[1m \u001b[0m┃\u001b[1m \u001b[0m\u001b[1mTime Est  \u001b[0m\u001b[1m \u001b[0m┃\u001b[1m \u001b[0m\u001b[1mSplitting long text aiming for 110 chars max 175                                      \u001b[0m\u001b[1m \u001b[0m┃\n",
              "┡━━━╇━━━━━━━╇━━━━━━━━━━━━╇━━━━━━━━━━━━━━━━━━━━━━━━━━━━━━━━━━━━━━━━━━━━━━━━━━━━━━━━━━━━━━━━━━━━━━━━━━━━━━━━━━━━━━━━┩\n",
              "│\u001b[35m \u001b[0m\u001b[35m1\u001b[0m\u001b[35m \u001b[0m│\u001b[32m \u001b[0m\u001b[32m26   \u001b[0m\u001b[32m \u001b[0m│\u001b[32m \u001b[0m\u001b[32m10.40 secs\u001b[0m\u001b[32m \u001b[0m│ Hey, have you heard about this new text-to-audio model called \"Bark\"? It's like rain   │\n",
              "│\u001b[35m   \u001b[0m│\u001b[32m       \u001b[0m│\u001b[32m            \u001b[0m│ on your wedding day. It's a free ride when you've already paid.                        │\n",
              "├───┼───────┼────────────┼────────────────────────────────────────────────────────────────────────────────────────┤\n",
              "│\u001b[35m \u001b[0m\u001b[35m2\u001b[0m\u001b[35m \u001b[0m│\u001b[32m \u001b[0m\u001b[32m26   \u001b[0m\u001b[32m \u001b[0m│\u001b[32m \u001b[0m\u001b[32m10.40 secs\u001b[0m\u001b[32m \u001b[0m│ It's the good advice that you just didn't take. And who would've thought? It figures.  │\n",
              "│\u001b[35m   \u001b[0m│\u001b[32m       \u001b[0m│\u001b[32m            \u001b[0m│ Well, life has a funny way of sneaking up on you.                                      │\n",
              "├───┼───────┼────────────┼────────────────────────────────────────────────────────────────────────────────────────┤\n",
              "│\u001b[35m \u001b[0m\u001b[35m3\u001b[0m\u001b[35m \u001b[0m│\u001b[32m \u001b[0m\u001b[32m25   \u001b[0m\u001b[32m \u001b[0m│\u001b[32m \u001b[0m\u001b[32m10.00 secs\u001b[0m\u001b[32m \u001b[0m│ When you think everything's okay and everything's going right. And life has a funny    │\n",
              "│\u001b[35m   \u001b[0m│\u001b[32m       \u001b[0m│\u001b[32m            \u001b[0m│ way of helping you out. When you think everything's gone wrong.                        │\n",
              "├───┼───────┼────────────┼────────────────────────────────────────────────────────────────────────────────────────┤\n",
              "│\u001b[35m \u001b[0m\u001b[35m4\u001b[0m\u001b[35m \u001b[0m│\u001b[32m \u001b[0m\u001b[32m23   \u001b[0m\u001b[32m \u001b[0m│\u001b[32m \u001b[0m\u001b[32m9.20 secs \u001b[0m\u001b[32m \u001b[0m│ And everything blows up in your face. It's a traffic jam when you're already late. A   │\n",
              "│\u001b[35m   \u001b[0m│\u001b[32m       \u001b[0m│\u001b[32m            \u001b[0m│ \"No smoking\" sign on your cigarette break.                                             │\n",
              "├───┼───────┼────────────┼────────────────────────────────────────────────────────────────────────────────────────┤\n",
              "│\u001b[35m \u001b[0m\u001b[35m5\u001b[0m\u001b[35m \u001b[0m│\u001b[32m \u001b[0m\u001b[32m32   \u001b[0m\u001b[32m \u001b[0m│\u001b[32m \u001b[0m\u001b[32m12.80 secs\u001b[0m\u001b[32m \u001b[0m│ It's like ten thousand spoons when all you need is a knife. It's meeting the man of my │\n",
              "│\u001b[35m   \u001b[0m│\u001b[32m       \u001b[0m│\u001b[32m            \u001b[0m│ dreams. And then meeting his beautiful wife. And isn't it ironic? Don't you think?     │\n",
              "├───┼───────┼────────────┼────────────────────────────────────────────────────────────────────────────────────────┤\n",
              "│\u001b[35m \u001b[0m\u001b[35m6\u001b[0m\u001b[35m \u001b[0m│\u001b[32m \u001b[0m\u001b[32m10   \u001b[0m\u001b[32m \u001b[0m│\u001b[32m \u001b[0m\u001b[32m4.00 secs \u001b[0m\u001b[32m \u001b[0m│ A little too ironic. And yeah, I really do think.                                      │\n",
              "└───┴───────┴────────────┴────────────────────────────────────────────────────────────────────────────────────────┘\n"
            ],
            "text/html": [
              "<pre style=\"white-space:pre;overflow-x:auto;line-height:normal;font-family:Menlo,'DejaVu Sans Mono',consolas,'Courier New',monospace\"><span style=\"font-style: italic\">                                               () Segment Breakdown                                                </span>\n",
              "┏━━━┳━━━━━━━┳━━━━━━━━━━━━┳━━━━━━━━━━━━━━━━━━━━━━━━━━━━━━━━━━━━━━━━━━━━━━━━━━━━━━━━━━━━━━━━━━━━━━━━━━━━━━━━━━━━━━━━┓\n",
              "┃<span style=\"font-weight: bold\"> # </span>┃<span style=\"font-weight: bold\"> Words </span>┃<span style=\"font-weight: bold\"> Time Est   </span>┃<span style=\"font-weight: bold\"> Splitting long text aiming for 110 chars max 175                                       </span>┃\n",
              "┡━━━╇━━━━━━━╇━━━━━━━━━━━━╇━━━━━━━━━━━━━━━━━━━━━━━━━━━━━━━━━━━━━━━━━━━━━━━━━━━━━━━━━━━━━━━━━━━━━━━━━━━━━━━━━━━━━━━━┩\n",
              "│<span style=\"color: #800080; text-decoration-color: #800080\"> 1 </span>│<span style=\"color: #008000; text-decoration-color: #008000\"> 26    </span>│<span style=\"color: #008000; text-decoration-color: #008000\"> 10.40 secs </span>│ Hey, have you heard about this new text-to-audio model called \"Bark\"? It's like rain   │\n",
              "│<span style=\"color: #800080; text-decoration-color: #800080\">   </span>│<span style=\"color: #008000; text-decoration-color: #008000\">       </span>│<span style=\"color: #008000; text-decoration-color: #008000\">            </span>│ on your wedding day. It's a free ride when you've already paid.                        │\n",
              "├───┼───────┼────────────┼────────────────────────────────────────────────────────────────────────────────────────┤\n",
              "│<span style=\"color: #800080; text-decoration-color: #800080\"> 2 </span>│<span style=\"color: #008000; text-decoration-color: #008000\"> 26    </span>│<span style=\"color: #008000; text-decoration-color: #008000\"> 10.40 secs </span>│ It's the good advice that you just didn't take. And who would've thought? It figures.  │\n",
              "│<span style=\"color: #800080; text-decoration-color: #800080\">   </span>│<span style=\"color: #008000; text-decoration-color: #008000\">       </span>│<span style=\"color: #008000; text-decoration-color: #008000\">            </span>│ Well, life has a funny way of sneaking up on you.                                      │\n",
              "├───┼───────┼────────────┼────────────────────────────────────────────────────────────────────────────────────────┤\n",
              "│<span style=\"color: #800080; text-decoration-color: #800080\"> 3 </span>│<span style=\"color: #008000; text-decoration-color: #008000\"> 25    </span>│<span style=\"color: #008000; text-decoration-color: #008000\"> 10.00 secs </span>│ When you think everything's okay and everything's going right. And life has a funny    │\n",
              "│<span style=\"color: #800080; text-decoration-color: #800080\">   </span>│<span style=\"color: #008000; text-decoration-color: #008000\">       </span>│<span style=\"color: #008000; text-decoration-color: #008000\">            </span>│ way of helping you out. When you think everything's gone wrong.                        │\n",
              "├───┼───────┼────────────┼────────────────────────────────────────────────────────────────────────────────────────┤\n",
              "│<span style=\"color: #800080; text-decoration-color: #800080\"> 4 </span>│<span style=\"color: #008000; text-decoration-color: #008000\"> 23    </span>│<span style=\"color: #008000; text-decoration-color: #008000\"> 9.20 secs  </span>│ And everything blows up in your face. It's a traffic jam when you're already late. A   │\n",
              "│<span style=\"color: #800080; text-decoration-color: #800080\">   </span>│<span style=\"color: #008000; text-decoration-color: #008000\">       </span>│<span style=\"color: #008000; text-decoration-color: #008000\">            </span>│ \"No smoking\" sign on your cigarette break.                                             │\n",
              "├───┼───────┼────────────┼────────────────────────────────────────────────────────────────────────────────────────┤\n",
              "│<span style=\"color: #800080; text-decoration-color: #800080\"> 5 </span>│<span style=\"color: #008000; text-decoration-color: #008000\"> 32    </span>│<span style=\"color: #008000; text-decoration-color: #008000\"> 12.80 secs </span>│ It's like ten thousand spoons when all you need is a knife. It's meeting the man of my │\n",
              "│<span style=\"color: #800080; text-decoration-color: #800080\">   </span>│<span style=\"color: #008000; text-decoration-color: #008000\">       </span>│<span style=\"color: #008000; text-decoration-color: #008000\">            </span>│ dreams. And then meeting his beautiful wife. And isn't it ironic? Don't you think?     │\n",
              "├───┼───────┼────────────┼────────────────────────────────────────────────────────────────────────────────────────┤\n",
              "│<span style=\"color: #800080; text-decoration-color: #800080\"> 6 </span>│<span style=\"color: #008000; text-decoration-color: #008000\"> 10    </span>│<span style=\"color: #008000; text-decoration-color: #008000\"> 4.00 secs  </span>│ A little too ironic. And yeah, I really do think.                                      │\n",
              "└───┴───────┴────────────┴────────────────────────────────────────────────────────────────────────────────────────┘\n",
              "</pre>\n"
            ]
          },
          "metadata": {}
        },
        {
          "output_type": "display_data",
          "data": {
            "text/plain": [
              "--Segment \u001b[1;36m1\u001b[0m/\u001b[1;36m6\u001b[0m: est. \u001b[1;36m10.\u001b[0m40s\n"
            ],
            "text/html": [
              "<pre style=\"white-space:pre;overflow-x:auto;line-height:normal;font-family:Menlo,'DejaVu Sans Mono',consolas,'Courier New',monospace\">--Segment <span style=\"color: #008080; text-decoration-color: #008080; font-weight: bold\">1</span>/<span style=\"color: #008080; text-decoration-color: #008080; font-weight: bold\">6</span>: est. <span style=\"color: #008080; text-decoration-color: #008080; font-weight: bold\">10.</span>40s\n",
              "</pre>\n"
            ]
          },
          "metadata": {}
        },
        {
          "output_type": "stream",
          "name": "stdout",
          "text": [
            "Hey, have you heard about this new text-to-audio model called \"Bark\"? It's like rain on your wedding day. It's a free ride when you've already paid.\n"
          ]
        },
        {
          "output_type": "display_data",
          "data": {
            "text/plain": [
              "--Segment \u001b[1;36m2\u001b[0m/\u001b[1;36m6\u001b[0m: est. \u001b[1;36m10.\u001b[0m40s\n"
            ],
            "text/html": [
              "<pre style=\"white-space:pre;overflow-x:auto;line-height:normal;font-family:Menlo,'DejaVu Sans Mono',consolas,'Courier New',monospace\">--Segment <span style=\"color: #008080; text-decoration-color: #008080; font-weight: bold\">2</span>/<span style=\"color: #008080; text-decoration-color: #008080; font-weight: bold\">6</span>: est. <span style=\"color: #008080; text-decoration-color: #008080; font-weight: bold\">10.</span>40s\n",
              "</pre>\n"
            ]
          },
          "metadata": {}
        },
        {
          "output_type": "stream",
          "name": "stdout",
          "text": [
            "It's the good advice that you just didn't take. And who would've thought? It figures. Well, life has a funny way of sneaking up on you.\n"
          ]
        },
        {
          "output_type": "display_data",
          "data": {
            "text/plain": [
              "--Segment \u001b[1;36m3\u001b[0m/\u001b[1;36m6\u001b[0m: est. \u001b[1;36m10.\u001b[0m00s\n"
            ],
            "text/html": [
              "<pre style=\"white-space:pre;overflow-x:auto;line-height:normal;font-family:Menlo,'DejaVu Sans Mono',consolas,'Courier New',monospace\">--Segment <span style=\"color: #008080; text-decoration-color: #008080; font-weight: bold\">3</span>/<span style=\"color: #008080; text-decoration-color: #008080; font-weight: bold\">6</span>: est. <span style=\"color: #008080; text-decoration-color: #008080; font-weight: bold\">10.</span>00s\n",
              "</pre>\n"
            ]
          },
          "metadata": {}
        },
        {
          "output_type": "stream",
          "name": "stdout",
          "text": [
            "When you think everything's okay and everything's going right. And life has a funny way of helping you out. When you think everything's gone wrong.\n"
          ]
        },
        {
          "output_type": "display_data",
          "data": {
            "text/plain": [
              "--Segment \u001b[1;36m4\u001b[0m/\u001b[1;36m6\u001b[0m: est. \u001b[1;36m9.\u001b[0m20s\n"
            ],
            "text/html": [
              "<pre style=\"white-space:pre;overflow-x:auto;line-height:normal;font-family:Menlo,'DejaVu Sans Mono',consolas,'Courier New',monospace\">--Segment <span style=\"color: #008080; text-decoration-color: #008080; font-weight: bold\">4</span>/<span style=\"color: #008080; text-decoration-color: #008080; font-weight: bold\">6</span>: est. <span style=\"color: #008080; text-decoration-color: #008080; font-weight: bold\">9.</span>20s\n",
              "</pre>\n"
            ]
          },
          "metadata": {}
        },
        {
          "output_type": "stream",
          "name": "stdout",
          "text": [
            "And everything blows up in your face. It's a traffic jam when you're already late. A \"No smoking\" sign on your cigarette break.\n"
          ]
        },
        {
          "output_type": "display_data",
          "data": {
            "text/plain": [
              "--Segment \u001b[1;36m5\u001b[0m/\u001b[1;36m6\u001b[0m: est. \u001b[1;36m12.\u001b[0m80s\n"
            ],
            "text/html": [
              "<pre style=\"white-space:pre;overflow-x:auto;line-height:normal;font-family:Menlo,'DejaVu Sans Mono',consolas,'Courier New',monospace\">--Segment <span style=\"color: #008080; text-decoration-color: #008080; font-weight: bold\">5</span>/<span style=\"color: #008080; text-decoration-color: #008080; font-weight: bold\">6</span>: est. <span style=\"color: #008080; text-decoration-color: #008080; font-weight: bold\">12.</span>80s\n",
              "</pre>\n"
            ]
          },
          "metadata": {}
        },
        {
          "output_type": "stream",
          "name": "stdout",
          "text": [
            "It's like ten thousand spoons when all you need is a knife. It's meeting the man of my dreams. And then meeting his beautiful wife. And isn't it ironic? Don't you think?\n"
          ]
        },
        {
          "output_type": "display_data",
          "data": {
            "text/plain": [
              "--Segment \u001b[1;36m6\u001b[0m/\u001b[1;36m6\u001b[0m: est. \u001b[1;36m4.\u001b[0m00s\n"
            ],
            "text/html": [
              "<pre style=\"white-space:pre;overflow-x:auto;line-height:normal;font-family:Menlo,'DejaVu Sans Mono',consolas,'Courier New',monospace\">--Segment <span style=\"color: #008080; text-decoration-color: #008080; font-weight: bold\">6</span>/<span style=\"color: #008080; text-decoration-color: #008080; font-weight: bold\">6</span>: est. <span style=\"color: #008080; text-decoration-color: #008080; font-weight: bold\">4.</span>00s\n",
              "</pre>\n"
            ]
          },
          "metadata": {}
        },
        {
          "output_type": "stream",
          "name": "stdout",
          "text": [
            "A little too ironic. And yeah, I really do think.\n",
            "Saved to bark_samples/Hey_have_you_heard_a-SPK-random.wav/final_A_little_too_ironic_-SPK-random.wav\n"
          ]
        }
      ],
      "source": [
        "# that's the output we expect to see, we didn't generate audio yet\n",
        "# these text segments look a little small small so let's try this instead\n",
        "kwargs[\"split_character_goal_length\"] = 110\n",
        "kwargs[\"split_character_max_length\"] = 175\n",
        "\n",
        "full_generation_segments, audio_arr_segments, final_filename_will_be = api.generate_audio_long(**kwargs)"
      ]
    },
    {
      "cell_type": "markdown",
      "source": [
        "#### Run Bark"
      ],
      "metadata": {
        "id": "iPwaLVKCZNaN"
      }
    },
    {
      "cell_type": "code",
      "execution_count": null,
      "metadata": {
        "colab": {
          "base_uri": "https://localhost:8080/",
          "height": 908
        },
        "id": "gnvv0zEZY7vP",
        "outputId": "5a501a72-a2d0-4a66-8ab9-ab876cf6a10f"
      },
      "outputs": [
        {
          "output_type": "display_data",
          "data": {
            "text/plain": [
              "\u001b[3m                                               () Segment Breakdown                                                \u001b[0m\n",
              "┏━━━┳━━━━━━━┳━━━━━━━━━━━━┳━━━━━━━━━━━━━━━━━━━━━━━━━━━━━━━━━━━━━━━━━━━━━━━━━━━━━━━━━━━━━━━━━━━━━━━━━━━━━━━━━━━━━━━━┓\n",
              "┃\u001b[1m \u001b[0m\u001b[1m#\u001b[0m\u001b[1m \u001b[0m┃\u001b[1m \u001b[0m\u001b[1mWords\u001b[0m\u001b[1m \u001b[0m┃\u001b[1m \u001b[0m\u001b[1mTime Est  \u001b[0m\u001b[1m \u001b[0m┃\u001b[1m \u001b[0m\u001b[1mSplitting long text aiming for 110 chars max 175                                      \u001b[0m\u001b[1m \u001b[0m┃\n",
              "┡━━━╇━━━━━━━╇━━━━━━━━━━━━╇━━━━━━━━━━━━━━━━━━━━━━━━━━━━━━━━━━━━━━━━━━━━━━━━━━━━━━━━━━━━━━━━━━━━━━━━━━━━━━━━━━━━━━━━┩\n",
              "│\u001b[35m \u001b[0m\u001b[35m1\u001b[0m\u001b[35m \u001b[0m│\u001b[32m \u001b[0m\u001b[32m26   \u001b[0m\u001b[32m \u001b[0m│\u001b[32m \u001b[0m\u001b[32m10.40 secs\u001b[0m\u001b[32m \u001b[0m│ Hey, have you heard about this new text-to-audio model called \"Bark\"? It's like rain   │\n",
              "│\u001b[35m   \u001b[0m│\u001b[32m       \u001b[0m│\u001b[32m            \u001b[0m│ on your wedding day. It's a free ride when you've already paid.                        │\n",
              "├───┼───────┼────────────┼────────────────────────────────────────────────────────────────────────────────────────┤\n",
              "│\u001b[35m \u001b[0m\u001b[35m2\u001b[0m\u001b[35m \u001b[0m│\u001b[32m \u001b[0m\u001b[32m26   \u001b[0m\u001b[32m \u001b[0m│\u001b[32m \u001b[0m\u001b[32m10.40 secs\u001b[0m\u001b[32m \u001b[0m│ It's the good advice that you just didn't take. And who would've thought? It figures.  │\n",
              "│\u001b[35m   \u001b[0m│\u001b[32m       \u001b[0m│\u001b[32m            \u001b[0m│ Well, life has a funny way of sneaking up on you.                                      │\n",
              "├───┼───────┼────────────┼────────────────────────────────────────────────────────────────────────────────────────┤\n",
              "│\u001b[35m \u001b[0m\u001b[35m3\u001b[0m\u001b[35m \u001b[0m│\u001b[32m \u001b[0m\u001b[32m25   \u001b[0m\u001b[32m \u001b[0m│\u001b[32m \u001b[0m\u001b[32m10.00 secs\u001b[0m\u001b[32m \u001b[0m│ When you think everything's okay and everything's going right. And life has a funny    │\n",
              "│\u001b[35m   \u001b[0m│\u001b[32m       \u001b[0m│\u001b[32m            \u001b[0m│ way of helping you out. When you think everything's gone wrong.                        │\n",
              "├───┼───────┼────────────┼────────────────────────────────────────────────────────────────────────────────────────┤\n",
              "│\u001b[35m \u001b[0m\u001b[35m4\u001b[0m\u001b[35m \u001b[0m│\u001b[32m \u001b[0m\u001b[32m23   \u001b[0m\u001b[32m \u001b[0m│\u001b[32m \u001b[0m\u001b[32m9.20 secs \u001b[0m\u001b[32m \u001b[0m│ And everything blows up in your face. It's a traffic jam when you're already late. A   │\n",
              "│\u001b[35m   \u001b[0m│\u001b[32m       \u001b[0m│\u001b[32m            \u001b[0m│ \"No smoking\" sign on your cigarette break.                                             │\n",
              "├───┼───────┼────────────┼────────────────────────────────────────────────────────────────────────────────────────┤\n",
              "│\u001b[35m \u001b[0m\u001b[35m5\u001b[0m\u001b[35m \u001b[0m│\u001b[32m \u001b[0m\u001b[32m32   \u001b[0m\u001b[32m \u001b[0m│\u001b[32m \u001b[0m\u001b[32m12.80 secs\u001b[0m\u001b[32m \u001b[0m│ It's like ten thousand spoons when all you need is a knife. It's meeting the man of my │\n",
              "│\u001b[35m   \u001b[0m│\u001b[32m       \u001b[0m│\u001b[32m            \u001b[0m│ dreams. And then meeting his beautiful wife. And isn't it ironic? Don't you think?     │\n",
              "├───┼───────┼────────────┼────────────────────────────────────────────────────────────────────────────────────────┤\n",
              "│\u001b[35m \u001b[0m\u001b[35m6\u001b[0m\u001b[35m \u001b[0m│\u001b[32m \u001b[0m\u001b[32m10   \u001b[0m\u001b[32m \u001b[0m│\u001b[32m \u001b[0m\u001b[32m4.00 secs \u001b[0m\u001b[32m \u001b[0m│ A little too ironic. And yeah, I really do think.                                      │\n",
              "└───┴───────┴────────────┴────────────────────────────────────────────────────────────────────────────────────────┘\n"
            ],
            "text/html": [
              "<pre style=\"white-space:pre;overflow-x:auto;line-height:normal;font-family:Menlo,'DejaVu Sans Mono',consolas,'Courier New',monospace\"><span style=\"font-style: italic\">                                               () Segment Breakdown                                                </span>\n",
              "┏━━━┳━━━━━━━┳━━━━━━━━━━━━┳━━━━━━━━━━━━━━━━━━━━━━━━━━━━━━━━━━━━━━━━━━━━━━━━━━━━━━━━━━━━━━━━━━━━━━━━━━━━━━━━━━━━━━━━┓\n",
              "┃<span style=\"font-weight: bold\"> # </span>┃<span style=\"font-weight: bold\"> Words </span>┃<span style=\"font-weight: bold\"> Time Est   </span>┃<span style=\"font-weight: bold\"> Splitting long text aiming for 110 chars max 175                                       </span>┃\n",
              "┡━━━╇━━━━━━━╇━━━━━━━━━━━━╇━━━━━━━━━━━━━━━━━━━━━━━━━━━━━━━━━━━━━━━━━━━━━━━━━━━━━━━━━━━━━━━━━━━━━━━━━━━━━━━━━━━━━━━━┩\n",
              "│<span style=\"color: #800080; text-decoration-color: #800080\"> 1 </span>│<span style=\"color: #008000; text-decoration-color: #008000\"> 26    </span>│<span style=\"color: #008000; text-decoration-color: #008000\"> 10.40 secs </span>│ Hey, have you heard about this new text-to-audio model called \"Bark\"? It's like rain   │\n",
              "│<span style=\"color: #800080; text-decoration-color: #800080\">   </span>│<span style=\"color: #008000; text-decoration-color: #008000\">       </span>│<span style=\"color: #008000; text-decoration-color: #008000\">            </span>│ on your wedding day. It's a free ride when you've already paid.                        │\n",
              "├───┼───────┼────────────┼────────────────────────────────────────────────────────────────────────────────────────┤\n",
              "│<span style=\"color: #800080; text-decoration-color: #800080\"> 2 </span>│<span style=\"color: #008000; text-decoration-color: #008000\"> 26    </span>│<span style=\"color: #008000; text-decoration-color: #008000\"> 10.40 secs </span>│ It's the good advice that you just didn't take. And who would've thought? It figures.  │\n",
              "│<span style=\"color: #800080; text-decoration-color: #800080\">   </span>│<span style=\"color: #008000; text-decoration-color: #008000\">       </span>│<span style=\"color: #008000; text-decoration-color: #008000\">            </span>│ Well, life has a funny way of sneaking up on you.                                      │\n",
              "├───┼───────┼────────────┼────────────────────────────────────────────────────────────────────────────────────────┤\n",
              "│<span style=\"color: #800080; text-decoration-color: #800080\"> 3 </span>│<span style=\"color: #008000; text-decoration-color: #008000\"> 25    </span>│<span style=\"color: #008000; text-decoration-color: #008000\"> 10.00 secs </span>│ When you think everything's okay and everything's going right. And life has a funny    │\n",
              "│<span style=\"color: #800080; text-decoration-color: #800080\">   </span>│<span style=\"color: #008000; text-decoration-color: #008000\">       </span>│<span style=\"color: #008000; text-decoration-color: #008000\">            </span>│ way of helping you out. When you think everything's gone wrong.                        │\n",
              "├───┼───────┼────────────┼────────────────────────────────────────────────────────────────────────────────────────┤\n",
              "│<span style=\"color: #800080; text-decoration-color: #800080\"> 4 </span>│<span style=\"color: #008000; text-decoration-color: #008000\"> 23    </span>│<span style=\"color: #008000; text-decoration-color: #008000\"> 9.20 secs  </span>│ And everything blows up in your face. It's a traffic jam when you're already late. A   │\n",
              "│<span style=\"color: #800080; text-decoration-color: #800080\">   </span>│<span style=\"color: #008000; text-decoration-color: #008000\">       </span>│<span style=\"color: #008000; text-decoration-color: #008000\">            </span>│ \"No smoking\" sign on your cigarette break.                                             │\n",
              "├───┼───────┼────────────┼────────────────────────────────────────────────────────────────────────────────────────┤\n",
              "│<span style=\"color: #800080; text-decoration-color: #800080\"> 5 </span>│<span style=\"color: #008000; text-decoration-color: #008000\"> 32    </span>│<span style=\"color: #008000; text-decoration-color: #008000\"> 12.80 secs </span>│ It's like ten thousand spoons when all you need is a knife. It's meeting the man of my │\n",
              "│<span style=\"color: #800080; text-decoration-color: #800080\">   </span>│<span style=\"color: #008000; text-decoration-color: #008000\">       </span>│<span style=\"color: #008000; text-decoration-color: #008000\">            </span>│ dreams. And then meeting his beautiful wife. And isn't it ironic? Don't you think?     │\n",
              "├───┼───────┼────────────┼────────────────────────────────────────────────────────────────────────────────────────┤\n",
              "│<span style=\"color: #800080; text-decoration-color: #800080\"> 6 </span>│<span style=\"color: #008000; text-decoration-color: #008000\"> 10    </span>│<span style=\"color: #008000; text-decoration-color: #008000\"> 4.00 secs  </span>│ A little too ironic. And yeah, I really do think.                                      │\n",
              "└───┴───────┴────────────┴────────────────────────────────────────────────────────────────────────────────────────┘\n",
              "</pre>\n"
            ]
          },
          "metadata": {}
        },
        {
          "output_type": "display_data",
          "data": {
            "text/plain": [
              "--Segment \u001b[1;36m1\u001b[0m/\u001b[1;36m6\u001b[0m: est. \u001b[1;36m10.\u001b[0m40s\n"
            ],
            "text/html": [
              "<pre style=\"white-space:pre;overflow-x:auto;line-height:normal;font-family:Menlo,'DejaVu Sans Mono',consolas,'Courier New',monospace\">--Segment <span style=\"color: #008080; text-decoration-color: #008080; font-weight: bold\">1</span>/<span style=\"color: #008080; text-decoration-color: #008080; font-weight: bold\">6</span>: est. <span style=\"color: #008080; text-decoration-color: #008080; font-weight: bold\">10.</span>40s\n",
              "</pre>\n"
            ]
          },
          "metadata": {}
        },
        {
          "output_type": "stream",
          "name": "stdout",
          "text": [
            "Hey, have you heard about this new text-to-audio model called \"Bark\"? It's like rain on your wedding day. It's a free ride when you've already paid.\n"
          ]
        },
        {
          "output_type": "stream",
          "name": "stderr",
          "text": [
            "100%|██████████| 100/100 [00:07<00:00, 13.53it/s]\n",
            "100%|██████████| 28/28 [00:25<00:00,  1.10it/s]\n",
            "100%|██████████| 1/1 [00:02<00:00,  2.55s/it]\n"
          ]
        },
        {
          "output_type": "display_data",
          "data": {
            "text/plain": [],
            "text/html": [
              "<pre style=\"white-space:pre;overflow-x:auto;line-height:normal;font-family:Menlo,'DejaVu Sans Mono',consolas,'Courier New',monospace\"></pre>\n"
            ]
          },
          "metadata": {}
        },
        {
          "output_type": "display_data",
          "data": {
            "text/plain": [
              "--Segment \u001b[1;36m2\u001b[0m/\u001b[1;36m6\u001b[0m: est. \u001b[1;36m10.\u001b[0m40s\n"
            ],
            "text/html": [
              "<pre style=\"white-space:pre;overflow-x:auto;line-height:normal;font-family:Menlo,'DejaVu Sans Mono',consolas,'Courier New',monospace\">--Segment <span style=\"color: #008080; text-decoration-color: #008080; font-weight: bold\">2</span>/<span style=\"color: #008080; text-decoration-color: #008080; font-weight: bold\">6</span>: est. <span style=\"color: #008080; text-decoration-color: #008080; font-weight: bold\">10.</span>40s\n",
              "</pre>\n"
            ]
          },
          "metadata": {}
        },
        {
          "output_type": "stream",
          "name": "stdout",
          "text": [
            "It's the good advice that you just didn't take. And who would've thought? It figures. Well, life has a funny way of sneaking up on you.\n"
          ]
        },
        {
          "output_type": "stream",
          "name": "stderr",
          "text": [
            "100%|██████████| 100/100 [00:07<00:00, 13.78it/s]\n",
            "100%|██████████| 25/25 [00:23<00:00,  1.07it/s]\n",
            "100%|██████████| 2/2 [00:03<00:00,  1.54s/it]\n"
          ]
        },
        {
          "output_type": "display_data",
          "data": {
            "text/plain": [],
            "text/html": [
              "<pre style=\"white-space:pre;overflow-x:auto;line-height:normal;font-family:Menlo,'DejaVu Sans Mono',consolas,'Courier New',monospace\"></pre>\n"
            ]
          },
          "metadata": {}
        },
        {
          "output_type": "display_data",
          "data": {
            "text/plain": [
              "--Segment \u001b[1;36m3\u001b[0m/\u001b[1;36m6\u001b[0m: est. \u001b[1;36m10.\u001b[0m00s\n"
            ],
            "text/html": [
              "<pre style=\"white-space:pre;overflow-x:auto;line-height:normal;font-family:Menlo,'DejaVu Sans Mono',consolas,'Courier New',monospace\">--Segment <span style=\"color: #008080; text-decoration-color: #008080; font-weight: bold\">3</span>/<span style=\"color: #008080; text-decoration-color: #008080; font-weight: bold\">6</span>: est. <span style=\"color: #008080; text-decoration-color: #008080; font-weight: bold\">10.</span>00s\n",
              "</pre>\n"
            ]
          },
          "metadata": {}
        },
        {
          "output_type": "stream",
          "name": "stdout",
          "text": [
            "When you think everything's okay and everything's going right. And life has a funny way of helping you out. When you think everything's gone wrong.\n"
          ]
        },
        {
          "output_type": "stream",
          "name": "stderr",
          "text": [
            "100%|██████████| 100/100 [00:06<00:00, 14.97it/s]\n",
            "100%|██████████| 28/28 [00:26<00:00,  1.04it/s]\n",
            "100%|██████████| 2/2 [00:03<00:00,  1.76s/it]\n"
          ]
        },
        {
          "output_type": "display_data",
          "data": {
            "text/plain": [],
            "text/html": [
              "<pre style=\"white-space:pre;overflow-x:auto;line-height:normal;font-family:Menlo,'DejaVu Sans Mono',consolas,'Courier New',monospace\"></pre>\n"
            ]
          },
          "metadata": {}
        },
        {
          "output_type": "display_data",
          "data": {
            "text/plain": [
              "--Segment \u001b[1;36m4\u001b[0m/\u001b[1;36m6\u001b[0m: est. \u001b[1;36m9.\u001b[0m20s\n"
            ],
            "text/html": [
              "<pre style=\"white-space:pre;overflow-x:auto;line-height:normal;font-family:Menlo,'DejaVu Sans Mono',consolas,'Courier New',monospace\">--Segment <span style=\"color: #008080; text-decoration-color: #008080; font-weight: bold\">4</span>/<span style=\"color: #008080; text-decoration-color: #008080; font-weight: bold\">6</span>: est. <span style=\"color: #008080; text-decoration-color: #008080; font-weight: bold\">9.</span>20s\n",
              "</pre>\n"
            ]
          },
          "metadata": {}
        },
        {
          "output_type": "stream",
          "name": "stdout",
          "text": [
            "And everything blows up in your face. It's a traffic jam when you're already late. A \"No smoking\" sign on your cigarette break.\n"
          ]
        },
        {
          "output_type": "stream",
          "name": "stderr",
          "text": [
            "100%|██████████| 100/100 [00:08<00:00, 12.41it/s]\n",
            "100%|██████████| 32/32 [00:31<00:00,  1.03it/s]\n",
            "100%|██████████| 2/2 [00:03<00:00,  1.76s/it]\n"
          ]
        },
        {
          "output_type": "display_data",
          "data": {
            "text/plain": [],
            "text/html": [
              "<pre style=\"white-space:pre;overflow-x:auto;line-height:normal;font-family:Menlo,'DejaVu Sans Mono',consolas,'Courier New',monospace\"></pre>\n"
            ]
          },
          "metadata": {}
        },
        {
          "output_type": "display_data",
          "data": {
            "text/plain": [
              "--Segment \u001b[1;36m5\u001b[0m/\u001b[1;36m6\u001b[0m: est. \u001b[1;36m12.\u001b[0m80s\n"
            ],
            "text/html": [
              "<pre style=\"white-space:pre;overflow-x:auto;line-height:normal;font-family:Menlo,'DejaVu Sans Mono',consolas,'Courier New',monospace\">--Segment <span style=\"color: #008080; text-decoration-color: #008080; font-weight: bold\">5</span>/<span style=\"color: #008080; text-decoration-color: #008080; font-weight: bold\">6</span>: est. <span style=\"color: #008080; text-decoration-color: #008080; font-weight: bold\">12.</span>80s\n",
              "</pre>\n"
            ]
          },
          "metadata": {}
        },
        {
          "output_type": "stream",
          "name": "stdout",
          "text": [
            "It's like ten thousand spoons when all you need is a knife. It's meeting the man of my dreams. And then meeting his beautiful wife. And isn't it ironic? Don't you think?\n"
          ]
        },
        {
          "output_type": "stream",
          "name": "stderr",
          "text": [
            "100%|██████████| 100/100 [00:07<00:00, 14.09it/s]\n",
            "100%|██████████| 30/30 [00:28<00:00,  1.04it/s]\n",
            "100%|██████████| 2/2 [00:03<00:00,  1.63s/it]\n"
          ]
        },
        {
          "output_type": "display_data",
          "data": {
            "text/plain": [],
            "text/html": [
              "<pre style=\"white-space:pre;overflow-x:auto;line-height:normal;font-family:Menlo,'DejaVu Sans Mono',consolas,'Courier New',monospace\"></pre>\n"
            ]
          },
          "metadata": {}
        },
        {
          "output_type": "display_data",
          "data": {
            "text/plain": [
              "--Segment \u001b[1;36m6\u001b[0m/\u001b[1;36m6\u001b[0m: est. \u001b[1;36m4.\u001b[0m00s\n"
            ],
            "text/html": [
              "<pre style=\"white-space:pre;overflow-x:auto;line-height:normal;font-family:Menlo,'DejaVu Sans Mono',consolas,'Courier New',monospace\">--Segment <span style=\"color: #008080; text-decoration-color: #008080; font-weight: bold\">6</span>/<span style=\"color: #008080; text-decoration-color: #008080; font-weight: bold\">6</span>: est. <span style=\"color: #008080; text-decoration-color: #008080; font-weight: bold\">4.</span>00s\n",
              "</pre>\n"
            ]
          },
          "metadata": {}
        },
        {
          "output_type": "stream",
          "name": "stdout",
          "text": [
            "A little too ironic. And yeah, I really do think.\n"
          ]
        },
        {
          "output_type": "stream",
          "name": "stderr",
          "text": [
            "100%|██████████| 100/100 [00:03<00:00, 26.92it/s] \n",
            "100%|██████████| 12/12 [00:11<00:00,  1.06it/s]\n",
            "100%|██████████| 1/1 [00:01<00:00,  1.80s/it]\n"
          ]
        },
        {
          "output_type": "display_data",
          "data": {
            "text/plain": [],
            "text/html": [
              "<pre style=\"white-space:pre;overflow-x:auto;line-height:normal;font-family:Menlo,'DejaVu Sans Mono',consolas,'Courier New',monospace\"></pre>\n"
            ]
          },
          "metadata": {}
        },
        {
          "output_type": "display_data",
          "data": {
            "text/plain": [],
            "text/html": [
              "<pre style=\"white-space:pre;overflow-x:auto;line-height:normal;font-family:Menlo,'DejaVu Sans Mono',consolas,'Courier New',monospace\"></pre>\n"
            ]
          },
          "metadata": {}
        },
        {
          "output_type": "stream",
          "name": "stdout",
          "text": [
            "Saved to bark_samples/Hey_have_you_heard_a-SPK-random.wav/final_A_little_too_ironic_-SPK-random.wav\n"
          ]
        }
      ],
      "source": [
        "# These segement sizes look better so now so set dry_run to False to run for real\n",
        "# Because we set hoarder_mode we can see the wav files for each segment in the Colab File Manager\n",
        "\n",
        "kwargs[\"dry_run\"] = False\n",
        "full_generation_segments, audio_arr_segments, final_filename_will_be = api.generate_audio_long(**kwargs)"
      ]
    },
    {
      "cell_type": "code",
      "execution_count": null,
      "metadata": {
        "id": "Qqyw-Uk1axiC"
      },
      "outputs": [],
      "source": [
        "print(f\"  final wav at {final_filename_will_be}  \")\n",
        "# (we see many wav because we set hoarder_mode, but one file will be the final product\n",
        "# set hoarder_mode=False if you just want the file wav and aren't in explore mode\n",
        "\n",
        "# or play here \n",
        "Audio(np.concatenate(audio_arr_segments), rate=generation.SAMPLE_RATE) \n"
      ]
    },
    {
      "cell_type": "code",
      "source": [
        "# because we set hoarder mode we also saved each segement as its own seperate sample with wav\n",
        "\n",
        "!find \"bark_samples/\" -name \"*.npz\"\n",
        "\n",
        "display_wav_files(\"bark_samples/\")"
      ],
      "metadata": {
        "colab": {
          "base_uri": "https://localhost:8080/",
          "height": 497,
          "referenced_widgets": [
            "8ea29b7225d541f080777684c195f999",
            "a98dc53d118d496981706e6b51165c62",
            "6caacddbe9c342a7b385dee13264b934",
            "2abd2834c2e64c0fb4ca048e3e022949",
            "c85a04777707427fb4feaa1a490bbf59",
            "917113d8bf08419eaae8225762200a3b",
            "71bbd6f43cf144f7ab36bed80b4a68d6",
            "5d10427092ce494092dd22dde8b329f6",
            "a3f6f1b2f7e84dd5a49a5581c0769a62",
            "6b6084bdd35e4d178057706993d60140",
            "7f4e5dff04df4aaeb093c8f0c82df3b3",
            "9019d02759574f9e959c85ec2730ca59",
            "db9a72ac819040338d9af5d9814820a0",
            "25d7021cabf5433298269e42666f9a85",
            "c812f5dc984444ad9dba077f0e64ef1c",
            "da58ffbea7604844aa6c54815887445f",
            "4221c0af5d7f4eed884d4647db6a4d7e",
            "16c5ddc2cd62477e80085a7f969ea4e0",
            "6d939e0401824fa0a02a00e1358504ad",
            "a32ffcd3be074dc7be0a6e2d65b0c4bb",
            "fe89cce3a1eb4ef59210501f8e853cf2"
          ]
        },
        "id": "yqORA8ajXMrk",
        "outputId": "1c9960b5-da6c-458a-9af2-d8a814db0b99"
      },
      "execution_count": null,
      "outputs": [
        {
          "output_type": "stream",
          "name": "stdout",
          "text": [
            "bark_samples/Hey_have_you_heard_a-SPK-random.wav/006_A_little_too_ironic_-SPK-random.wav.npz\n",
            "bark_samples/Hey_have_you_heard_a-SPK-random.wav/003_When_you_think_every-SPK-random.wav.npz\n",
            "bark_samples/Hey_have_you_heard_a-SPK-random.wav/001_Hey_have_you_heard_a-SPK-random.wav.npz\n",
            "bark_samples/Hey_have_you_heard_a-SPK-random.wav/004_And_everything_blows-SPK-random.wav.npz\n",
            "bark_samples/Hey_have_you_heard_a-SPK-random.wav/final_A_little_too_ironic_-SPK-random.wav.npz\n",
            "bark_samples/Hey_have_you_heard_a-SPK-random.wav/002_Its_the_good_advice_-SPK-random.wav.npz\n",
            "bark_samples/Hey_have_you_heard_a-SPK-random.wav/005_Its_like_ten_thousan-SPK-random.wav.npz\n"
          ]
        },
        {
          "output_type": "display_data",
          "data": {
            "text/plain": [
              "\u001b[1m<\u001b[0m\u001b[1;95mbark_samples\u001b[0m\u001b[39m/Hey_have_you_heard_a-SPK-random.wav\u001b[0m\u001b[1m>\u001b[0m\n"
            ],
            "text/html": [
              "<pre style=\"white-space:pre;overflow-x:auto;line-height:normal;font-family:Menlo,'DejaVu Sans Mono',consolas,'Courier New',monospace\"><span style=\"font-weight: bold\">&lt;</span><span style=\"color: #ff00ff; text-decoration-color: #ff00ff; font-weight: bold\">bark_samples</span><span style=\"color: #000000; text-decoration-color: #000000\">/Hey_have_you_heard_a-SPK-random.wav</span><span style=\"font-weight: bold\">&gt;</span>\n",
              "</pre>\n"
            ]
          },
          "metadata": {}
        },
        {
          "output_type": "display_data",
          "data": {
            "text/plain": [
              " 001_Hey_have_you_heard_a-SPK-random.wav\n"
            ],
            "text/html": [
              "<pre style=\"white-space:pre;overflow-x:auto;line-height:normal;font-family:Menlo,'DejaVu Sans Mono',consolas,'Courier New',monospace\"> 001_Hey_have_you_heard_a-SPK-random.wav\n",
              "</pre>\n"
            ]
          },
          "metadata": {}
        },
        {
          "output_type": "display_data",
          "data": {
            "text/plain": [
              "Button(description='Play 001_Hey_have_you_heard_a-SPK-random.wav', style=ButtonStyle())"
            ],
            "application/vnd.jupyter.widget-view+json": {
              "version_major": 2,
              "version_minor": 0,
              "model_id": "8ea29b7225d541f080777684c195f999"
            }
          },
          "metadata": {}
        },
        {
          "output_type": "display_data",
          "data": {
            "text/plain": [
              " 002_Its_the_good_advice_-SPK-random.wav\n"
            ],
            "text/html": [
              "<pre style=\"white-space:pre;overflow-x:auto;line-height:normal;font-family:Menlo,'DejaVu Sans Mono',consolas,'Courier New',monospace\"> 002_Its_the_good_advice_-SPK-random.wav\n",
              "</pre>\n"
            ]
          },
          "metadata": {}
        },
        {
          "output_type": "display_data",
          "data": {
            "text/plain": [
              "Button(description='Play 002_Its_the_good_advice_-SPK-random.wav', style=ButtonStyle())"
            ],
            "application/vnd.jupyter.widget-view+json": {
              "version_major": 2,
              "version_minor": 0,
              "model_id": "2abd2834c2e64c0fb4ca048e3e022949"
            }
          },
          "metadata": {}
        },
        {
          "output_type": "display_data",
          "data": {
            "text/plain": [
              " 003_When_you_think_every-SPK-random.wav\n"
            ],
            "text/html": [
              "<pre style=\"white-space:pre;overflow-x:auto;line-height:normal;font-family:Menlo,'DejaVu Sans Mono',consolas,'Courier New',monospace\"> 003_When_you_think_every-SPK-random.wav\n",
              "</pre>\n"
            ]
          },
          "metadata": {}
        },
        {
          "output_type": "display_data",
          "data": {
            "text/plain": [
              "Button(description='Play 003_When_you_think_every-SPK-random.wav', style=ButtonStyle())"
            ],
            "application/vnd.jupyter.widget-view+json": {
              "version_major": 2,
              "version_minor": 0,
              "model_id": "71bbd6f43cf144f7ab36bed80b4a68d6"
            }
          },
          "metadata": {}
        },
        {
          "output_type": "display_data",
          "data": {
            "text/plain": [
              " 004_And_everything_blows-SPK-random.wav\n"
            ],
            "text/html": [
              "<pre style=\"white-space:pre;overflow-x:auto;line-height:normal;font-family:Menlo,'DejaVu Sans Mono',consolas,'Courier New',monospace\"> 004_And_everything_blows-SPK-random.wav\n",
              "</pre>\n"
            ]
          },
          "metadata": {}
        },
        {
          "output_type": "display_data",
          "data": {
            "text/plain": [
              "Button(description='Play 004_And_everything_blows-SPK-random.wav', style=ButtonStyle())"
            ],
            "application/vnd.jupyter.widget-view+json": {
              "version_major": 2,
              "version_minor": 0,
              "model_id": "6b6084bdd35e4d178057706993d60140"
            }
          },
          "metadata": {}
        },
        {
          "output_type": "display_data",
          "data": {
            "text/plain": [
              " 005_Its_like_ten_thousan-SPK-random.wav\n"
            ],
            "text/html": [
              "<pre style=\"white-space:pre;overflow-x:auto;line-height:normal;font-family:Menlo,'DejaVu Sans Mono',consolas,'Courier New',monospace\"> 005_Its_like_ten_thousan-SPK-random.wav\n",
              "</pre>\n"
            ]
          },
          "metadata": {}
        },
        {
          "output_type": "display_data",
          "data": {
            "text/plain": [
              "Button(description='Play 005_Its_like_ten_thousan-SPK-random.wav', style=ButtonStyle())"
            ],
            "application/vnd.jupyter.widget-view+json": {
              "version_major": 2,
              "version_minor": 0,
              "model_id": "db9a72ac819040338d9af5d9814820a0"
            }
          },
          "metadata": {}
        },
        {
          "output_type": "display_data",
          "data": {
            "text/plain": [
              " 006_A_little_too_ironic_-SPK-random.wav\n"
            ],
            "text/html": [
              "<pre style=\"white-space:pre;overflow-x:auto;line-height:normal;font-family:Menlo,'DejaVu Sans Mono',consolas,'Courier New',monospace\"> 006_A_little_too_ironic_-SPK-random.wav\n",
              "</pre>\n"
            ]
          },
          "metadata": {}
        },
        {
          "output_type": "display_data",
          "data": {
            "text/plain": [
              "Button(description='Play 006_A_little_too_ironic_-SPK-random.wav', style=ButtonStyle())"
            ],
            "application/vnd.jupyter.widget-view+json": {
              "version_major": 2,
              "version_minor": 0,
              "model_id": "da58ffbea7604844aa6c54815887445f"
            }
          },
          "metadata": {}
        },
        {
          "output_type": "display_data",
          "data": {
            "text/plain": [
              " final_A_little_too_ironic_-SPK-random.wav\n"
            ],
            "text/html": [
              "<pre style=\"white-space:pre;overflow-x:auto;line-height:normal;font-family:Menlo,'DejaVu Sans Mono',consolas,'Courier New',monospace\"> final_A_little_too_ironic_-SPK-random.wav\n",
              "</pre>\n"
            ]
          },
          "metadata": {}
        },
        {
          "output_type": "display_data",
          "data": {
            "text/plain": [
              "Button(description='Play final_A_little_too_ironic_-SPK-random.wav', style=ButtonStyle())"
            ],
            "application/vnd.jupyter.widget-view+json": {
              "version_major": 2,
              "version_minor": 0,
              "model_id": "6d939e0401824fa0a02a00e1358504ad"
            }
          },
          "metadata": {}
        }
      ]
    },
    {
      "cell_type": "markdown",
      "source": [
        "### Second Attempt. Can we do better?"
      ],
      "metadata": {
        "id": "psbR-0mxW4Dn"
      }
    },
    {
      "cell_type": "code",
      "source": [
        "# we used stable_mode_interval = 1, so the history_prompt does not evolve between segments\n",
        "# even still the voices that are saved for each segment are one-generation different than the original history prompt\n",
        "# this means they are a *little* bit different, and we may prefer one of them over the original\n",
        "# for example maybe segment 2 was a little more clear, or had a particular emotion, we could use that segment's version as the speaker\n",
        "# in the particular run I'm doing now, that segment ended with a little bit an interesting accent. I'm curious if I can bring that out more.\n",
        "\n",
        "# (should probably rename the file to something sensible though)\n",
        "\n",
        "kwargs[\"history_prompt\"] = \"/content/bark/bark_samples/Hey_have_you_heard_a-SPK-random.wav/002_Its_the_good_advice_-SPK-random.wav.npz\""
      ],
      "metadata": {
        "id": "WQvyiM2sW5xC"
      },
      "execution_count": null,
      "outputs": []
    },
    {
      "cell_type": "code",
      "source": [
        "kwargs[\"text_prompt\"] = f\"I'm speaker number two. I'm the best speaker. Also I'm a free spirit. Let me evolve my voice with every step. Here's my version.\"\n",
        "kwargs[\"text_prompt\"] += text\n",
        "kwargs[\"stable_mode_interval\"] = 0 \n",
        "kwargs[\"output_dir\"] = \"speaker_2_test\"\n",
        "kwargs[\"add_silence_between_segments\"] = 0.0 # No silence, fully merge clips\n",
        "\n",
        "kwargs[\"semantic_min_eos_p\"] = 0.20 # Back to default, let Bark umm and ahh a bit\n",
        "full_generation_segments, audio_arr_segments, final_filename_will_be = api.generate_audio_long(**kwargs)\n",
        "\n"
      ],
      "metadata": {
        "colab": {
          "base_uri": "https://localhost:8080/",
          "height": 1000
        },
        "id": "btp4V86BfAT1",
        "outputId": "0dc09a5e-baca-450f-c7e9-63302a974bea"
      },
      "execution_count": 40,
      "outputs": [
        {
          "output_type": "display_data",
          "data": {
            "text/plain": [
              "\u001b[3m                                               () Segment Breakdown                                                \u001b[0m\n",
              "┏━━━┳━━━━━━━┳━━━━━━━━━━━━┳━━━━━━━━━━━━━━━━━━━━━━━━━━━━━━━━━━━━━━━━━━━━━━━━━━━━━━━━━━━━━━━━━━━━━━━━━━━━━━━━━━━━━━━━┓\n",
              "┃\u001b[1m \u001b[0m\u001b[1m#\u001b[0m\u001b[1m \u001b[0m┃\u001b[1m \u001b[0m\u001b[1mWords\u001b[0m\u001b[1m \u001b[0m┃\u001b[1m \u001b[0m\u001b[1mTime Est  \u001b[0m\u001b[1m \u001b[0m┃\u001b[1m \u001b[0m\u001b[1mSplitting long text aiming for 110 chars max 175                                      \u001b[0m\u001b[1m \u001b[0m┃\n",
              "┡━━━╇━━━━━━━╇━━━━━━━━━━━━╇━━━━━━━━━━━━━━━━━━━━━━━━━━━━━━━━━━━━━━━━━━━━━━━━━━━━━━━━━━━━━━━━━━━━━━━━━━━━━━━━━━━━━━━━┩\n",
              "│\u001b[35m \u001b[0m\u001b[35m1\u001b[0m\u001b[35m \u001b[0m│\u001b[32m \u001b[0m\u001b[32m24   \u001b[0m\u001b[32m \u001b[0m│\u001b[32m \u001b[0m\u001b[32m9.60 secs \u001b[0m\u001b[32m \u001b[0m│ I'm speaker number two. I'm the best speaker. Also I'm a free spirit. Let me evolve my │\n",
              "│\u001b[35m   \u001b[0m│\u001b[32m       \u001b[0m│\u001b[32m            \u001b[0m│ voice with every step. Here's my version.                                              │\n",
              "├───┼───────┼────────────┼────────────────────────────────────────────────────────────────────────────────────────┤\n",
              "│\u001b[35m \u001b[0m\u001b[35m2\u001b[0m\u001b[35m \u001b[0m│\u001b[32m \u001b[0m\u001b[32m26   \u001b[0m\u001b[32m \u001b[0m│\u001b[32m \u001b[0m\u001b[32m10.40 secs\u001b[0m\u001b[32m \u001b[0m│ Hey, have you heard about this new text-to-audio model called \"Bark\"? It's like rain   │\n",
              "│\u001b[35m   \u001b[0m│\u001b[32m       \u001b[0m│\u001b[32m            \u001b[0m│ on your wedding day. It's a free ride when you've already paid.                        │\n",
              "├───┼───────┼────────────┼────────────────────────────────────────────────────────────────────────────────────────┤\n",
              "│\u001b[35m \u001b[0m\u001b[35m3\u001b[0m\u001b[35m \u001b[0m│\u001b[32m \u001b[0m\u001b[32m26   \u001b[0m\u001b[32m \u001b[0m│\u001b[32m \u001b[0m\u001b[32m10.40 secs\u001b[0m\u001b[32m \u001b[0m│ It's the good advice that you just didn't take. And who would've thought? It figures.  │\n",
              "│\u001b[35m   \u001b[0m│\u001b[32m       \u001b[0m│\u001b[32m            \u001b[0m│ Well, life has a funny way of sneaking up on you.                                      │\n",
              "├───┼───────┼────────────┼────────────────────────────────────────────────────────────────────────────────────────┤\n",
              "│\u001b[35m \u001b[0m\u001b[35m4\u001b[0m\u001b[35m \u001b[0m│\u001b[32m \u001b[0m\u001b[32m25   \u001b[0m\u001b[32m \u001b[0m│\u001b[32m \u001b[0m\u001b[32m10.00 secs\u001b[0m\u001b[32m \u001b[0m│ When you think everything's okay and everything's going right. And life has a funny    │\n",
              "│\u001b[35m   \u001b[0m│\u001b[32m       \u001b[0m│\u001b[32m            \u001b[0m│ way of helping you out. When you think everything's gone wrong.                        │\n",
              "├───┼───────┼────────────┼────────────────────────────────────────────────────────────────────────────────────────┤\n",
              "│\u001b[35m \u001b[0m\u001b[35m5\u001b[0m\u001b[35m \u001b[0m│\u001b[32m \u001b[0m\u001b[32m23   \u001b[0m\u001b[32m \u001b[0m│\u001b[32m \u001b[0m\u001b[32m9.20 secs \u001b[0m\u001b[32m \u001b[0m│ And everything blows up in your face. It's a traffic jam when you're already late. A   │\n",
              "│\u001b[35m   \u001b[0m│\u001b[32m       \u001b[0m│\u001b[32m            \u001b[0m│ \"No smoking\" sign on your cigarette break.                                             │\n",
              "├───┼───────┼────────────┼────────────────────────────────────────────────────────────────────────────────────────┤\n",
              "│\u001b[35m \u001b[0m\u001b[35m6\u001b[0m\u001b[35m \u001b[0m│\u001b[32m \u001b[0m\u001b[32m32   \u001b[0m\u001b[32m \u001b[0m│\u001b[32m \u001b[0m\u001b[32m12.80 secs\u001b[0m\u001b[32m \u001b[0m│ It's like ten thousand spoons when all you need is a knife. It's meeting the man of my │\n",
              "│\u001b[35m   \u001b[0m│\u001b[32m       \u001b[0m│\u001b[32m            \u001b[0m│ dreams. And then meeting his beautiful wife. And isn't it ironic? Don't you think?     │\n",
              "├───┼───────┼────────────┼────────────────────────────────────────────────────────────────────────────────────────┤\n",
              "│\u001b[35m \u001b[0m\u001b[35m7\u001b[0m\u001b[35m \u001b[0m│\u001b[32m \u001b[0m\u001b[32m10   \u001b[0m\u001b[32m \u001b[0m│\u001b[32m \u001b[0m\u001b[32m4.00 secs \u001b[0m\u001b[32m \u001b[0m│ A little too ironic. And yeah, I really do think.                                      │\n",
              "└───┴───────┴────────────┴────────────────────────────────────────────────────────────────────────────────────────┘\n"
            ],
            "text/html": [
              "<pre style=\"white-space:pre;overflow-x:auto;line-height:normal;font-family:Menlo,'DejaVu Sans Mono',consolas,'Courier New',monospace\"><span style=\"font-style: italic\">                                               () Segment Breakdown                                                </span>\n",
              "┏━━━┳━━━━━━━┳━━━━━━━━━━━━┳━━━━━━━━━━━━━━━━━━━━━━━━━━━━━━━━━━━━━━━━━━━━━━━━━━━━━━━━━━━━━━━━━━━━━━━━━━━━━━━━━━━━━━━━┓\n",
              "┃<span style=\"font-weight: bold\"> # </span>┃<span style=\"font-weight: bold\"> Words </span>┃<span style=\"font-weight: bold\"> Time Est   </span>┃<span style=\"font-weight: bold\"> Splitting long text aiming for 110 chars max 175                                       </span>┃\n",
              "┡━━━╇━━━━━━━╇━━━━━━━━━━━━╇━━━━━━━━━━━━━━━━━━━━━━━━━━━━━━━━━━━━━━━━━━━━━━━━━━━━━━━━━━━━━━━━━━━━━━━━━━━━━━━━━━━━━━━━┩\n",
              "│<span style=\"color: #800080; text-decoration-color: #800080\"> 1 </span>│<span style=\"color: #008000; text-decoration-color: #008000\"> 24    </span>│<span style=\"color: #008000; text-decoration-color: #008000\"> 9.60 secs  </span>│ I'm speaker number two. I'm the best speaker. Also I'm a free spirit. Let me evolve my │\n",
              "│<span style=\"color: #800080; text-decoration-color: #800080\">   </span>│<span style=\"color: #008000; text-decoration-color: #008000\">       </span>│<span style=\"color: #008000; text-decoration-color: #008000\">            </span>│ voice with every step. Here's my version.                                              │\n",
              "├───┼───────┼────────────┼────────────────────────────────────────────────────────────────────────────────────────┤\n",
              "│<span style=\"color: #800080; text-decoration-color: #800080\"> 2 </span>│<span style=\"color: #008000; text-decoration-color: #008000\"> 26    </span>│<span style=\"color: #008000; text-decoration-color: #008000\"> 10.40 secs </span>│ Hey, have you heard about this new text-to-audio model called \"Bark\"? It's like rain   │\n",
              "│<span style=\"color: #800080; text-decoration-color: #800080\">   </span>│<span style=\"color: #008000; text-decoration-color: #008000\">       </span>│<span style=\"color: #008000; text-decoration-color: #008000\">            </span>│ on your wedding day. It's a free ride when you've already paid.                        │\n",
              "├───┼───────┼────────────┼────────────────────────────────────────────────────────────────────────────────────────┤\n",
              "│<span style=\"color: #800080; text-decoration-color: #800080\"> 3 </span>│<span style=\"color: #008000; text-decoration-color: #008000\"> 26    </span>│<span style=\"color: #008000; text-decoration-color: #008000\"> 10.40 secs </span>│ It's the good advice that you just didn't take. And who would've thought? It figures.  │\n",
              "│<span style=\"color: #800080; text-decoration-color: #800080\">   </span>│<span style=\"color: #008000; text-decoration-color: #008000\">       </span>│<span style=\"color: #008000; text-decoration-color: #008000\">            </span>│ Well, life has a funny way of sneaking up on you.                                      │\n",
              "├───┼───────┼────────────┼────────────────────────────────────────────────────────────────────────────────────────┤\n",
              "│<span style=\"color: #800080; text-decoration-color: #800080\"> 4 </span>│<span style=\"color: #008000; text-decoration-color: #008000\"> 25    </span>│<span style=\"color: #008000; text-decoration-color: #008000\"> 10.00 secs </span>│ When you think everything's okay and everything's going right. And life has a funny    │\n",
              "│<span style=\"color: #800080; text-decoration-color: #800080\">   </span>│<span style=\"color: #008000; text-decoration-color: #008000\">       </span>│<span style=\"color: #008000; text-decoration-color: #008000\">            </span>│ way of helping you out. When you think everything's gone wrong.                        │\n",
              "├───┼───────┼────────────┼────────────────────────────────────────────────────────────────────────────────────────┤\n",
              "│<span style=\"color: #800080; text-decoration-color: #800080\"> 5 </span>│<span style=\"color: #008000; text-decoration-color: #008000\"> 23    </span>│<span style=\"color: #008000; text-decoration-color: #008000\"> 9.20 secs  </span>│ And everything blows up in your face. It's a traffic jam when you're already late. A   │\n",
              "│<span style=\"color: #800080; text-decoration-color: #800080\">   </span>│<span style=\"color: #008000; text-decoration-color: #008000\">       </span>│<span style=\"color: #008000; text-decoration-color: #008000\">            </span>│ \"No smoking\" sign on your cigarette break.                                             │\n",
              "├───┼───────┼────────────┼────────────────────────────────────────────────────────────────────────────────────────┤\n",
              "│<span style=\"color: #800080; text-decoration-color: #800080\"> 6 </span>│<span style=\"color: #008000; text-decoration-color: #008000\"> 32    </span>│<span style=\"color: #008000; text-decoration-color: #008000\"> 12.80 secs </span>│ It's like ten thousand spoons when all you need is a knife. It's meeting the man of my │\n",
              "│<span style=\"color: #800080; text-decoration-color: #800080\">   </span>│<span style=\"color: #008000; text-decoration-color: #008000\">       </span>│<span style=\"color: #008000; text-decoration-color: #008000\">            </span>│ dreams. And then meeting his beautiful wife. And isn't it ironic? Don't you think?     │\n",
              "├───┼───────┼────────────┼────────────────────────────────────────────────────────────────────────────────────────┤\n",
              "│<span style=\"color: #800080; text-decoration-color: #800080\"> 7 </span>│<span style=\"color: #008000; text-decoration-color: #008000\"> 10    </span>│<span style=\"color: #008000; text-decoration-color: #008000\"> 4.00 secs  </span>│ A little too ironic. And yeah, I really do think.                                      │\n",
              "└───┴───────┴────────────┴────────────────────────────────────────────────────────────────────────────────────────┘\n",
              "</pre>\n"
            ]
          },
          "metadata": {}
        },
        {
          "output_type": "stream",
          "name": "stderr",
          "text": [
            " 83%|████████▎ | 83/100 [01:27<00:17,  1.05s/it]\n",
            " 80%|████████  | 80/100 [00:53<00:13,  1.48it/s]\n"
          ]
        },
        {
          "output_type": "display_data",
          "data": {
            "text/plain": [],
            "text/html": [
              "<pre style=\"white-space:pre;overflow-x:auto;line-height:normal;font-family:Menlo,'DejaVu Sans Mono',consolas,'Courier New',monospace\"></pre>\n"
            ]
          },
          "metadata": {}
        },
        {
          "output_type": "display_data",
          "data": {
            "text/plain": [
              "--Segment \u001b[1;36m1\u001b[0m/\u001b[1;36m7\u001b[0m: est. \u001b[1;36m9.\u001b[0m60s\n"
            ],
            "text/html": [
              "<pre style=\"white-space:pre;overflow-x:auto;line-height:normal;font-family:Menlo,'DejaVu Sans Mono',consolas,'Courier New',monospace\">--Segment <span style=\"color: #008080; text-decoration-color: #008080; font-weight: bold\">1</span>/<span style=\"color: #008080; text-decoration-color: #008080; font-weight: bold\">7</span>: est. <span style=\"color: #008080; text-decoration-color: #008080; font-weight: bold\">9.</span>60s\n",
              "</pre>\n"
            ]
          },
          "metadata": {}
        },
        {
          "output_type": "stream",
          "name": "stdout",
          "text": [
            "I'm speaker number two. I'm the best speaker. Also I'm a free spirit. Let me evolve my voice with every step. Here's my version.\n"
          ]
        },
        {
          "output_type": "stream",
          "name": "stderr",
          "text": [
            "100%|██████████| 100/100 [00:09<00:00, 10.38it/s]\n",
            "100%|██████████| 36/36 [00:35<00:00,  1.02it/s]\n",
            "100%|██████████| 3/3 [00:04<00:00,  1.58s/it]\n"
          ]
        },
        {
          "output_type": "display_data",
          "data": {
            "text/plain": [],
            "text/html": [
              "<pre style=\"white-space:pre;overflow-x:auto;line-height:normal;font-family:Menlo,'DejaVu Sans Mono',consolas,'Courier New',monospace\"></pre>\n"
            ]
          },
          "metadata": {}
        },
        {
          "output_type": "display_data",
          "data": {
            "text/plain": [
              "--Segment \u001b[1;36m2\u001b[0m/\u001b[1;36m7\u001b[0m: est. \u001b[1;36m10.\u001b[0m40s\n"
            ],
            "text/html": [
              "<pre style=\"white-space:pre;overflow-x:auto;line-height:normal;font-family:Menlo,'DejaVu Sans Mono',consolas,'Courier New',monospace\">--Segment <span style=\"color: #008080; text-decoration-color: #008080; font-weight: bold\">2</span>/<span style=\"color: #008080; text-decoration-color: #008080; font-weight: bold\">7</span>: est. <span style=\"color: #008080; text-decoration-color: #008080; font-weight: bold\">10.</span>40s\n",
              "</pre>\n"
            ]
          },
          "metadata": {}
        },
        {
          "output_type": "stream",
          "name": "stdout",
          "text": [
            "Hey, have you heard about this new text-to-audio model called \"Bark\"? It's like rain on your wedding day. It's a free ride when you've already paid.\n"
          ]
        },
        {
          "output_type": "stream",
          "name": "stderr",
          "text": [
            "100%|██████████| 100/100 [00:09<00:00, 10.69it/s]\n",
            "100%|██████████| 32/32 [00:30<00:00,  1.04it/s]\n",
            "100%|██████████| 2/2 [00:03<00:00,  1.61s/it]\n"
          ]
        },
        {
          "output_type": "display_data",
          "data": {
            "text/plain": [],
            "text/html": [
              "<pre style=\"white-space:pre;overflow-x:auto;line-height:normal;font-family:Menlo,'DejaVu Sans Mono',consolas,'Courier New',monospace\"></pre>\n"
            ]
          },
          "metadata": {}
        },
        {
          "output_type": "display_data",
          "data": {
            "text/plain": [
              "--Segment \u001b[1;36m3\u001b[0m/\u001b[1;36m7\u001b[0m: est. \u001b[1;36m10.\u001b[0m40s\n"
            ],
            "text/html": [
              "<pre style=\"white-space:pre;overflow-x:auto;line-height:normal;font-family:Menlo,'DejaVu Sans Mono',consolas,'Courier New',monospace\">--Segment <span style=\"color: #008080; text-decoration-color: #008080; font-weight: bold\">3</span>/<span style=\"color: #008080; text-decoration-color: #008080; font-weight: bold\">7</span>: est. <span style=\"color: #008080; text-decoration-color: #008080; font-weight: bold\">10.</span>40s\n",
              "</pre>\n"
            ]
          },
          "metadata": {}
        },
        {
          "output_type": "stream",
          "name": "stdout",
          "text": [
            "It's the good advice that you just didn't take. And who would've thought? It figures. Well, life has a funny way of sneaking up on you.\n"
          ]
        },
        {
          "output_type": "stream",
          "name": "stderr",
          "text": [
            "100%|██████████| 100/100 [00:09<00:00, 10.20it/s]\n",
            "100%|██████████| 34/34 [00:33<00:00,  1.02it/s]\n",
            "100%|██████████| 2/2 [00:03<00:00,  1.74s/it]\n"
          ]
        },
        {
          "output_type": "display_data",
          "data": {
            "text/plain": [],
            "text/html": [
              "<pre style=\"white-space:pre;overflow-x:auto;line-height:normal;font-family:Menlo,'DejaVu Sans Mono',consolas,'Courier New',monospace\"></pre>\n"
            ]
          },
          "metadata": {}
        },
        {
          "output_type": "display_data",
          "data": {
            "text/plain": [
              "--Segment \u001b[1;36m4\u001b[0m/\u001b[1;36m7\u001b[0m: est. \u001b[1;36m10.\u001b[0m00s\n"
            ],
            "text/html": [
              "<pre style=\"white-space:pre;overflow-x:auto;line-height:normal;font-family:Menlo,'DejaVu Sans Mono',consolas,'Courier New',monospace\">--Segment <span style=\"color: #008080; text-decoration-color: #008080; font-weight: bold\">4</span>/<span style=\"color: #008080; text-decoration-color: #008080; font-weight: bold\">7</span>: est. <span style=\"color: #008080; text-decoration-color: #008080; font-weight: bold\">10.</span>00s\n",
              "</pre>\n"
            ]
          },
          "metadata": {}
        },
        {
          "output_type": "stream",
          "name": "stdout",
          "text": [
            "When you think everything's okay and everything's going right. And life has a funny way of helping you out. When you think everything's gone wrong.\n"
          ]
        },
        {
          "output_type": "stream",
          "name": "stderr",
          "text": [
            "100%|██████████| 100/100 [00:07<00:00, 13.63it/s]\n",
            "100%|██████████| 31/31 [00:29<00:00,  1.05it/s]\n",
            "100%|██████████| 2/2 [00:03<00:00,  1.75s/it]\n"
          ]
        },
        {
          "output_type": "display_data",
          "data": {
            "text/plain": [],
            "text/html": [
              "<pre style=\"white-space:pre;overflow-x:auto;line-height:normal;font-family:Menlo,'DejaVu Sans Mono',consolas,'Courier New',monospace\"></pre>\n"
            ]
          },
          "metadata": {}
        },
        {
          "output_type": "display_data",
          "data": {
            "text/plain": [
              "--Segment \u001b[1;36m5\u001b[0m/\u001b[1;36m7\u001b[0m: est. \u001b[1;36m9.\u001b[0m20s\n"
            ],
            "text/html": [
              "<pre style=\"white-space:pre;overflow-x:auto;line-height:normal;font-family:Menlo,'DejaVu Sans Mono',consolas,'Courier New',monospace\">--Segment <span style=\"color: #008080; text-decoration-color: #008080; font-weight: bold\">5</span>/<span style=\"color: #008080; text-decoration-color: #008080; font-weight: bold\">7</span>: est. <span style=\"color: #008080; text-decoration-color: #008080; font-weight: bold\">9.</span>20s\n",
              "</pre>\n"
            ]
          },
          "metadata": {}
        },
        {
          "output_type": "stream",
          "name": "stdout",
          "text": [
            "And everything blows up in your face. It's a traffic jam when you're already late. A \"No smoking\" sign on your cigarette break.\n"
          ]
        },
        {
          "output_type": "stream",
          "name": "stderr",
          "text": [
            "100%|██████████| 100/100 [00:07<00:00, 12.86it/s]\n",
            "100%|██████████| 30/30 [00:29<00:00,  1.02it/s]\n",
            "100%|██████████| 2/2 [00:03<00:00,  1.64s/it]\n"
          ]
        },
        {
          "output_type": "display_data",
          "data": {
            "text/plain": [],
            "text/html": [
              "<pre style=\"white-space:pre;overflow-x:auto;line-height:normal;font-family:Menlo,'DejaVu Sans Mono',consolas,'Courier New',monospace\"></pre>\n"
            ]
          },
          "metadata": {}
        },
        {
          "output_type": "display_data",
          "data": {
            "text/plain": [
              "--Segment \u001b[1;36m6\u001b[0m/\u001b[1;36m7\u001b[0m: est. \u001b[1;36m12.\u001b[0m80s\n"
            ],
            "text/html": [
              "<pre style=\"white-space:pre;overflow-x:auto;line-height:normal;font-family:Menlo,'DejaVu Sans Mono',consolas,'Courier New',monospace\">--Segment <span style=\"color: #008080; text-decoration-color: #008080; font-weight: bold\">6</span>/<span style=\"color: #008080; text-decoration-color: #008080; font-weight: bold\">7</span>: est. <span style=\"color: #008080; text-decoration-color: #008080; font-weight: bold\">12.</span>80s\n",
              "</pre>\n"
            ]
          },
          "metadata": {}
        },
        {
          "output_type": "stream",
          "name": "stdout",
          "text": [
            "It's like ten thousand spoons when all you need is a knife. It's meeting the man of my dreams. And then meeting his beautiful wife. And isn't it ironic? Don't you think?\n"
          ]
        },
        {
          "output_type": "stream",
          "name": "stderr",
          "text": [
            "100%|██████████| 100/100 [00:09<00:00, 10.32it/s]\n",
            "100%|██████████| 35/35 [00:34<00:00,  1.01it/s]\n",
            "100%|██████████| 3/3 [00:04<00:00,  1.60s/it]\n"
          ]
        },
        {
          "output_type": "display_data",
          "data": {
            "text/plain": [],
            "text/html": [
              "<pre style=\"white-space:pre;overflow-x:auto;line-height:normal;font-family:Menlo,'DejaVu Sans Mono',consolas,'Courier New',monospace\"></pre>\n"
            ]
          },
          "metadata": {}
        },
        {
          "output_type": "display_data",
          "data": {
            "text/plain": [
              "--Segment \u001b[1;36m7\u001b[0m/\u001b[1;36m7\u001b[0m: est. \u001b[1;36m4.\u001b[0m00s\n"
            ],
            "text/html": [
              "<pre style=\"white-space:pre;overflow-x:auto;line-height:normal;font-family:Menlo,'DejaVu Sans Mono',consolas,'Courier New',monospace\">--Segment <span style=\"color: #008080; text-decoration-color: #008080; font-weight: bold\">7</span>/<span style=\"color: #008080; text-decoration-color: #008080; font-weight: bold\">7</span>: est. <span style=\"color: #008080; text-decoration-color: #008080; font-weight: bold\">4.</span>00s\n",
              "</pre>\n"
            ]
          },
          "metadata": {}
        },
        {
          "output_type": "stream",
          "name": "stdout",
          "text": [
            "A little too ironic. And yeah, I really do think.\n"
          ]
        },
        {
          "output_type": "stream",
          "name": "stderr",
          "text": [
            "100%|██████████| 100/100 [00:06<00:00, 16.28it/s]\n",
            "100%|██████████| 26/26 [00:25<00:00,  1.01it/s]\n",
            "100%|██████████| 2/2 [00:03<00:00,  1.67s/it]\n"
          ]
        },
        {
          "output_type": "display_data",
          "data": {
            "text/plain": [],
            "text/html": [
              "<pre style=\"white-space:pre;overflow-x:auto;line-height:normal;font-family:Menlo,'DejaVu Sans Mono',consolas,'Courier New',monospace\"></pre>\n"
            ]
          },
          "metadata": {}
        },
        {
          "output_type": "display_data",
          "data": {
            "text/plain": [],
            "text/html": [
              "<pre style=\"white-space:pre;overflow-x:auto;line-height:normal;font-family:Menlo,'DejaVu Sans Mono',consolas,'Courier New',monospace\"></pre>\n"
            ]
          },
          "metadata": {}
        },
        {
          "output_type": "stream",
          "name": "stdout",
          "text": [
            "Saved to speaker_2_test/Im_speaker_number_tw-SPK-002_Its_the_good_advice_-SPK-random.wav.wav/final_A_little_too_ironic_-SPK-002_Its_the_good_advice_-SPK-random.wav.wav\n"
          ]
        }
      ]
    },
    {
      "cell_type": "code",
      "source": [
        "print(f\"  final wave at {final_filename_will_be}\")\n",
        "Audio(np.concatenate(audio_arr_segments), rate=generation.SAMPLE_RATE) "
      ],
      "metadata": {
        "id": "9fthW9oGw-5g"
      },
      "execution_count": null,
      "outputs": []
    },
    {
      "cell_type": "code",
      "source": [
        "# this clip probably got really weird after a full segments, fully feedbacking into itself. So kwargs[\"stable_mode_interval\"] = 3 might be a good compromise\n",
        "\n",
        "display_wav_files(\"speaker_2_test\")"
      ],
      "metadata": {
        "id": "Rlv4CQrfthY8",
        "colab": {
          "base_uri": "https://localhost:8080/",
          "height": 419,
          "referenced_widgets": [
            "84a7d2a44cff4af0a7ac51201a451c2c",
            "6ea50794f0df4129a5ccc7c736a177c8",
            "500a8ffd11ba44e781ba9bd30cf01798",
            "34f31ddd3abf4912ad4b4d1b6db17c0a",
            "0bcae29b25c24fb7b2304394c5e4b5ff",
            "c4665df69acf4675ac6aa728ece70631",
            "f11e33866bae4f97afd7d8be04f69d08",
            "ba676a7a9b4540f08199903d9d83fea8",
            "d95d5fec436040698a5b4236f3d5d81f",
            "bfb0c1f37e4541aa938041ceb9bfacc2",
            "8aec7773934a4651a88ba343c1a6f6a6",
            "e1a97cc9969c482ebe5ce0c9d1967989",
            "18e25b6d233f4fbeb9fc9ed8e8d0c609",
            "20a060f910274c75a04af4493000a478",
            "d1798f0507c444248c68286d27c26458",
            "8fb28922d6a24e97b5ebe582cc981b07",
            "ee01a0665af84f35a3a9e779e140ef67",
            "b595442996e94d9b87b1fd657ebc512a",
            "8fd2ab5f1b704ac2bbc88a95ff60614a",
            "000ef644370a46adb4bc9918ce248dc2",
            "a3550d6eb97a45809978825e4b8b36a0",
            "82165a42741a4baf8ffc795687a249de",
            "471b04ef64584089b8526b7a2805f94f",
            "e61f0582de914f0ca216966185139808"
          ]
        },
        "outputId": "a759d618-ab34-4e72-f28b-fad64205550a"
      },
      "execution_count": 43,
      "outputs": [
        {
          "output_type": "display_data",
          "data": {
            "text/plain": [
              "\u001b[1m<\u001b[0m\u001b[1;95mspeaker_2_test\u001b[0m\u001b[39m/Im_speaker_number_tw-SPK-002_Its_the_good_advice_-SPK-random.wav.wav\u001b[0m\u001b[1m>\u001b[0m\n"
            ],
            "text/html": [
              "<pre style=\"white-space:pre;overflow-x:auto;line-height:normal;font-family:Menlo,'DejaVu Sans Mono',consolas,'Courier New',monospace\"><span style=\"font-weight: bold\">&lt;</span><span style=\"color: #ff00ff; text-decoration-color: #ff00ff; font-weight: bold\">speaker_2_test</span><span style=\"color: #000000; text-decoration-color: #000000\">/Im_speaker_number_tw-SPK-002_Its_the_good_advice_-SPK-random.wav.wav</span><span style=\"font-weight: bold\">&gt;</span>\n",
              "</pre>\n"
            ]
          },
          "metadata": {}
        },
        {
          "output_type": "display_data",
          "data": {
            "text/plain": [
              " 001_Im_speaker_number_tw-SPK-002_Its_the_good_advice_-SPK-random.wav.wav\n"
            ],
            "text/html": [
              "<pre style=\"white-space:pre;overflow-x:auto;line-height:normal;font-family:Menlo,'DejaVu Sans Mono',consolas,'Courier New',monospace\"> 001_Im_speaker_number_tw-SPK-002_Its_the_good_advice_-SPK-random.wav.wav\n",
              "</pre>\n"
            ]
          },
          "metadata": {}
        },
        {
          "output_type": "display_data",
          "data": {
            "text/plain": [
              "Button(description='Play 001_Im_speaker_number_tw-SPK-002_Its_the_good_advice_-SPK-random.wav.wav', style=Butt…"
            ],
            "application/vnd.jupyter.widget-view+json": {
              "version_major": 2,
              "version_minor": 0,
              "model_id": "84a7d2a44cff4af0a7ac51201a451c2c"
            }
          },
          "metadata": {}
        },
        {
          "output_type": "display_data",
          "data": {
            "text/plain": [
              " 002_Hey_have_you_heard_a-SPK-002_Its_the_good_advice_-SPK-random.wav.wav\n"
            ],
            "text/html": [
              "<pre style=\"white-space:pre;overflow-x:auto;line-height:normal;font-family:Menlo,'DejaVu Sans Mono',consolas,'Courier New',monospace\"> 002_Hey_have_you_heard_a-SPK-002_Its_the_good_advice_-SPK-random.wav.wav\n",
              "</pre>\n"
            ]
          },
          "metadata": {}
        },
        {
          "output_type": "display_data",
          "data": {
            "text/plain": [
              "Button(description='Play 002_Hey_have_you_heard_a-SPK-002_Its_the_good_advice_-SPK-random.wav.wav', style=Butt…"
            ],
            "application/vnd.jupyter.widget-view+json": {
              "version_major": 2,
              "version_minor": 0,
              "model_id": "34f31ddd3abf4912ad4b4d1b6db17c0a"
            }
          },
          "metadata": {}
        },
        {
          "output_type": "display_data",
          "data": {
            "text/plain": [
              " 003_Its_the_good_advice_-SPK-002_Its_the_good_advice_-SPK-random.wav.wav\n"
            ],
            "text/html": [
              "<pre style=\"white-space:pre;overflow-x:auto;line-height:normal;font-family:Menlo,'DejaVu Sans Mono',consolas,'Courier New',monospace\"> 003_Its_the_good_advice_-SPK-002_Its_the_good_advice_-SPK-random.wav.wav\n",
              "</pre>\n"
            ]
          },
          "metadata": {}
        },
        {
          "output_type": "display_data",
          "data": {
            "text/plain": [
              "Button(description='Play 003_Its_the_good_advice_-SPK-002_Its_the_good_advice_-SPK-random.wav.wav', style=Butt…"
            ],
            "application/vnd.jupyter.widget-view+json": {
              "version_major": 2,
              "version_minor": 0,
              "model_id": "f11e33866bae4f97afd7d8be04f69d08"
            }
          },
          "metadata": {}
        },
        {
          "output_type": "display_data",
          "data": {
            "text/plain": [
              " 004_When_you_think_every-SPK-002_Its_the_good_advice_-SPK-random.wav.wav\n"
            ],
            "text/html": [
              "<pre style=\"white-space:pre;overflow-x:auto;line-height:normal;font-family:Menlo,'DejaVu Sans Mono',consolas,'Courier New',monospace\"> 004_When_you_think_every-SPK-002_Its_the_good_advice_-SPK-random.wav.wav\n",
              "</pre>\n"
            ]
          },
          "metadata": {}
        },
        {
          "output_type": "display_data",
          "data": {
            "text/plain": [
              "Button(description='Play 004_When_you_think_every-SPK-002_Its_the_good_advice_-SPK-random.wav.wav', style=Butt…"
            ],
            "application/vnd.jupyter.widget-view+json": {
              "version_major": 2,
              "version_minor": 0,
              "model_id": "bfb0c1f37e4541aa938041ceb9bfacc2"
            }
          },
          "metadata": {}
        },
        {
          "output_type": "display_data",
          "data": {
            "text/plain": [
              " 005_And_everything_blows-SPK-002_Its_the_good_advice_-SPK-random.wav.wav\n"
            ],
            "text/html": [
              "<pre style=\"white-space:pre;overflow-x:auto;line-height:normal;font-family:Menlo,'DejaVu Sans Mono',consolas,'Courier New',monospace\"> 005_And_everything_blows-SPK-002_Its_the_good_advice_-SPK-random.wav.wav\n",
              "</pre>\n"
            ]
          },
          "metadata": {}
        },
        {
          "output_type": "display_data",
          "data": {
            "text/plain": [
              "Button(description='Play 005_And_everything_blows-SPK-002_Its_the_good_advice_-SPK-random.wav.wav', style=Butt…"
            ],
            "application/vnd.jupyter.widget-view+json": {
              "version_major": 2,
              "version_minor": 0,
              "model_id": "18e25b6d233f4fbeb9fc9ed8e8d0c609"
            }
          },
          "metadata": {}
        },
        {
          "output_type": "display_data",
          "data": {
            "text/plain": [
              " 006_Its_like_ten_thousan-SPK-002_Its_the_good_advice_-SPK-random.wav.wav\n"
            ],
            "text/html": [
              "<pre style=\"white-space:pre;overflow-x:auto;line-height:normal;font-family:Menlo,'DejaVu Sans Mono',consolas,'Courier New',monospace\"> 006_Its_like_ten_thousan-SPK-002_Its_the_good_advice_-SPK-random.wav.wav\n",
              "</pre>\n"
            ]
          },
          "metadata": {}
        },
        {
          "output_type": "display_data",
          "data": {
            "text/plain": [
              "Button(description='Play 006_Its_like_ten_thousan-SPK-002_Its_the_good_advice_-SPK-random.wav.wav', style=Butt…"
            ],
            "application/vnd.jupyter.widget-view+json": {
              "version_major": 2,
              "version_minor": 0,
              "model_id": "8fb28922d6a24e97b5ebe582cc981b07"
            }
          },
          "metadata": {}
        },
        {
          "output_type": "display_data",
          "data": {
            "text/plain": [
              " 007_A_little_too_ironic_-SPK-002_Its_the_good_advice_-SPK-random.wav.wav\n"
            ],
            "text/html": [
              "<pre style=\"white-space:pre;overflow-x:auto;line-height:normal;font-family:Menlo,'DejaVu Sans Mono',consolas,'Courier New',monospace\"> 007_A_little_too_ironic_-SPK-002_Its_the_good_advice_-SPK-random.wav.wav\n",
              "</pre>\n"
            ]
          },
          "metadata": {}
        },
        {
          "output_type": "display_data",
          "data": {
            "text/plain": [
              "Button(description='Play 007_A_little_too_ironic_-SPK-002_Its_the_good_advice_-SPK-random.wav.wav', style=Butt…"
            ],
            "application/vnd.jupyter.widget-view+json": {
              "version_major": 2,
              "version_minor": 0,
              "model_id": "8fd2ab5f1b704ac2bbc88a95ff60614a"
            }
          },
          "metadata": {}
        },
        {
          "output_type": "display_data",
          "data": {
            "text/plain": [
              " final_A_little_too_ironic_-SPK-002_Its_the_good_advice_-SPK-random.wav.wav\n"
            ],
            "text/html": [
              "<pre style=\"white-space:pre;overflow-x:auto;line-height:normal;font-family:Menlo,'DejaVu Sans Mono',consolas,'Courier New',monospace\"> final_A_little_too_ironic_-SPK-002_Its_the_good_advice_-SPK-random.wav.wav\n",
              "</pre>\n"
            ]
          },
          "metadata": {}
        },
        {
          "output_type": "display_data",
          "data": {
            "text/plain": [
              "Button(description='Play final_A_little_too_ironic_-SPK-002_Its_the_good_advice_-SPK-random.wav.wav', style=Bu…"
            ],
            "application/vnd.jupyter.widget-view+json": {
              "version_major": 2,
              "version_minor": 0,
              "model_id": "82165a42741a4baf8ffc795687a249de"
            }
          },
          "metadata": {}
        }
      ]
    },
    {
      "cell_type": "markdown",
      "source": [
        "### Finding Our Voice"
      ],
      "metadata": {
        "id": "z64RIV6Kc2_K"
      }
    },
    {
      "cell_type": "code",
      "source": [
        "# That final clip is an improvement, the random voice we got isn't bad but it's not quite doing our beautiful prose justice\n",
        "# we could use an existing history_prompt, but let's try to summon a perfect speaker from the model\n",
        "# we do that by generating many speakers randomly\n",
        "# we could use our first segment text, in my experience there is a better method\n",
        "# try to image: what type of text would be the context in voice I want to hear is likely to appear?\n",
        "# then let's generate 20 sample clips from that\n",
        "\n",
        "# TODO"
      ],
      "metadata": {
        "id": "Q_2NNCiso3vV"
      },
      "execution_count": null,
      "outputs": []
    },
    {
      "cell_type": "code",
      "source": [],
      "metadata": {
        "id": "Q0v6zLxmcr5W"
      },
      "execution_count": null,
      "outputs": []
    }
  ],
  "metadata": {
    "accelerator": "GPU",
    "colab": {
      "collapsed_sections": [
        "HJQ4TI0_Qowr",
        "FHlxNCt3QwIr",
        "uuqkchecXnbm"
      ],
      "provenance": []
    },
    "gpuClass": "standard",
    "kernelspec": {
      "display_name": "Python 3",
      "name": "python3"
    },
    "language_info": {
      "name": "python"
    },
    "widgets": {
      "application/vnd.jupyter.widget-state+json": {
        "027e4d85d7ec446ea17933b1fd4e676c": {
          "model_module": "@jupyter-widgets/controls",
          "model_name": "HBoxModel",
          "model_module_version": "1.5.0",
          "state": {
            "_dom_classes": [],
            "_model_module": "@jupyter-widgets/controls",
            "_model_module_version": "1.5.0",
            "_model_name": "HBoxModel",
            "_view_count": null,
            "_view_module": "@jupyter-widgets/controls",
            "_view_module_version": "1.5.0",
            "_view_name": "HBoxView",
            "box_style": "",
            "children": [
              "IPY_MODEL_32224d540c5244869462288f645951b1",
              "IPY_MODEL_819711a97a6e4fe2b6633eae173b6575",
              "IPY_MODEL_377b633bc3994b52bd0956243d09047a"
            ],
            "layout": "IPY_MODEL_013a3a01de444015993f29262e764d31"
          }
        },
        "32224d540c5244869462288f645951b1": {
          "model_module": "@jupyter-widgets/controls",
          "model_name": "HTMLModel",
          "model_module_version": "1.5.0",
          "state": {
            "_dom_classes": [],
            "_model_module": "@jupyter-widgets/controls",
            "_model_module_version": "1.5.0",
            "_model_name": "HTMLModel",
            "_view_count": null,
            "_view_module": "@jupyter-widgets/controls",
            "_view_module_version": "1.5.0",
            "_view_name": "HTMLView",
            "description": "",
            "description_tooltip": null,
            "layout": "IPY_MODEL_7b2d2049047b459c8e2262c40d0cfa45",
            "placeholder": "​",
            "style": "IPY_MODEL_576df395690b4c0b99830552e2b31cd5",
            "value": "Downloading text_2.pt: 100%"
          }
        },
        "819711a97a6e4fe2b6633eae173b6575": {
          "model_module": "@jupyter-widgets/controls",
          "model_name": "FloatProgressModel",
          "model_module_version": "1.5.0",
          "state": {
            "_dom_classes": [],
            "_model_module": "@jupyter-widgets/controls",
            "_model_module_version": "1.5.0",
            "_model_name": "FloatProgressModel",
            "_view_count": null,
            "_view_module": "@jupyter-widgets/controls",
            "_view_module_version": "1.5.0",
            "_view_name": "ProgressView",
            "bar_style": "success",
            "description": "",
            "description_tooltip": null,
            "layout": "IPY_MODEL_d5c81d66785d4db3b57fbb92fcab58a8",
            "max": 5353258741,
            "min": 0,
            "orientation": "horizontal",
            "style": "IPY_MODEL_8169f42d4d8e4b73bb8d8219aa2e5470",
            "value": 5353258741
          }
        },
        "377b633bc3994b52bd0956243d09047a": {
          "model_module": "@jupyter-widgets/controls",
          "model_name": "HTMLModel",
          "model_module_version": "1.5.0",
          "state": {
            "_dom_classes": [],
            "_model_module": "@jupyter-widgets/controls",
            "_model_module_version": "1.5.0",
            "_model_name": "HTMLModel",
            "_view_count": null,
            "_view_module": "@jupyter-widgets/controls",
            "_view_module_version": "1.5.0",
            "_view_name": "HTMLView",
            "description": "",
            "description_tooltip": null,
            "layout": "IPY_MODEL_00a62ed0e2a7466487681968208fa3bb",
            "placeholder": "​",
            "style": "IPY_MODEL_ced6cb4550d7488286be0b3638c24c84",
            "value": " 5.35G/5.35G [00:39&lt;00:00, 199MB/s]"
          }
        },
        "013a3a01de444015993f29262e764d31": {
          "model_module": "@jupyter-widgets/base",
          "model_name": "LayoutModel",
          "model_module_version": "1.2.0",
          "state": {
            "_model_module": "@jupyter-widgets/base",
            "_model_module_version": "1.2.0",
            "_model_name": "LayoutModel",
            "_view_count": null,
            "_view_module": "@jupyter-widgets/base",
            "_view_module_version": "1.2.0",
            "_view_name": "LayoutView",
            "align_content": null,
            "align_items": null,
            "align_self": null,
            "border": null,
            "bottom": null,
            "display": null,
            "flex": null,
            "flex_flow": null,
            "grid_area": null,
            "grid_auto_columns": null,
            "grid_auto_flow": null,
            "grid_auto_rows": null,
            "grid_column": null,
            "grid_gap": null,
            "grid_row": null,
            "grid_template_areas": null,
            "grid_template_columns": null,
            "grid_template_rows": null,
            "height": null,
            "justify_content": null,
            "justify_items": null,
            "left": null,
            "margin": null,
            "max_height": null,
            "max_width": null,
            "min_height": null,
            "min_width": null,
            "object_fit": null,
            "object_position": null,
            "order": null,
            "overflow": null,
            "overflow_x": null,
            "overflow_y": null,
            "padding": null,
            "right": null,
            "top": null,
            "visibility": null,
            "width": null
          }
        },
        "7b2d2049047b459c8e2262c40d0cfa45": {
          "model_module": "@jupyter-widgets/base",
          "model_name": "LayoutModel",
          "model_module_version": "1.2.0",
          "state": {
            "_model_module": "@jupyter-widgets/base",
            "_model_module_version": "1.2.0",
            "_model_name": "LayoutModel",
            "_view_count": null,
            "_view_module": "@jupyter-widgets/base",
            "_view_module_version": "1.2.0",
            "_view_name": "LayoutView",
            "align_content": null,
            "align_items": null,
            "align_self": null,
            "border": null,
            "bottom": null,
            "display": null,
            "flex": null,
            "flex_flow": null,
            "grid_area": null,
            "grid_auto_columns": null,
            "grid_auto_flow": null,
            "grid_auto_rows": null,
            "grid_column": null,
            "grid_gap": null,
            "grid_row": null,
            "grid_template_areas": null,
            "grid_template_columns": null,
            "grid_template_rows": null,
            "height": null,
            "justify_content": null,
            "justify_items": null,
            "left": null,
            "margin": null,
            "max_height": null,
            "max_width": null,
            "min_height": null,
            "min_width": null,
            "object_fit": null,
            "object_position": null,
            "order": null,
            "overflow": null,
            "overflow_x": null,
            "overflow_y": null,
            "padding": null,
            "right": null,
            "top": null,
            "visibility": null,
            "width": null
          }
        },
        "576df395690b4c0b99830552e2b31cd5": {
          "model_module": "@jupyter-widgets/controls",
          "model_name": "DescriptionStyleModel",
          "model_module_version": "1.5.0",
          "state": {
            "_model_module": "@jupyter-widgets/controls",
            "_model_module_version": "1.5.0",
            "_model_name": "DescriptionStyleModel",
            "_view_count": null,
            "_view_module": "@jupyter-widgets/base",
            "_view_module_version": "1.2.0",
            "_view_name": "StyleView",
            "description_width": ""
          }
        },
        "d5c81d66785d4db3b57fbb92fcab58a8": {
          "model_module": "@jupyter-widgets/base",
          "model_name": "LayoutModel",
          "model_module_version": "1.2.0",
          "state": {
            "_model_module": "@jupyter-widgets/base",
            "_model_module_version": "1.2.0",
            "_model_name": "LayoutModel",
            "_view_count": null,
            "_view_module": "@jupyter-widgets/base",
            "_view_module_version": "1.2.0",
            "_view_name": "LayoutView",
            "align_content": null,
            "align_items": null,
            "align_self": null,
            "border": null,
            "bottom": null,
            "display": null,
            "flex": null,
            "flex_flow": null,
            "grid_area": null,
            "grid_auto_columns": null,
            "grid_auto_flow": null,
            "grid_auto_rows": null,
            "grid_column": null,
            "grid_gap": null,
            "grid_row": null,
            "grid_template_areas": null,
            "grid_template_columns": null,
            "grid_template_rows": null,
            "height": null,
            "justify_content": null,
            "justify_items": null,
            "left": null,
            "margin": null,
            "max_height": null,
            "max_width": null,
            "min_height": null,
            "min_width": null,
            "object_fit": null,
            "object_position": null,
            "order": null,
            "overflow": null,
            "overflow_x": null,
            "overflow_y": null,
            "padding": null,
            "right": null,
            "top": null,
            "visibility": null,
            "width": null
          }
        },
        "8169f42d4d8e4b73bb8d8219aa2e5470": {
          "model_module": "@jupyter-widgets/controls",
          "model_name": "ProgressStyleModel",
          "model_module_version": "1.5.0",
          "state": {
            "_model_module": "@jupyter-widgets/controls",
            "_model_module_version": "1.5.0",
            "_model_name": "ProgressStyleModel",
            "_view_count": null,
            "_view_module": "@jupyter-widgets/base",
            "_view_module_version": "1.2.0",
            "_view_name": "StyleView",
            "bar_color": null,
            "description_width": ""
          }
        },
        "00a62ed0e2a7466487681968208fa3bb": {
          "model_module": "@jupyter-widgets/base",
          "model_name": "LayoutModel",
          "model_module_version": "1.2.0",
          "state": {
            "_model_module": "@jupyter-widgets/base",
            "_model_module_version": "1.2.0",
            "_model_name": "LayoutModel",
            "_view_count": null,
            "_view_module": "@jupyter-widgets/base",
            "_view_module_version": "1.2.0",
            "_view_name": "LayoutView",
            "align_content": null,
            "align_items": null,
            "align_self": null,
            "border": null,
            "bottom": null,
            "display": null,
            "flex": null,
            "flex_flow": null,
            "grid_area": null,
            "grid_auto_columns": null,
            "grid_auto_flow": null,
            "grid_auto_rows": null,
            "grid_column": null,
            "grid_gap": null,
            "grid_row": null,
            "grid_template_areas": null,
            "grid_template_columns": null,
            "grid_template_rows": null,
            "height": null,
            "justify_content": null,
            "justify_items": null,
            "left": null,
            "margin": null,
            "max_height": null,
            "max_width": null,
            "min_height": null,
            "min_width": null,
            "object_fit": null,
            "object_position": null,
            "order": null,
            "overflow": null,
            "overflow_x": null,
            "overflow_y": null,
            "padding": null,
            "right": null,
            "top": null,
            "visibility": null,
            "width": null
          }
        },
        "ced6cb4550d7488286be0b3638c24c84": {
          "model_module": "@jupyter-widgets/controls",
          "model_name": "DescriptionStyleModel",
          "model_module_version": "1.5.0",
          "state": {
            "_model_module": "@jupyter-widgets/controls",
            "_model_module_version": "1.5.0",
            "_model_name": "DescriptionStyleModel",
            "_view_count": null,
            "_view_module": "@jupyter-widgets/base",
            "_view_module_version": "1.2.0",
            "_view_name": "StyleView",
            "description_width": ""
          }
        },
        "ce598375216545fb9f872b5885675ad6": {
          "model_module": "@jupyter-widgets/controls",
          "model_name": "HBoxModel",
          "model_module_version": "1.5.0",
          "state": {
            "_dom_classes": [],
            "_model_module": "@jupyter-widgets/controls",
            "_model_module_version": "1.5.0",
            "_model_name": "HBoxModel",
            "_view_count": null,
            "_view_module": "@jupyter-widgets/controls",
            "_view_module_version": "1.5.0",
            "_view_name": "HBoxView",
            "box_style": "",
            "children": [
              "IPY_MODEL_321a14b744234326bb8054b8054cbe2a",
              "IPY_MODEL_9a705060d08f41b4ab63838cc18a0b26",
              "IPY_MODEL_e49e13dba43747fe8eef104ae9dc29bb"
            ],
            "layout": "IPY_MODEL_f5ca8b4b942f43f589aa8a32195129a5"
          }
        },
        "321a14b744234326bb8054b8054cbe2a": {
          "model_module": "@jupyter-widgets/controls",
          "model_name": "HTMLModel",
          "model_module_version": "1.5.0",
          "state": {
            "_dom_classes": [],
            "_model_module": "@jupyter-widgets/controls",
            "_model_module_version": "1.5.0",
            "_model_name": "HTMLModel",
            "_view_count": null,
            "_view_module": "@jupyter-widgets/controls",
            "_view_module_version": "1.5.0",
            "_view_name": "HTMLView",
            "description": "",
            "description_tooltip": null,
            "layout": "IPY_MODEL_1bfd3dcb8838423292eac4f14fb91826",
            "placeholder": "​",
            "style": "IPY_MODEL_e552b786de384492b19c100cd80eade6",
            "value": "Downloading (…)solve/main/vocab.txt: 100%"
          }
        },
        "9a705060d08f41b4ab63838cc18a0b26": {
          "model_module": "@jupyter-widgets/controls",
          "model_name": "FloatProgressModel",
          "model_module_version": "1.5.0",
          "state": {
            "_dom_classes": [],
            "_model_module": "@jupyter-widgets/controls",
            "_model_module_version": "1.5.0",
            "_model_name": "FloatProgressModel",
            "_view_count": null,
            "_view_module": "@jupyter-widgets/controls",
            "_view_module_version": "1.5.0",
            "_view_name": "ProgressView",
            "bar_style": "success",
            "description": "",
            "description_tooltip": null,
            "layout": "IPY_MODEL_7b37d306a0d54a24ae2c2c608874ee3e",
            "max": 995526,
            "min": 0,
            "orientation": "horizontal",
            "style": "IPY_MODEL_62d32b94270c41f49616c042ef3fd247",
            "value": 995526
          }
        },
        "e49e13dba43747fe8eef104ae9dc29bb": {
          "model_module": "@jupyter-widgets/controls",
          "model_name": "HTMLModel",
          "model_module_version": "1.5.0",
          "state": {
            "_dom_classes": [],
            "_model_module": "@jupyter-widgets/controls",
            "_model_module_version": "1.5.0",
            "_model_name": "HTMLModel",
            "_view_count": null,
            "_view_module": "@jupyter-widgets/controls",
            "_view_module_version": "1.5.0",
            "_view_name": "HTMLView",
            "description": "",
            "description_tooltip": null,
            "layout": "IPY_MODEL_99537f40148e4a4693045a9c21f27922",
            "placeholder": "​",
            "style": "IPY_MODEL_89b9dceaedc4486891f691662599a129",
            "value": " 996k/996k [00:00&lt;00:00, 13.7MB/s]"
          }
        },
        "f5ca8b4b942f43f589aa8a32195129a5": {
          "model_module": "@jupyter-widgets/base",
          "model_name": "LayoutModel",
          "model_module_version": "1.2.0",
          "state": {
            "_model_module": "@jupyter-widgets/base",
            "_model_module_version": "1.2.0",
            "_model_name": "LayoutModel",
            "_view_count": null,
            "_view_module": "@jupyter-widgets/base",
            "_view_module_version": "1.2.0",
            "_view_name": "LayoutView",
            "align_content": null,
            "align_items": null,
            "align_self": null,
            "border": null,
            "bottom": null,
            "display": null,
            "flex": null,
            "flex_flow": null,
            "grid_area": null,
            "grid_auto_columns": null,
            "grid_auto_flow": null,
            "grid_auto_rows": null,
            "grid_column": null,
            "grid_gap": null,
            "grid_row": null,
            "grid_template_areas": null,
            "grid_template_columns": null,
            "grid_template_rows": null,
            "height": null,
            "justify_content": null,
            "justify_items": null,
            "left": null,
            "margin": null,
            "max_height": null,
            "max_width": null,
            "min_height": null,
            "min_width": null,
            "object_fit": null,
            "object_position": null,
            "order": null,
            "overflow": null,
            "overflow_x": null,
            "overflow_y": null,
            "padding": null,
            "right": null,
            "top": null,
            "visibility": null,
            "width": null
          }
        },
        "1bfd3dcb8838423292eac4f14fb91826": {
          "model_module": "@jupyter-widgets/base",
          "model_name": "LayoutModel",
          "model_module_version": "1.2.0",
          "state": {
            "_model_module": "@jupyter-widgets/base",
            "_model_module_version": "1.2.0",
            "_model_name": "LayoutModel",
            "_view_count": null,
            "_view_module": "@jupyter-widgets/base",
            "_view_module_version": "1.2.0",
            "_view_name": "LayoutView",
            "align_content": null,
            "align_items": null,
            "align_self": null,
            "border": null,
            "bottom": null,
            "display": null,
            "flex": null,
            "flex_flow": null,
            "grid_area": null,
            "grid_auto_columns": null,
            "grid_auto_flow": null,
            "grid_auto_rows": null,
            "grid_column": null,
            "grid_gap": null,
            "grid_row": null,
            "grid_template_areas": null,
            "grid_template_columns": null,
            "grid_template_rows": null,
            "height": null,
            "justify_content": null,
            "justify_items": null,
            "left": null,
            "margin": null,
            "max_height": null,
            "max_width": null,
            "min_height": null,
            "min_width": null,
            "object_fit": null,
            "object_position": null,
            "order": null,
            "overflow": null,
            "overflow_x": null,
            "overflow_y": null,
            "padding": null,
            "right": null,
            "top": null,
            "visibility": null,
            "width": null
          }
        },
        "e552b786de384492b19c100cd80eade6": {
          "model_module": "@jupyter-widgets/controls",
          "model_name": "DescriptionStyleModel",
          "model_module_version": "1.5.0",
          "state": {
            "_model_module": "@jupyter-widgets/controls",
            "_model_module_version": "1.5.0",
            "_model_name": "DescriptionStyleModel",
            "_view_count": null,
            "_view_module": "@jupyter-widgets/base",
            "_view_module_version": "1.2.0",
            "_view_name": "StyleView",
            "description_width": ""
          }
        },
        "7b37d306a0d54a24ae2c2c608874ee3e": {
          "model_module": "@jupyter-widgets/base",
          "model_name": "LayoutModel",
          "model_module_version": "1.2.0",
          "state": {
            "_model_module": "@jupyter-widgets/base",
            "_model_module_version": "1.2.0",
            "_model_name": "LayoutModel",
            "_view_count": null,
            "_view_module": "@jupyter-widgets/base",
            "_view_module_version": "1.2.0",
            "_view_name": "LayoutView",
            "align_content": null,
            "align_items": null,
            "align_self": null,
            "border": null,
            "bottom": null,
            "display": null,
            "flex": null,
            "flex_flow": null,
            "grid_area": null,
            "grid_auto_columns": null,
            "grid_auto_flow": null,
            "grid_auto_rows": null,
            "grid_column": null,
            "grid_gap": null,
            "grid_row": null,
            "grid_template_areas": null,
            "grid_template_columns": null,
            "grid_template_rows": null,
            "height": null,
            "justify_content": null,
            "justify_items": null,
            "left": null,
            "margin": null,
            "max_height": null,
            "max_width": null,
            "min_height": null,
            "min_width": null,
            "object_fit": null,
            "object_position": null,
            "order": null,
            "overflow": null,
            "overflow_x": null,
            "overflow_y": null,
            "padding": null,
            "right": null,
            "top": null,
            "visibility": null,
            "width": null
          }
        },
        "62d32b94270c41f49616c042ef3fd247": {
          "model_module": "@jupyter-widgets/controls",
          "model_name": "ProgressStyleModel",
          "model_module_version": "1.5.0",
          "state": {
            "_model_module": "@jupyter-widgets/controls",
            "_model_module_version": "1.5.0",
            "_model_name": "ProgressStyleModel",
            "_view_count": null,
            "_view_module": "@jupyter-widgets/base",
            "_view_module_version": "1.2.0",
            "_view_name": "StyleView",
            "bar_color": null,
            "description_width": ""
          }
        },
        "99537f40148e4a4693045a9c21f27922": {
          "model_module": "@jupyter-widgets/base",
          "model_name": "LayoutModel",
          "model_module_version": "1.2.0",
          "state": {
            "_model_module": "@jupyter-widgets/base",
            "_model_module_version": "1.2.0",
            "_model_name": "LayoutModel",
            "_view_count": null,
            "_view_module": "@jupyter-widgets/base",
            "_view_module_version": "1.2.0",
            "_view_name": "LayoutView",
            "align_content": null,
            "align_items": null,
            "align_self": null,
            "border": null,
            "bottom": null,
            "display": null,
            "flex": null,
            "flex_flow": null,
            "grid_area": null,
            "grid_auto_columns": null,
            "grid_auto_flow": null,
            "grid_auto_rows": null,
            "grid_column": null,
            "grid_gap": null,
            "grid_row": null,
            "grid_template_areas": null,
            "grid_template_columns": null,
            "grid_template_rows": null,
            "height": null,
            "justify_content": null,
            "justify_items": null,
            "left": null,
            "margin": null,
            "max_height": null,
            "max_width": null,
            "min_height": null,
            "min_width": null,
            "object_fit": null,
            "object_position": null,
            "order": null,
            "overflow": null,
            "overflow_x": null,
            "overflow_y": null,
            "padding": null,
            "right": null,
            "top": null,
            "visibility": null,
            "width": null
          }
        },
        "89b9dceaedc4486891f691662599a129": {
          "model_module": "@jupyter-widgets/controls",
          "model_name": "DescriptionStyleModel",
          "model_module_version": "1.5.0",
          "state": {
            "_model_module": "@jupyter-widgets/controls",
            "_model_module_version": "1.5.0",
            "_model_name": "DescriptionStyleModel",
            "_view_count": null,
            "_view_module": "@jupyter-widgets/base",
            "_view_module_version": "1.2.0",
            "_view_name": "StyleView",
            "description_width": ""
          }
        },
        "0b01544340a146b0bd4a98c9e070afbe": {
          "model_module": "@jupyter-widgets/controls",
          "model_name": "HBoxModel",
          "model_module_version": "1.5.0",
          "state": {
            "_dom_classes": [],
            "_model_module": "@jupyter-widgets/controls",
            "_model_module_version": "1.5.0",
            "_model_name": "HBoxModel",
            "_view_count": null,
            "_view_module": "@jupyter-widgets/controls",
            "_view_module_version": "1.5.0",
            "_view_name": "HBoxView",
            "box_style": "",
            "children": [
              "IPY_MODEL_a78700fee93643aab26605c995accb20",
              "IPY_MODEL_445436b5d19e4f579044ffcf054059ec",
              "IPY_MODEL_52cc22a98c8a41248e970c236de3c54a"
            ],
            "layout": "IPY_MODEL_c55c40e634874df9964171bd0e4dc8f1"
          }
        },
        "a78700fee93643aab26605c995accb20": {
          "model_module": "@jupyter-widgets/controls",
          "model_name": "HTMLModel",
          "model_module_version": "1.5.0",
          "state": {
            "_dom_classes": [],
            "_model_module": "@jupyter-widgets/controls",
            "_model_module_version": "1.5.0",
            "_model_name": "HTMLModel",
            "_view_count": null,
            "_view_module": "@jupyter-widgets/controls",
            "_view_module_version": "1.5.0",
            "_view_name": "HTMLView",
            "description": "",
            "description_tooltip": null,
            "layout": "IPY_MODEL_838e8cacd05f4b67b08dd8c9d47121f6",
            "placeholder": "​",
            "style": "IPY_MODEL_a32e5dc742534acd840867b718b7de26",
            "value": "Downloading (…)okenizer_config.json: 100%"
          }
        },
        "445436b5d19e4f579044ffcf054059ec": {
          "model_module": "@jupyter-widgets/controls",
          "model_name": "FloatProgressModel",
          "model_module_version": "1.5.0",
          "state": {
            "_dom_classes": [],
            "_model_module": "@jupyter-widgets/controls",
            "_model_module_version": "1.5.0",
            "_model_name": "FloatProgressModel",
            "_view_count": null,
            "_view_module": "@jupyter-widgets/controls",
            "_view_module_version": "1.5.0",
            "_view_name": "ProgressView",
            "bar_style": "success",
            "description": "",
            "description_tooltip": null,
            "layout": "IPY_MODEL_6e04bc6dba3a48b98dcab93ca4f2d663",
            "max": 29,
            "min": 0,
            "orientation": "horizontal",
            "style": "IPY_MODEL_8f6013de1c1e4b97b739ca9ccd6e6aa9",
            "value": 29
          }
        },
        "52cc22a98c8a41248e970c236de3c54a": {
          "model_module": "@jupyter-widgets/controls",
          "model_name": "HTMLModel",
          "model_module_version": "1.5.0",
          "state": {
            "_dom_classes": [],
            "_model_module": "@jupyter-widgets/controls",
            "_model_module_version": "1.5.0",
            "_model_name": "HTMLModel",
            "_view_count": null,
            "_view_module": "@jupyter-widgets/controls",
            "_view_module_version": "1.5.0",
            "_view_name": "HTMLView",
            "description": "",
            "description_tooltip": null,
            "layout": "IPY_MODEL_ec2a76e0610c4ad98d65accdc4a76c00",
            "placeholder": "​",
            "style": "IPY_MODEL_424eaff7db5f4a6f93b63f6f3689e925",
            "value": " 29.0/29.0 [00:00&lt;00:00, 1.50kB/s]"
          }
        },
        "c55c40e634874df9964171bd0e4dc8f1": {
          "model_module": "@jupyter-widgets/base",
          "model_name": "LayoutModel",
          "model_module_version": "1.2.0",
          "state": {
            "_model_module": "@jupyter-widgets/base",
            "_model_module_version": "1.2.0",
            "_model_name": "LayoutModel",
            "_view_count": null,
            "_view_module": "@jupyter-widgets/base",
            "_view_module_version": "1.2.0",
            "_view_name": "LayoutView",
            "align_content": null,
            "align_items": null,
            "align_self": null,
            "border": null,
            "bottom": null,
            "display": null,
            "flex": null,
            "flex_flow": null,
            "grid_area": null,
            "grid_auto_columns": null,
            "grid_auto_flow": null,
            "grid_auto_rows": null,
            "grid_column": null,
            "grid_gap": null,
            "grid_row": null,
            "grid_template_areas": null,
            "grid_template_columns": null,
            "grid_template_rows": null,
            "height": null,
            "justify_content": null,
            "justify_items": null,
            "left": null,
            "margin": null,
            "max_height": null,
            "max_width": null,
            "min_height": null,
            "min_width": null,
            "object_fit": null,
            "object_position": null,
            "order": null,
            "overflow": null,
            "overflow_x": null,
            "overflow_y": null,
            "padding": null,
            "right": null,
            "top": null,
            "visibility": null,
            "width": null
          }
        },
        "838e8cacd05f4b67b08dd8c9d47121f6": {
          "model_module": "@jupyter-widgets/base",
          "model_name": "LayoutModel",
          "model_module_version": "1.2.0",
          "state": {
            "_model_module": "@jupyter-widgets/base",
            "_model_module_version": "1.2.0",
            "_model_name": "LayoutModel",
            "_view_count": null,
            "_view_module": "@jupyter-widgets/base",
            "_view_module_version": "1.2.0",
            "_view_name": "LayoutView",
            "align_content": null,
            "align_items": null,
            "align_self": null,
            "border": null,
            "bottom": null,
            "display": null,
            "flex": null,
            "flex_flow": null,
            "grid_area": null,
            "grid_auto_columns": null,
            "grid_auto_flow": null,
            "grid_auto_rows": null,
            "grid_column": null,
            "grid_gap": null,
            "grid_row": null,
            "grid_template_areas": null,
            "grid_template_columns": null,
            "grid_template_rows": null,
            "height": null,
            "justify_content": null,
            "justify_items": null,
            "left": null,
            "margin": null,
            "max_height": null,
            "max_width": null,
            "min_height": null,
            "min_width": null,
            "object_fit": null,
            "object_position": null,
            "order": null,
            "overflow": null,
            "overflow_x": null,
            "overflow_y": null,
            "padding": null,
            "right": null,
            "top": null,
            "visibility": null,
            "width": null
          }
        },
        "a32e5dc742534acd840867b718b7de26": {
          "model_module": "@jupyter-widgets/controls",
          "model_name": "DescriptionStyleModel",
          "model_module_version": "1.5.0",
          "state": {
            "_model_module": "@jupyter-widgets/controls",
            "_model_module_version": "1.5.0",
            "_model_name": "DescriptionStyleModel",
            "_view_count": null,
            "_view_module": "@jupyter-widgets/base",
            "_view_module_version": "1.2.0",
            "_view_name": "StyleView",
            "description_width": ""
          }
        },
        "6e04bc6dba3a48b98dcab93ca4f2d663": {
          "model_module": "@jupyter-widgets/base",
          "model_name": "LayoutModel",
          "model_module_version": "1.2.0",
          "state": {
            "_model_module": "@jupyter-widgets/base",
            "_model_module_version": "1.2.0",
            "_model_name": "LayoutModel",
            "_view_count": null,
            "_view_module": "@jupyter-widgets/base",
            "_view_module_version": "1.2.0",
            "_view_name": "LayoutView",
            "align_content": null,
            "align_items": null,
            "align_self": null,
            "border": null,
            "bottom": null,
            "display": null,
            "flex": null,
            "flex_flow": null,
            "grid_area": null,
            "grid_auto_columns": null,
            "grid_auto_flow": null,
            "grid_auto_rows": null,
            "grid_column": null,
            "grid_gap": null,
            "grid_row": null,
            "grid_template_areas": null,
            "grid_template_columns": null,
            "grid_template_rows": null,
            "height": null,
            "justify_content": null,
            "justify_items": null,
            "left": null,
            "margin": null,
            "max_height": null,
            "max_width": null,
            "min_height": null,
            "min_width": null,
            "object_fit": null,
            "object_position": null,
            "order": null,
            "overflow": null,
            "overflow_x": null,
            "overflow_y": null,
            "padding": null,
            "right": null,
            "top": null,
            "visibility": null,
            "width": null
          }
        },
        "8f6013de1c1e4b97b739ca9ccd6e6aa9": {
          "model_module": "@jupyter-widgets/controls",
          "model_name": "ProgressStyleModel",
          "model_module_version": "1.5.0",
          "state": {
            "_model_module": "@jupyter-widgets/controls",
            "_model_module_version": "1.5.0",
            "_model_name": "ProgressStyleModel",
            "_view_count": null,
            "_view_module": "@jupyter-widgets/base",
            "_view_module_version": "1.2.0",
            "_view_name": "StyleView",
            "bar_color": null,
            "description_width": ""
          }
        },
        "ec2a76e0610c4ad98d65accdc4a76c00": {
          "model_module": "@jupyter-widgets/base",
          "model_name": "LayoutModel",
          "model_module_version": "1.2.0",
          "state": {
            "_model_module": "@jupyter-widgets/base",
            "_model_module_version": "1.2.0",
            "_model_name": "LayoutModel",
            "_view_count": null,
            "_view_module": "@jupyter-widgets/base",
            "_view_module_version": "1.2.0",
            "_view_name": "LayoutView",
            "align_content": null,
            "align_items": null,
            "align_self": null,
            "border": null,
            "bottom": null,
            "display": null,
            "flex": null,
            "flex_flow": null,
            "grid_area": null,
            "grid_auto_columns": null,
            "grid_auto_flow": null,
            "grid_auto_rows": null,
            "grid_column": null,
            "grid_gap": null,
            "grid_row": null,
            "grid_template_areas": null,
            "grid_template_columns": null,
            "grid_template_rows": null,
            "height": null,
            "justify_content": null,
            "justify_items": null,
            "left": null,
            "margin": null,
            "max_height": null,
            "max_width": null,
            "min_height": null,
            "min_width": null,
            "object_fit": null,
            "object_position": null,
            "order": null,
            "overflow": null,
            "overflow_x": null,
            "overflow_y": null,
            "padding": null,
            "right": null,
            "top": null,
            "visibility": null,
            "width": null
          }
        },
        "424eaff7db5f4a6f93b63f6f3689e925": {
          "model_module": "@jupyter-widgets/controls",
          "model_name": "DescriptionStyleModel",
          "model_module_version": "1.5.0",
          "state": {
            "_model_module": "@jupyter-widgets/controls",
            "_model_module_version": "1.5.0",
            "_model_name": "DescriptionStyleModel",
            "_view_count": null,
            "_view_module": "@jupyter-widgets/base",
            "_view_module_version": "1.2.0",
            "_view_name": "StyleView",
            "description_width": ""
          }
        },
        "5bd22e64eae04001ac45ea6d7c0e7e87": {
          "model_module": "@jupyter-widgets/controls",
          "model_name": "HBoxModel",
          "model_module_version": "1.5.0",
          "state": {
            "_dom_classes": [],
            "_model_module": "@jupyter-widgets/controls",
            "_model_module_version": "1.5.0",
            "_model_name": "HBoxModel",
            "_view_count": null,
            "_view_module": "@jupyter-widgets/controls",
            "_view_module_version": "1.5.0",
            "_view_name": "HBoxView",
            "box_style": "",
            "children": [
              "IPY_MODEL_a497d371f1e544b9b78a5218264d1ff9",
              "IPY_MODEL_fe12056cfa4e4f99b4d2f50f678e5ed1",
              "IPY_MODEL_53b1192d99ed41c8a77977329884fec6"
            ],
            "layout": "IPY_MODEL_6b014648489141fd961ef5f22ddf5fd7"
          }
        },
        "a497d371f1e544b9b78a5218264d1ff9": {
          "model_module": "@jupyter-widgets/controls",
          "model_name": "HTMLModel",
          "model_module_version": "1.5.0",
          "state": {
            "_dom_classes": [],
            "_model_module": "@jupyter-widgets/controls",
            "_model_module_version": "1.5.0",
            "_model_name": "HTMLModel",
            "_view_count": null,
            "_view_module": "@jupyter-widgets/controls",
            "_view_module_version": "1.5.0",
            "_view_name": "HTMLView",
            "description": "",
            "description_tooltip": null,
            "layout": "IPY_MODEL_6b0ccecb9e134820a1fe274d30f59537",
            "placeholder": "​",
            "style": "IPY_MODEL_8d6be754d6f44266875d523cc36a3440",
            "value": "Downloading (…)lve/main/config.json: 100%"
          }
        },
        "fe12056cfa4e4f99b4d2f50f678e5ed1": {
          "model_module": "@jupyter-widgets/controls",
          "model_name": "FloatProgressModel",
          "model_module_version": "1.5.0",
          "state": {
            "_dom_classes": [],
            "_model_module": "@jupyter-widgets/controls",
            "_model_module_version": "1.5.0",
            "_model_name": "FloatProgressModel",
            "_view_count": null,
            "_view_module": "@jupyter-widgets/controls",
            "_view_module_version": "1.5.0",
            "_view_name": "ProgressView",
            "bar_style": "success",
            "description": "",
            "description_tooltip": null,
            "layout": "IPY_MODEL_833a52e4023541568e8617ad3e55342e",
            "max": 625,
            "min": 0,
            "orientation": "horizontal",
            "style": "IPY_MODEL_73fb07bc20f94d2f80cb52405489d541",
            "value": 625
          }
        },
        "53b1192d99ed41c8a77977329884fec6": {
          "model_module": "@jupyter-widgets/controls",
          "model_name": "HTMLModel",
          "model_module_version": "1.5.0",
          "state": {
            "_dom_classes": [],
            "_model_module": "@jupyter-widgets/controls",
            "_model_module_version": "1.5.0",
            "_model_name": "HTMLModel",
            "_view_count": null,
            "_view_module": "@jupyter-widgets/controls",
            "_view_module_version": "1.5.0",
            "_view_name": "HTMLView",
            "description": "",
            "description_tooltip": null,
            "layout": "IPY_MODEL_f8dfd5fc27974becbc62a34c26a47e59",
            "placeholder": "​",
            "style": "IPY_MODEL_f05dbf93cf484f4fa2130048ea0bb3ef",
            "value": " 625/625 [00:00&lt;00:00, 42.9kB/s]"
          }
        },
        "6b014648489141fd961ef5f22ddf5fd7": {
          "model_module": "@jupyter-widgets/base",
          "model_name": "LayoutModel",
          "model_module_version": "1.2.0",
          "state": {
            "_model_module": "@jupyter-widgets/base",
            "_model_module_version": "1.2.0",
            "_model_name": "LayoutModel",
            "_view_count": null,
            "_view_module": "@jupyter-widgets/base",
            "_view_module_version": "1.2.0",
            "_view_name": "LayoutView",
            "align_content": null,
            "align_items": null,
            "align_self": null,
            "border": null,
            "bottom": null,
            "display": null,
            "flex": null,
            "flex_flow": null,
            "grid_area": null,
            "grid_auto_columns": null,
            "grid_auto_flow": null,
            "grid_auto_rows": null,
            "grid_column": null,
            "grid_gap": null,
            "grid_row": null,
            "grid_template_areas": null,
            "grid_template_columns": null,
            "grid_template_rows": null,
            "height": null,
            "justify_content": null,
            "justify_items": null,
            "left": null,
            "margin": null,
            "max_height": null,
            "max_width": null,
            "min_height": null,
            "min_width": null,
            "object_fit": null,
            "object_position": null,
            "order": null,
            "overflow": null,
            "overflow_x": null,
            "overflow_y": null,
            "padding": null,
            "right": null,
            "top": null,
            "visibility": null,
            "width": null
          }
        },
        "6b0ccecb9e134820a1fe274d30f59537": {
          "model_module": "@jupyter-widgets/base",
          "model_name": "LayoutModel",
          "model_module_version": "1.2.0",
          "state": {
            "_model_module": "@jupyter-widgets/base",
            "_model_module_version": "1.2.0",
            "_model_name": "LayoutModel",
            "_view_count": null,
            "_view_module": "@jupyter-widgets/base",
            "_view_module_version": "1.2.0",
            "_view_name": "LayoutView",
            "align_content": null,
            "align_items": null,
            "align_self": null,
            "border": null,
            "bottom": null,
            "display": null,
            "flex": null,
            "flex_flow": null,
            "grid_area": null,
            "grid_auto_columns": null,
            "grid_auto_flow": null,
            "grid_auto_rows": null,
            "grid_column": null,
            "grid_gap": null,
            "grid_row": null,
            "grid_template_areas": null,
            "grid_template_columns": null,
            "grid_template_rows": null,
            "height": null,
            "justify_content": null,
            "justify_items": null,
            "left": null,
            "margin": null,
            "max_height": null,
            "max_width": null,
            "min_height": null,
            "min_width": null,
            "object_fit": null,
            "object_position": null,
            "order": null,
            "overflow": null,
            "overflow_x": null,
            "overflow_y": null,
            "padding": null,
            "right": null,
            "top": null,
            "visibility": null,
            "width": null
          }
        },
        "8d6be754d6f44266875d523cc36a3440": {
          "model_module": "@jupyter-widgets/controls",
          "model_name": "DescriptionStyleModel",
          "model_module_version": "1.5.0",
          "state": {
            "_model_module": "@jupyter-widgets/controls",
            "_model_module_version": "1.5.0",
            "_model_name": "DescriptionStyleModel",
            "_view_count": null,
            "_view_module": "@jupyter-widgets/base",
            "_view_module_version": "1.2.0",
            "_view_name": "StyleView",
            "description_width": ""
          }
        },
        "833a52e4023541568e8617ad3e55342e": {
          "model_module": "@jupyter-widgets/base",
          "model_name": "LayoutModel",
          "model_module_version": "1.2.0",
          "state": {
            "_model_module": "@jupyter-widgets/base",
            "_model_module_version": "1.2.0",
            "_model_name": "LayoutModel",
            "_view_count": null,
            "_view_module": "@jupyter-widgets/base",
            "_view_module_version": "1.2.0",
            "_view_name": "LayoutView",
            "align_content": null,
            "align_items": null,
            "align_self": null,
            "border": null,
            "bottom": null,
            "display": null,
            "flex": null,
            "flex_flow": null,
            "grid_area": null,
            "grid_auto_columns": null,
            "grid_auto_flow": null,
            "grid_auto_rows": null,
            "grid_column": null,
            "grid_gap": null,
            "grid_row": null,
            "grid_template_areas": null,
            "grid_template_columns": null,
            "grid_template_rows": null,
            "height": null,
            "justify_content": null,
            "justify_items": null,
            "left": null,
            "margin": null,
            "max_height": null,
            "max_width": null,
            "min_height": null,
            "min_width": null,
            "object_fit": null,
            "object_position": null,
            "order": null,
            "overflow": null,
            "overflow_x": null,
            "overflow_y": null,
            "padding": null,
            "right": null,
            "top": null,
            "visibility": null,
            "width": null
          }
        },
        "73fb07bc20f94d2f80cb52405489d541": {
          "model_module": "@jupyter-widgets/controls",
          "model_name": "ProgressStyleModel",
          "model_module_version": "1.5.0",
          "state": {
            "_model_module": "@jupyter-widgets/controls",
            "_model_module_version": "1.5.0",
            "_model_name": "ProgressStyleModel",
            "_view_count": null,
            "_view_module": "@jupyter-widgets/base",
            "_view_module_version": "1.2.0",
            "_view_name": "StyleView",
            "bar_color": null,
            "description_width": ""
          }
        },
        "f8dfd5fc27974becbc62a34c26a47e59": {
          "model_module": "@jupyter-widgets/base",
          "model_name": "LayoutModel",
          "model_module_version": "1.2.0",
          "state": {
            "_model_module": "@jupyter-widgets/base",
            "_model_module_version": "1.2.0",
            "_model_name": "LayoutModel",
            "_view_count": null,
            "_view_module": "@jupyter-widgets/base",
            "_view_module_version": "1.2.0",
            "_view_name": "LayoutView",
            "align_content": null,
            "align_items": null,
            "align_self": null,
            "border": null,
            "bottom": null,
            "display": null,
            "flex": null,
            "flex_flow": null,
            "grid_area": null,
            "grid_auto_columns": null,
            "grid_auto_flow": null,
            "grid_auto_rows": null,
            "grid_column": null,
            "grid_gap": null,
            "grid_row": null,
            "grid_template_areas": null,
            "grid_template_columns": null,
            "grid_template_rows": null,
            "height": null,
            "justify_content": null,
            "justify_items": null,
            "left": null,
            "margin": null,
            "max_height": null,
            "max_width": null,
            "min_height": null,
            "min_width": null,
            "object_fit": null,
            "object_position": null,
            "order": null,
            "overflow": null,
            "overflow_x": null,
            "overflow_y": null,
            "padding": null,
            "right": null,
            "top": null,
            "visibility": null,
            "width": null
          }
        },
        "f05dbf93cf484f4fa2130048ea0bb3ef": {
          "model_module": "@jupyter-widgets/controls",
          "model_name": "DescriptionStyleModel",
          "model_module_version": "1.5.0",
          "state": {
            "_model_module": "@jupyter-widgets/controls",
            "_model_module_version": "1.5.0",
            "_model_name": "DescriptionStyleModel",
            "_view_count": null,
            "_view_module": "@jupyter-widgets/base",
            "_view_module_version": "1.2.0",
            "_view_name": "StyleView",
            "description_width": ""
          }
        },
        "0196e347c9994627bbcc132d86b8422b": {
          "model_module": "@jupyter-widgets/controls",
          "model_name": "HBoxModel",
          "model_module_version": "1.5.0",
          "state": {
            "_dom_classes": [],
            "_model_module": "@jupyter-widgets/controls",
            "_model_module_version": "1.5.0",
            "_model_name": "HBoxModel",
            "_view_count": null,
            "_view_module": "@jupyter-widgets/controls",
            "_view_module_version": "1.5.0",
            "_view_name": "HBoxView",
            "box_style": "",
            "children": [
              "IPY_MODEL_f2bf510f5e67418f8bde74c11636e2a8",
              "IPY_MODEL_1cf1934e32b74ff3a070b3c6ea1d8dc3",
              "IPY_MODEL_3eaf9a0e62ed494e892905a1b29c68ad"
            ],
            "layout": "IPY_MODEL_ebfb1dd8e70745b29ed93efa1d44fcad"
          }
        },
        "f2bf510f5e67418f8bde74c11636e2a8": {
          "model_module": "@jupyter-widgets/controls",
          "model_name": "HTMLModel",
          "model_module_version": "1.5.0",
          "state": {
            "_dom_classes": [],
            "_model_module": "@jupyter-widgets/controls",
            "_model_module_version": "1.5.0",
            "_model_name": "HTMLModel",
            "_view_count": null,
            "_view_module": "@jupyter-widgets/controls",
            "_view_module_version": "1.5.0",
            "_view_name": "HTMLView",
            "description": "",
            "description_tooltip": null,
            "layout": "IPY_MODEL_8d35ce696ee143fd95295652d6cd2977",
            "placeholder": "​",
            "style": "IPY_MODEL_349f0786f9df43328291527f593435d8",
            "value": "Downloading coarse_2.pt: 100%"
          }
        },
        "1cf1934e32b74ff3a070b3c6ea1d8dc3": {
          "model_module": "@jupyter-widgets/controls",
          "model_name": "FloatProgressModel",
          "model_module_version": "1.5.0",
          "state": {
            "_dom_classes": [],
            "_model_module": "@jupyter-widgets/controls",
            "_model_module_version": "1.5.0",
            "_model_name": "FloatProgressModel",
            "_view_count": null,
            "_view_module": "@jupyter-widgets/controls",
            "_view_module_version": "1.5.0",
            "_view_name": "ProgressView",
            "bar_style": "success",
            "description": "",
            "description_tooltip": null,
            "layout": "IPY_MODEL_897fde99f5d248dcbe917779b5cc2526",
            "max": 3934534533,
            "min": 0,
            "orientation": "horizontal",
            "style": "IPY_MODEL_218c5f11039f43bb8496a6e21efcee91",
            "value": 3934534533
          }
        },
        "3eaf9a0e62ed494e892905a1b29c68ad": {
          "model_module": "@jupyter-widgets/controls",
          "model_name": "HTMLModel",
          "model_module_version": "1.5.0",
          "state": {
            "_dom_classes": [],
            "_model_module": "@jupyter-widgets/controls",
            "_model_module_version": "1.5.0",
            "_model_name": "HTMLModel",
            "_view_count": null,
            "_view_module": "@jupyter-widgets/controls",
            "_view_module_version": "1.5.0",
            "_view_name": "HTMLView",
            "description": "",
            "description_tooltip": null,
            "layout": "IPY_MODEL_36247efa11dc494c8efc0afafaee5e7b",
            "placeholder": "​",
            "style": "IPY_MODEL_bd8681508bcb4d7799036010537633ff",
            "value": " 3.93G/3.93G [00:30&lt;00:00, 191MB/s]"
          }
        },
        "ebfb1dd8e70745b29ed93efa1d44fcad": {
          "model_module": "@jupyter-widgets/base",
          "model_name": "LayoutModel",
          "model_module_version": "1.2.0",
          "state": {
            "_model_module": "@jupyter-widgets/base",
            "_model_module_version": "1.2.0",
            "_model_name": "LayoutModel",
            "_view_count": null,
            "_view_module": "@jupyter-widgets/base",
            "_view_module_version": "1.2.0",
            "_view_name": "LayoutView",
            "align_content": null,
            "align_items": null,
            "align_self": null,
            "border": null,
            "bottom": null,
            "display": null,
            "flex": null,
            "flex_flow": null,
            "grid_area": null,
            "grid_auto_columns": null,
            "grid_auto_flow": null,
            "grid_auto_rows": null,
            "grid_column": null,
            "grid_gap": null,
            "grid_row": null,
            "grid_template_areas": null,
            "grid_template_columns": null,
            "grid_template_rows": null,
            "height": null,
            "justify_content": null,
            "justify_items": null,
            "left": null,
            "margin": null,
            "max_height": null,
            "max_width": null,
            "min_height": null,
            "min_width": null,
            "object_fit": null,
            "object_position": null,
            "order": null,
            "overflow": null,
            "overflow_x": null,
            "overflow_y": null,
            "padding": null,
            "right": null,
            "top": null,
            "visibility": null,
            "width": null
          }
        },
        "8d35ce696ee143fd95295652d6cd2977": {
          "model_module": "@jupyter-widgets/base",
          "model_name": "LayoutModel",
          "model_module_version": "1.2.0",
          "state": {
            "_model_module": "@jupyter-widgets/base",
            "_model_module_version": "1.2.0",
            "_model_name": "LayoutModel",
            "_view_count": null,
            "_view_module": "@jupyter-widgets/base",
            "_view_module_version": "1.2.0",
            "_view_name": "LayoutView",
            "align_content": null,
            "align_items": null,
            "align_self": null,
            "border": null,
            "bottom": null,
            "display": null,
            "flex": null,
            "flex_flow": null,
            "grid_area": null,
            "grid_auto_columns": null,
            "grid_auto_flow": null,
            "grid_auto_rows": null,
            "grid_column": null,
            "grid_gap": null,
            "grid_row": null,
            "grid_template_areas": null,
            "grid_template_columns": null,
            "grid_template_rows": null,
            "height": null,
            "justify_content": null,
            "justify_items": null,
            "left": null,
            "margin": null,
            "max_height": null,
            "max_width": null,
            "min_height": null,
            "min_width": null,
            "object_fit": null,
            "object_position": null,
            "order": null,
            "overflow": null,
            "overflow_x": null,
            "overflow_y": null,
            "padding": null,
            "right": null,
            "top": null,
            "visibility": null,
            "width": null
          }
        },
        "349f0786f9df43328291527f593435d8": {
          "model_module": "@jupyter-widgets/controls",
          "model_name": "DescriptionStyleModel",
          "model_module_version": "1.5.0",
          "state": {
            "_model_module": "@jupyter-widgets/controls",
            "_model_module_version": "1.5.0",
            "_model_name": "DescriptionStyleModel",
            "_view_count": null,
            "_view_module": "@jupyter-widgets/base",
            "_view_module_version": "1.2.0",
            "_view_name": "StyleView",
            "description_width": ""
          }
        },
        "897fde99f5d248dcbe917779b5cc2526": {
          "model_module": "@jupyter-widgets/base",
          "model_name": "LayoutModel",
          "model_module_version": "1.2.0",
          "state": {
            "_model_module": "@jupyter-widgets/base",
            "_model_module_version": "1.2.0",
            "_model_name": "LayoutModel",
            "_view_count": null,
            "_view_module": "@jupyter-widgets/base",
            "_view_module_version": "1.2.0",
            "_view_name": "LayoutView",
            "align_content": null,
            "align_items": null,
            "align_self": null,
            "border": null,
            "bottom": null,
            "display": null,
            "flex": null,
            "flex_flow": null,
            "grid_area": null,
            "grid_auto_columns": null,
            "grid_auto_flow": null,
            "grid_auto_rows": null,
            "grid_column": null,
            "grid_gap": null,
            "grid_row": null,
            "grid_template_areas": null,
            "grid_template_columns": null,
            "grid_template_rows": null,
            "height": null,
            "justify_content": null,
            "justify_items": null,
            "left": null,
            "margin": null,
            "max_height": null,
            "max_width": null,
            "min_height": null,
            "min_width": null,
            "object_fit": null,
            "object_position": null,
            "order": null,
            "overflow": null,
            "overflow_x": null,
            "overflow_y": null,
            "padding": null,
            "right": null,
            "top": null,
            "visibility": null,
            "width": null
          }
        },
        "218c5f11039f43bb8496a6e21efcee91": {
          "model_module": "@jupyter-widgets/controls",
          "model_name": "ProgressStyleModel",
          "model_module_version": "1.5.0",
          "state": {
            "_model_module": "@jupyter-widgets/controls",
            "_model_module_version": "1.5.0",
            "_model_name": "ProgressStyleModel",
            "_view_count": null,
            "_view_module": "@jupyter-widgets/base",
            "_view_module_version": "1.2.0",
            "_view_name": "StyleView",
            "bar_color": null,
            "description_width": ""
          }
        },
        "36247efa11dc494c8efc0afafaee5e7b": {
          "model_module": "@jupyter-widgets/base",
          "model_name": "LayoutModel",
          "model_module_version": "1.2.0",
          "state": {
            "_model_module": "@jupyter-widgets/base",
            "_model_module_version": "1.2.0",
            "_model_name": "LayoutModel",
            "_view_count": null,
            "_view_module": "@jupyter-widgets/base",
            "_view_module_version": "1.2.0",
            "_view_name": "LayoutView",
            "align_content": null,
            "align_items": null,
            "align_self": null,
            "border": null,
            "bottom": null,
            "display": null,
            "flex": null,
            "flex_flow": null,
            "grid_area": null,
            "grid_auto_columns": null,
            "grid_auto_flow": null,
            "grid_auto_rows": null,
            "grid_column": null,
            "grid_gap": null,
            "grid_row": null,
            "grid_template_areas": null,
            "grid_template_columns": null,
            "grid_template_rows": null,
            "height": null,
            "justify_content": null,
            "justify_items": null,
            "left": null,
            "margin": null,
            "max_height": null,
            "max_width": null,
            "min_height": null,
            "min_width": null,
            "object_fit": null,
            "object_position": null,
            "order": null,
            "overflow": null,
            "overflow_x": null,
            "overflow_y": null,
            "padding": null,
            "right": null,
            "top": null,
            "visibility": null,
            "width": null
          }
        },
        "bd8681508bcb4d7799036010537633ff": {
          "model_module": "@jupyter-widgets/controls",
          "model_name": "DescriptionStyleModel",
          "model_module_version": "1.5.0",
          "state": {
            "_model_module": "@jupyter-widgets/controls",
            "_model_module_version": "1.5.0",
            "_model_name": "DescriptionStyleModel",
            "_view_count": null,
            "_view_module": "@jupyter-widgets/base",
            "_view_module_version": "1.2.0",
            "_view_name": "StyleView",
            "description_width": ""
          }
        },
        "dba563834f79488ab1516806c5df19b5": {
          "model_module": "@jupyter-widgets/controls",
          "model_name": "HBoxModel",
          "model_module_version": "1.5.0",
          "state": {
            "_dom_classes": [],
            "_model_module": "@jupyter-widgets/controls",
            "_model_module_version": "1.5.0",
            "_model_name": "HBoxModel",
            "_view_count": null,
            "_view_module": "@jupyter-widgets/controls",
            "_view_module_version": "1.5.0",
            "_view_name": "HBoxView",
            "box_style": "",
            "children": [
              "IPY_MODEL_5c088c4eeffa446c9bbc93ce2ece68da",
              "IPY_MODEL_57e700ef080e41b68d3e0a42e4d6ca2d",
              "IPY_MODEL_08f4442e9955495e8b9bb254cfca0635"
            ],
            "layout": "IPY_MODEL_82395e07a76441d4a21f4f52d7c2d45c"
          }
        },
        "5c088c4eeffa446c9bbc93ce2ece68da": {
          "model_module": "@jupyter-widgets/controls",
          "model_name": "HTMLModel",
          "model_module_version": "1.5.0",
          "state": {
            "_dom_classes": [],
            "_model_module": "@jupyter-widgets/controls",
            "_model_module_version": "1.5.0",
            "_model_name": "HTMLModel",
            "_view_count": null,
            "_view_module": "@jupyter-widgets/controls",
            "_view_module_version": "1.5.0",
            "_view_name": "HTMLView",
            "description": "",
            "description_tooltip": null,
            "layout": "IPY_MODEL_b5188eeb32ed40fc97da82c009515816",
            "placeholder": "​",
            "style": "IPY_MODEL_5336744cf34c40bc83582a75abe5b366",
            "value": "Downloading fine_2.pt: 100%"
          }
        },
        "57e700ef080e41b68d3e0a42e4d6ca2d": {
          "model_module": "@jupyter-widgets/controls",
          "model_name": "FloatProgressModel",
          "model_module_version": "1.5.0",
          "state": {
            "_dom_classes": [],
            "_model_module": "@jupyter-widgets/controls",
            "_model_module_version": "1.5.0",
            "_model_name": "FloatProgressModel",
            "_view_count": null,
            "_view_module": "@jupyter-widgets/controls",
            "_view_module_version": "1.5.0",
            "_view_name": "ProgressView",
            "bar_style": "success",
            "description": "",
            "description_tooltip": null,
            "layout": "IPY_MODEL_2f4e1836c7234e21a9dad9c6f0217a40",
            "max": 3741740229,
            "min": 0,
            "orientation": "horizontal",
            "style": "IPY_MODEL_d6e2321c74d84f8ebcdc6d4418f7afb3",
            "value": 3741740229
          }
        },
        "08f4442e9955495e8b9bb254cfca0635": {
          "model_module": "@jupyter-widgets/controls",
          "model_name": "HTMLModel",
          "model_module_version": "1.5.0",
          "state": {
            "_dom_classes": [],
            "_model_module": "@jupyter-widgets/controls",
            "_model_module_version": "1.5.0",
            "_model_name": "HTMLModel",
            "_view_count": null,
            "_view_module": "@jupyter-widgets/controls",
            "_view_module_version": "1.5.0",
            "_view_name": "HTMLView",
            "description": "",
            "description_tooltip": null,
            "layout": "IPY_MODEL_cd216b4627aa416cbf99ae82efe26a0f",
            "placeholder": "​",
            "style": "IPY_MODEL_404e00dbe5d3426eb438034275151c2c",
            "value": " 3.74G/3.74G [00:42&lt;00:00, 88.5MB/s]"
          }
        },
        "82395e07a76441d4a21f4f52d7c2d45c": {
          "model_module": "@jupyter-widgets/base",
          "model_name": "LayoutModel",
          "model_module_version": "1.2.0",
          "state": {
            "_model_module": "@jupyter-widgets/base",
            "_model_module_version": "1.2.0",
            "_model_name": "LayoutModel",
            "_view_count": null,
            "_view_module": "@jupyter-widgets/base",
            "_view_module_version": "1.2.0",
            "_view_name": "LayoutView",
            "align_content": null,
            "align_items": null,
            "align_self": null,
            "border": null,
            "bottom": null,
            "display": null,
            "flex": null,
            "flex_flow": null,
            "grid_area": null,
            "grid_auto_columns": null,
            "grid_auto_flow": null,
            "grid_auto_rows": null,
            "grid_column": null,
            "grid_gap": null,
            "grid_row": null,
            "grid_template_areas": null,
            "grid_template_columns": null,
            "grid_template_rows": null,
            "height": null,
            "justify_content": null,
            "justify_items": null,
            "left": null,
            "margin": null,
            "max_height": null,
            "max_width": null,
            "min_height": null,
            "min_width": null,
            "object_fit": null,
            "object_position": null,
            "order": null,
            "overflow": null,
            "overflow_x": null,
            "overflow_y": null,
            "padding": null,
            "right": null,
            "top": null,
            "visibility": null,
            "width": null
          }
        },
        "b5188eeb32ed40fc97da82c009515816": {
          "model_module": "@jupyter-widgets/base",
          "model_name": "LayoutModel",
          "model_module_version": "1.2.0",
          "state": {
            "_model_module": "@jupyter-widgets/base",
            "_model_module_version": "1.2.0",
            "_model_name": "LayoutModel",
            "_view_count": null,
            "_view_module": "@jupyter-widgets/base",
            "_view_module_version": "1.2.0",
            "_view_name": "LayoutView",
            "align_content": null,
            "align_items": null,
            "align_self": null,
            "border": null,
            "bottom": null,
            "display": null,
            "flex": null,
            "flex_flow": null,
            "grid_area": null,
            "grid_auto_columns": null,
            "grid_auto_flow": null,
            "grid_auto_rows": null,
            "grid_column": null,
            "grid_gap": null,
            "grid_row": null,
            "grid_template_areas": null,
            "grid_template_columns": null,
            "grid_template_rows": null,
            "height": null,
            "justify_content": null,
            "justify_items": null,
            "left": null,
            "margin": null,
            "max_height": null,
            "max_width": null,
            "min_height": null,
            "min_width": null,
            "object_fit": null,
            "object_position": null,
            "order": null,
            "overflow": null,
            "overflow_x": null,
            "overflow_y": null,
            "padding": null,
            "right": null,
            "top": null,
            "visibility": null,
            "width": null
          }
        },
        "5336744cf34c40bc83582a75abe5b366": {
          "model_module": "@jupyter-widgets/controls",
          "model_name": "DescriptionStyleModel",
          "model_module_version": "1.5.0",
          "state": {
            "_model_module": "@jupyter-widgets/controls",
            "_model_module_version": "1.5.0",
            "_model_name": "DescriptionStyleModel",
            "_view_count": null,
            "_view_module": "@jupyter-widgets/base",
            "_view_module_version": "1.2.0",
            "_view_name": "StyleView",
            "description_width": ""
          }
        },
        "2f4e1836c7234e21a9dad9c6f0217a40": {
          "model_module": "@jupyter-widgets/base",
          "model_name": "LayoutModel",
          "model_module_version": "1.2.0",
          "state": {
            "_model_module": "@jupyter-widgets/base",
            "_model_module_version": "1.2.0",
            "_model_name": "LayoutModel",
            "_view_count": null,
            "_view_module": "@jupyter-widgets/base",
            "_view_module_version": "1.2.0",
            "_view_name": "LayoutView",
            "align_content": null,
            "align_items": null,
            "align_self": null,
            "border": null,
            "bottom": null,
            "display": null,
            "flex": null,
            "flex_flow": null,
            "grid_area": null,
            "grid_auto_columns": null,
            "grid_auto_flow": null,
            "grid_auto_rows": null,
            "grid_column": null,
            "grid_gap": null,
            "grid_row": null,
            "grid_template_areas": null,
            "grid_template_columns": null,
            "grid_template_rows": null,
            "height": null,
            "justify_content": null,
            "justify_items": null,
            "left": null,
            "margin": null,
            "max_height": null,
            "max_width": null,
            "min_height": null,
            "min_width": null,
            "object_fit": null,
            "object_position": null,
            "order": null,
            "overflow": null,
            "overflow_x": null,
            "overflow_y": null,
            "padding": null,
            "right": null,
            "top": null,
            "visibility": null,
            "width": null
          }
        },
        "d6e2321c74d84f8ebcdc6d4418f7afb3": {
          "model_module": "@jupyter-widgets/controls",
          "model_name": "ProgressStyleModel",
          "model_module_version": "1.5.0",
          "state": {
            "_model_module": "@jupyter-widgets/controls",
            "_model_module_version": "1.5.0",
            "_model_name": "ProgressStyleModel",
            "_view_count": null,
            "_view_module": "@jupyter-widgets/base",
            "_view_module_version": "1.2.0",
            "_view_name": "StyleView",
            "bar_color": null,
            "description_width": ""
          }
        },
        "cd216b4627aa416cbf99ae82efe26a0f": {
          "model_module": "@jupyter-widgets/base",
          "model_name": "LayoutModel",
          "model_module_version": "1.2.0",
          "state": {
            "_model_module": "@jupyter-widgets/base",
            "_model_module_version": "1.2.0",
            "_model_name": "LayoutModel",
            "_view_count": null,
            "_view_module": "@jupyter-widgets/base",
            "_view_module_version": "1.2.0",
            "_view_name": "LayoutView",
            "align_content": null,
            "align_items": null,
            "align_self": null,
            "border": null,
            "bottom": null,
            "display": null,
            "flex": null,
            "flex_flow": null,
            "grid_area": null,
            "grid_auto_columns": null,
            "grid_auto_flow": null,
            "grid_auto_rows": null,
            "grid_column": null,
            "grid_gap": null,
            "grid_row": null,
            "grid_template_areas": null,
            "grid_template_columns": null,
            "grid_template_rows": null,
            "height": null,
            "justify_content": null,
            "justify_items": null,
            "left": null,
            "margin": null,
            "max_height": null,
            "max_width": null,
            "min_height": null,
            "min_width": null,
            "object_fit": null,
            "object_position": null,
            "order": null,
            "overflow": null,
            "overflow_x": null,
            "overflow_y": null,
            "padding": null,
            "right": null,
            "top": null,
            "visibility": null,
            "width": null
          }
        },
        "404e00dbe5d3426eb438034275151c2c": {
          "model_module": "@jupyter-widgets/controls",
          "model_name": "DescriptionStyleModel",
          "model_module_version": "1.5.0",
          "state": {
            "_model_module": "@jupyter-widgets/controls",
            "_model_module_version": "1.5.0",
            "_model_name": "DescriptionStyleModel",
            "_view_count": null,
            "_view_module": "@jupyter-widgets/base",
            "_view_module_version": "1.2.0",
            "_view_name": "StyleView",
            "description_width": ""
          }
        },
        "8ea29b7225d541f080777684c195f999": {
          "model_module": "@jupyter-widgets/controls",
          "model_name": "ButtonModel",
          "model_module_version": "1.5.0",
          "state": {
            "_dom_classes": [],
            "_model_module": "@jupyter-widgets/controls",
            "_model_module_version": "1.5.0",
            "_model_name": "ButtonModel",
            "_view_count": null,
            "_view_module": "@jupyter-widgets/controls",
            "_view_module_version": "1.5.0",
            "_view_name": "ButtonView",
            "button_style": "",
            "description": "Play 001_Hey_have_you_heard_a-SPK-random.wav",
            "disabled": false,
            "icon": "",
            "layout": "IPY_MODEL_a98dc53d118d496981706e6b51165c62",
            "style": "IPY_MODEL_6caacddbe9c342a7b385dee13264b934",
            "tooltip": ""
          }
        },
        "a98dc53d118d496981706e6b51165c62": {
          "model_module": "@jupyter-widgets/base",
          "model_name": "LayoutModel",
          "model_module_version": "1.2.0",
          "state": {
            "_model_module": "@jupyter-widgets/base",
            "_model_module_version": "1.2.0",
            "_model_name": "LayoutModel",
            "_view_count": null,
            "_view_module": "@jupyter-widgets/base",
            "_view_module_version": "1.2.0",
            "_view_name": "LayoutView",
            "align_content": null,
            "align_items": null,
            "align_self": null,
            "border": null,
            "bottom": null,
            "display": null,
            "flex": null,
            "flex_flow": null,
            "grid_area": null,
            "grid_auto_columns": null,
            "grid_auto_flow": null,
            "grid_auto_rows": null,
            "grid_column": null,
            "grid_gap": null,
            "grid_row": null,
            "grid_template_areas": null,
            "grid_template_columns": null,
            "grid_template_rows": null,
            "height": null,
            "justify_content": null,
            "justify_items": null,
            "left": null,
            "margin": null,
            "max_height": null,
            "max_width": null,
            "min_height": null,
            "min_width": null,
            "object_fit": null,
            "object_position": null,
            "order": null,
            "overflow": null,
            "overflow_x": null,
            "overflow_y": null,
            "padding": null,
            "right": null,
            "top": null,
            "visibility": null,
            "width": null
          }
        },
        "6caacddbe9c342a7b385dee13264b934": {
          "model_module": "@jupyter-widgets/controls",
          "model_name": "ButtonStyleModel",
          "model_module_version": "1.5.0",
          "state": {
            "_model_module": "@jupyter-widgets/controls",
            "_model_module_version": "1.5.0",
            "_model_name": "ButtonStyleModel",
            "_view_count": null,
            "_view_module": "@jupyter-widgets/base",
            "_view_module_version": "1.2.0",
            "_view_name": "StyleView",
            "button_color": null,
            "font_weight": ""
          }
        },
        "2abd2834c2e64c0fb4ca048e3e022949": {
          "model_module": "@jupyter-widgets/controls",
          "model_name": "ButtonModel",
          "model_module_version": "1.5.0",
          "state": {
            "_dom_classes": [],
            "_model_module": "@jupyter-widgets/controls",
            "_model_module_version": "1.5.0",
            "_model_name": "ButtonModel",
            "_view_count": null,
            "_view_module": "@jupyter-widgets/controls",
            "_view_module_version": "1.5.0",
            "_view_name": "ButtonView",
            "button_style": "",
            "description": "Play 002_Its_the_good_advice_-SPK-random.wav",
            "disabled": false,
            "icon": "",
            "layout": "IPY_MODEL_c85a04777707427fb4feaa1a490bbf59",
            "style": "IPY_MODEL_917113d8bf08419eaae8225762200a3b",
            "tooltip": ""
          }
        },
        "c85a04777707427fb4feaa1a490bbf59": {
          "model_module": "@jupyter-widgets/base",
          "model_name": "LayoutModel",
          "model_module_version": "1.2.0",
          "state": {
            "_model_module": "@jupyter-widgets/base",
            "_model_module_version": "1.2.0",
            "_model_name": "LayoutModel",
            "_view_count": null,
            "_view_module": "@jupyter-widgets/base",
            "_view_module_version": "1.2.0",
            "_view_name": "LayoutView",
            "align_content": null,
            "align_items": null,
            "align_self": null,
            "border": null,
            "bottom": null,
            "display": null,
            "flex": null,
            "flex_flow": null,
            "grid_area": null,
            "grid_auto_columns": null,
            "grid_auto_flow": null,
            "grid_auto_rows": null,
            "grid_column": null,
            "grid_gap": null,
            "grid_row": null,
            "grid_template_areas": null,
            "grid_template_columns": null,
            "grid_template_rows": null,
            "height": null,
            "justify_content": null,
            "justify_items": null,
            "left": null,
            "margin": null,
            "max_height": null,
            "max_width": null,
            "min_height": null,
            "min_width": null,
            "object_fit": null,
            "object_position": null,
            "order": null,
            "overflow": null,
            "overflow_x": null,
            "overflow_y": null,
            "padding": null,
            "right": null,
            "top": null,
            "visibility": null,
            "width": null
          }
        },
        "917113d8bf08419eaae8225762200a3b": {
          "model_module": "@jupyter-widgets/controls",
          "model_name": "ButtonStyleModel",
          "model_module_version": "1.5.0",
          "state": {
            "_model_module": "@jupyter-widgets/controls",
            "_model_module_version": "1.5.0",
            "_model_name": "ButtonStyleModel",
            "_view_count": null,
            "_view_module": "@jupyter-widgets/base",
            "_view_module_version": "1.2.0",
            "_view_name": "StyleView",
            "button_color": null,
            "font_weight": ""
          }
        },
        "71bbd6f43cf144f7ab36bed80b4a68d6": {
          "model_module": "@jupyter-widgets/controls",
          "model_name": "ButtonModel",
          "model_module_version": "1.5.0",
          "state": {
            "_dom_classes": [],
            "_model_module": "@jupyter-widgets/controls",
            "_model_module_version": "1.5.0",
            "_model_name": "ButtonModel",
            "_view_count": null,
            "_view_module": "@jupyter-widgets/controls",
            "_view_module_version": "1.5.0",
            "_view_name": "ButtonView",
            "button_style": "",
            "description": "Play 003_When_you_think_every-SPK-random.wav",
            "disabled": false,
            "icon": "",
            "layout": "IPY_MODEL_5d10427092ce494092dd22dde8b329f6",
            "style": "IPY_MODEL_a3f6f1b2f7e84dd5a49a5581c0769a62",
            "tooltip": ""
          }
        },
        "5d10427092ce494092dd22dde8b329f6": {
          "model_module": "@jupyter-widgets/base",
          "model_name": "LayoutModel",
          "model_module_version": "1.2.0",
          "state": {
            "_model_module": "@jupyter-widgets/base",
            "_model_module_version": "1.2.0",
            "_model_name": "LayoutModel",
            "_view_count": null,
            "_view_module": "@jupyter-widgets/base",
            "_view_module_version": "1.2.0",
            "_view_name": "LayoutView",
            "align_content": null,
            "align_items": null,
            "align_self": null,
            "border": null,
            "bottom": null,
            "display": null,
            "flex": null,
            "flex_flow": null,
            "grid_area": null,
            "grid_auto_columns": null,
            "grid_auto_flow": null,
            "grid_auto_rows": null,
            "grid_column": null,
            "grid_gap": null,
            "grid_row": null,
            "grid_template_areas": null,
            "grid_template_columns": null,
            "grid_template_rows": null,
            "height": null,
            "justify_content": null,
            "justify_items": null,
            "left": null,
            "margin": null,
            "max_height": null,
            "max_width": null,
            "min_height": null,
            "min_width": null,
            "object_fit": null,
            "object_position": null,
            "order": null,
            "overflow": null,
            "overflow_x": null,
            "overflow_y": null,
            "padding": null,
            "right": null,
            "top": null,
            "visibility": null,
            "width": null
          }
        },
        "a3f6f1b2f7e84dd5a49a5581c0769a62": {
          "model_module": "@jupyter-widgets/controls",
          "model_name": "ButtonStyleModel",
          "model_module_version": "1.5.0",
          "state": {
            "_model_module": "@jupyter-widgets/controls",
            "_model_module_version": "1.5.0",
            "_model_name": "ButtonStyleModel",
            "_view_count": null,
            "_view_module": "@jupyter-widgets/base",
            "_view_module_version": "1.2.0",
            "_view_name": "StyleView",
            "button_color": null,
            "font_weight": ""
          }
        },
        "6b6084bdd35e4d178057706993d60140": {
          "model_module": "@jupyter-widgets/controls",
          "model_name": "ButtonModel",
          "model_module_version": "1.5.0",
          "state": {
            "_dom_classes": [],
            "_model_module": "@jupyter-widgets/controls",
            "_model_module_version": "1.5.0",
            "_model_name": "ButtonModel",
            "_view_count": null,
            "_view_module": "@jupyter-widgets/controls",
            "_view_module_version": "1.5.0",
            "_view_name": "ButtonView",
            "button_style": "",
            "description": "Play 004_And_everything_blows-SPK-random.wav",
            "disabled": false,
            "icon": "",
            "layout": "IPY_MODEL_7f4e5dff04df4aaeb093c8f0c82df3b3",
            "style": "IPY_MODEL_9019d02759574f9e959c85ec2730ca59",
            "tooltip": ""
          }
        },
        "7f4e5dff04df4aaeb093c8f0c82df3b3": {
          "model_module": "@jupyter-widgets/base",
          "model_name": "LayoutModel",
          "model_module_version": "1.2.0",
          "state": {
            "_model_module": "@jupyter-widgets/base",
            "_model_module_version": "1.2.0",
            "_model_name": "LayoutModel",
            "_view_count": null,
            "_view_module": "@jupyter-widgets/base",
            "_view_module_version": "1.2.0",
            "_view_name": "LayoutView",
            "align_content": null,
            "align_items": null,
            "align_self": null,
            "border": null,
            "bottom": null,
            "display": null,
            "flex": null,
            "flex_flow": null,
            "grid_area": null,
            "grid_auto_columns": null,
            "grid_auto_flow": null,
            "grid_auto_rows": null,
            "grid_column": null,
            "grid_gap": null,
            "grid_row": null,
            "grid_template_areas": null,
            "grid_template_columns": null,
            "grid_template_rows": null,
            "height": null,
            "justify_content": null,
            "justify_items": null,
            "left": null,
            "margin": null,
            "max_height": null,
            "max_width": null,
            "min_height": null,
            "min_width": null,
            "object_fit": null,
            "object_position": null,
            "order": null,
            "overflow": null,
            "overflow_x": null,
            "overflow_y": null,
            "padding": null,
            "right": null,
            "top": null,
            "visibility": null,
            "width": null
          }
        },
        "9019d02759574f9e959c85ec2730ca59": {
          "model_module": "@jupyter-widgets/controls",
          "model_name": "ButtonStyleModel",
          "model_module_version": "1.5.0",
          "state": {
            "_model_module": "@jupyter-widgets/controls",
            "_model_module_version": "1.5.0",
            "_model_name": "ButtonStyleModel",
            "_view_count": null,
            "_view_module": "@jupyter-widgets/base",
            "_view_module_version": "1.2.0",
            "_view_name": "StyleView",
            "button_color": null,
            "font_weight": ""
          }
        },
        "db9a72ac819040338d9af5d9814820a0": {
          "model_module": "@jupyter-widgets/controls",
          "model_name": "ButtonModel",
          "model_module_version": "1.5.0",
          "state": {
            "_dom_classes": [],
            "_model_module": "@jupyter-widgets/controls",
            "_model_module_version": "1.5.0",
            "_model_name": "ButtonModel",
            "_view_count": null,
            "_view_module": "@jupyter-widgets/controls",
            "_view_module_version": "1.5.0",
            "_view_name": "ButtonView",
            "button_style": "",
            "description": "Play 005_Its_like_ten_thousan-SPK-random.wav",
            "disabled": false,
            "icon": "",
            "layout": "IPY_MODEL_25d7021cabf5433298269e42666f9a85",
            "style": "IPY_MODEL_c812f5dc984444ad9dba077f0e64ef1c",
            "tooltip": ""
          }
        },
        "25d7021cabf5433298269e42666f9a85": {
          "model_module": "@jupyter-widgets/base",
          "model_name": "LayoutModel",
          "model_module_version": "1.2.0",
          "state": {
            "_model_module": "@jupyter-widgets/base",
            "_model_module_version": "1.2.0",
            "_model_name": "LayoutModel",
            "_view_count": null,
            "_view_module": "@jupyter-widgets/base",
            "_view_module_version": "1.2.0",
            "_view_name": "LayoutView",
            "align_content": null,
            "align_items": null,
            "align_self": null,
            "border": null,
            "bottom": null,
            "display": null,
            "flex": null,
            "flex_flow": null,
            "grid_area": null,
            "grid_auto_columns": null,
            "grid_auto_flow": null,
            "grid_auto_rows": null,
            "grid_column": null,
            "grid_gap": null,
            "grid_row": null,
            "grid_template_areas": null,
            "grid_template_columns": null,
            "grid_template_rows": null,
            "height": null,
            "justify_content": null,
            "justify_items": null,
            "left": null,
            "margin": null,
            "max_height": null,
            "max_width": null,
            "min_height": null,
            "min_width": null,
            "object_fit": null,
            "object_position": null,
            "order": null,
            "overflow": null,
            "overflow_x": null,
            "overflow_y": null,
            "padding": null,
            "right": null,
            "top": null,
            "visibility": null,
            "width": null
          }
        },
        "c812f5dc984444ad9dba077f0e64ef1c": {
          "model_module": "@jupyter-widgets/controls",
          "model_name": "ButtonStyleModel",
          "model_module_version": "1.5.0",
          "state": {
            "_model_module": "@jupyter-widgets/controls",
            "_model_module_version": "1.5.0",
            "_model_name": "ButtonStyleModel",
            "_view_count": null,
            "_view_module": "@jupyter-widgets/base",
            "_view_module_version": "1.2.0",
            "_view_name": "StyleView",
            "button_color": null,
            "font_weight": ""
          }
        },
        "da58ffbea7604844aa6c54815887445f": {
          "model_module": "@jupyter-widgets/controls",
          "model_name": "ButtonModel",
          "model_module_version": "1.5.0",
          "state": {
            "_dom_classes": [],
            "_model_module": "@jupyter-widgets/controls",
            "_model_module_version": "1.5.0",
            "_model_name": "ButtonModel",
            "_view_count": null,
            "_view_module": "@jupyter-widgets/controls",
            "_view_module_version": "1.5.0",
            "_view_name": "ButtonView",
            "button_style": "",
            "description": "Play 006_A_little_too_ironic_-SPK-random.wav",
            "disabled": false,
            "icon": "",
            "layout": "IPY_MODEL_4221c0af5d7f4eed884d4647db6a4d7e",
            "style": "IPY_MODEL_16c5ddc2cd62477e80085a7f969ea4e0",
            "tooltip": ""
          }
        },
        "4221c0af5d7f4eed884d4647db6a4d7e": {
          "model_module": "@jupyter-widgets/base",
          "model_name": "LayoutModel",
          "model_module_version": "1.2.0",
          "state": {
            "_model_module": "@jupyter-widgets/base",
            "_model_module_version": "1.2.0",
            "_model_name": "LayoutModel",
            "_view_count": null,
            "_view_module": "@jupyter-widgets/base",
            "_view_module_version": "1.2.0",
            "_view_name": "LayoutView",
            "align_content": null,
            "align_items": null,
            "align_self": null,
            "border": null,
            "bottom": null,
            "display": null,
            "flex": null,
            "flex_flow": null,
            "grid_area": null,
            "grid_auto_columns": null,
            "grid_auto_flow": null,
            "grid_auto_rows": null,
            "grid_column": null,
            "grid_gap": null,
            "grid_row": null,
            "grid_template_areas": null,
            "grid_template_columns": null,
            "grid_template_rows": null,
            "height": null,
            "justify_content": null,
            "justify_items": null,
            "left": null,
            "margin": null,
            "max_height": null,
            "max_width": null,
            "min_height": null,
            "min_width": null,
            "object_fit": null,
            "object_position": null,
            "order": null,
            "overflow": null,
            "overflow_x": null,
            "overflow_y": null,
            "padding": null,
            "right": null,
            "top": null,
            "visibility": null,
            "width": null
          }
        },
        "16c5ddc2cd62477e80085a7f969ea4e0": {
          "model_module": "@jupyter-widgets/controls",
          "model_name": "ButtonStyleModel",
          "model_module_version": "1.5.0",
          "state": {
            "_model_module": "@jupyter-widgets/controls",
            "_model_module_version": "1.5.0",
            "_model_name": "ButtonStyleModel",
            "_view_count": null,
            "_view_module": "@jupyter-widgets/base",
            "_view_module_version": "1.2.0",
            "_view_name": "StyleView",
            "button_color": null,
            "font_weight": ""
          }
        },
        "6d939e0401824fa0a02a00e1358504ad": {
          "model_module": "@jupyter-widgets/controls",
          "model_name": "ButtonModel",
          "model_module_version": "1.5.0",
          "state": {
            "_dom_classes": [],
            "_model_module": "@jupyter-widgets/controls",
            "_model_module_version": "1.5.0",
            "_model_name": "ButtonModel",
            "_view_count": null,
            "_view_module": "@jupyter-widgets/controls",
            "_view_module_version": "1.5.0",
            "_view_name": "ButtonView",
            "button_style": "",
            "description": "Play final_A_little_too_ironic_-SPK-random.wav",
            "disabled": false,
            "icon": "",
            "layout": "IPY_MODEL_a32ffcd3be074dc7be0a6e2d65b0c4bb",
            "style": "IPY_MODEL_fe89cce3a1eb4ef59210501f8e853cf2",
            "tooltip": ""
          }
        },
        "a32ffcd3be074dc7be0a6e2d65b0c4bb": {
          "model_module": "@jupyter-widgets/base",
          "model_name": "LayoutModel",
          "model_module_version": "1.2.0",
          "state": {
            "_model_module": "@jupyter-widgets/base",
            "_model_module_version": "1.2.0",
            "_model_name": "LayoutModel",
            "_view_count": null,
            "_view_module": "@jupyter-widgets/base",
            "_view_module_version": "1.2.0",
            "_view_name": "LayoutView",
            "align_content": null,
            "align_items": null,
            "align_self": null,
            "border": null,
            "bottom": null,
            "display": null,
            "flex": null,
            "flex_flow": null,
            "grid_area": null,
            "grid_auto_columns": null,
            "grid_auto_flow": null,
            "grid_auto_rows": null,
            "grid_column": null,
            "grid_gap": null,
            "grid_row": null,
            "grid_template_areas": null,
            "grid_template_columns": null,
            "grid_template_rows": null,
            "height": null,
            "justify_content": null,
            "justify_items": null,
            "left": null,
            "margin": null,
            "max_height": null,
            "max_width": null,
            "min_height": null,
            "min_width": null,
            "object_fit": null,
            "object_position": null,
            "order": null,
            "overflow": null,
            "overflow_x": null,
            "overflow_y": null,
            "padding": null,
            "right": null,
            "top": null,
            "visibility": null,
            "width": null
          }
        },
        "fe89cce3a1eb4ef59210501f8e853cf2": {
          "model_module": "@jupyter-widgets/controls",
          "model_name": "ButtonStyleModel",
          "model_module_version": "1.5.0",
          "state": {
            "_model_module": "@jupyter-widgets/controls",
            "_model_module_version": "1.5.0",
            "_model_name": "ButtonStyleModel",
            "_view_count": null,
            "_view_module": "@jupyter-widgets/base",
            "_view_module_version": "1.2.0",
            "_view_name": "StyleView",
            "button_color": null,
            "font_weight": ""
          }
        },
        "84a7d2a44cff4af0a7ac51201a451c2c": {
          "model_module": "@jupyter-widgets/controls",
          "model_name": "ButtonModel",
          "model_module_version": "1.5.0",
          "state": {
            "_dom_classes": [],
            "_model_module": "@jupyter-widgets/controls",
            "_model_module_version": "1.5.0",
            "_model_name": "ButtonModel",
            "_view_count": null,
            "_view_module": "@jupyter-widgets/controls",
            "_view_module_version": "1.5.0",
            "_view_name": "ButtonView",
            "button_style": "",
            "description": "Play 001_Im_speaker_number_tw-SPK-002_Its_the_good_advice_-SPK-random.wav.wav",
            "disabled": false,
            "icon": "",
            "layout": "IPY_MODEL_6ea50794f0df4129a5ccc7c736a177c8",
            "style": "IPY_MODEL_500a8ffd11ba44e781ba9bd30cf01798",
            "tooltip": ""
          }
        },
        "6ea50794f0df4129a5ccc7c736a177c8": {
          "model_module": "@jupyter-widgets/base",
          "model_name": "LayoutModel",
          "model_module_version": "1.2.0",
          "state": {
            "_model_module": "@jupyter-widgets/base",
            "_model_module_version": "1.2.0",
            "_model_name": "LayoutModel",
            "_view_count": null,
            "_view_module": "@jupyter-widgets/base",
            "_view_module_version": "1.2.0",
            "_view_name": "LayoutView",
            "align_content": null,
            "align_items": null,
            "align_self": null,
            "border": null,
            "bottom": null,
            "display": null,
            "flex": null,
            "flex_flow": null,
            "grid_area": null,
            "grid_auto_columns": null,
            "grid_auto_flow": null,
            "grid_auto_rows": null,
            "grid_column": null,
            "grid_gap": null,
            "grid_row": null,
            "grid_template_areas": null,
            "grid_template_columns": null,
            "grid_template_rows": null,
            "height": null,
            "justify_content": null,
            "justify_items": null,
            "left": null,
            "margin": null,
            "max_height": null,
            "max_width": null,
            "min_height": null,
            "min_width": null,
            "object_fit": null,
            "object_position": null,
            "order": null,
            "overflow": null,
            "overflow_x": null,
            "overflow_y": null,
            "padding": null,
            "right": null,
            "top": null,
            "visibility": null,
            "width": null
          }
        },
        "500a8ffd11ba44e781ba9bd30cf01798": {
          "model_module": "@jupyter-widgets/controls",
          "model_name": "ButtonStyleModel",
          "model_module_version": "1.5.0",
          "state": {
            "_model_module": "@jupyter-widgets/controls",
            "_model_module_version": "1.5.0",
            "_model_name": "ButtonStyleModel",
            "_view_count": null,
            "_view_module": "@jupyter-widgets/base",
            "_view_module_version": "1.2.0",
            "_view_name": "StyleView",
            "button_color": null,
            "font_weight": ""
          }
        },
        "34f31ddd3abf4912ad4b4d1b6db17c0a": {
          "model_module": "@jupyter-widgets/controls",
          "model_name": "ButtonModel",
          "model_module_version": "1.5.0",
          "state": {
            "_dom_classes": [],
            "_model_module": "@jupyter-widgets/controls",
            "_model_module_version": "1.5.0",
            "_model_name": "ButtonModel",
            "_view_count": null,
            "_view_module": "@jupyter-widgets/controls",
            "_view_module_version": "1.5.0",
            "_view_name": "ButtonView",
            "button_style": "",
            "description": "Play 002_Hey_have_you_heard_a-SPK-002_Its_the_good_advice_-SPK-random.wav.wav",
            "disabled": false,
            "icon": "",
            "layout": "IPY_MODEL_0bcae29b25c24fb7b2304394c5e4b5ff",
            "style": "IPY_MODEL_c4665df69acf4675ac6aa728ece70631",
            "tooltip": ""
          }
        },
        "0bcae29b25c24fb7b2304394c5e4b5ff": {
          "model_module": "@jupyter-widgets/base",
          "model_name": "LayoutModel",
          "model_module_version": "1.2.0",
          "state": {
            "_model_module": "@jupyter-widgets/base",
            "_model_module_version": "1.2.0",
            "_model_name": "LayoutModel",
            "_view_count": null,
            "_view_module": "@jupyter-widgets/base",
            "_view_module_version": "1.2.0",
            "_view_name": "LayoutView",
            "align_content": null,
            "align_items": null,
            "align_self": null,
            "border": null,
            "bottom": null,
            "display": null,
            "flex": null,
            "flex_flow": null,
            "grid_area": null,
            "grid_auto_columns": null,
            "grid_auto_flow": null,
            "grid_auto_rows": null,
            "grid_column": null,
            "grid_gap": null,
            "grid_row": null,
            "grid_template_areas": null,
            "grid_template_columns": null,
            "grid_template_rows": null,
            "height": null,
            "justify_content": null,
            "justify_items": null,
            "left": null,
            "margin": null,
            "max_height": null,
            "max_width": null,
            "min_height": null,
            "min_width": null,
            "object_fit": null,
            "object_position": null,
            "order": null,
            "overflow": null,
            "overflow_x": null,
            "overflow_y": null,
            "padding": null,
            "right": null,
            "top": null,
            "visibility": null,
            "width": null
          }
        },
        "c4665df69acf4675ac6aa728ece70631": {
          "model_module": "@jupyter-widgets/controls",
          "model_name": "ButtonStyleModel",
          "model_module_version": "1.5.0",
          "state": {
            "_model_module": "@jupyter-widgets/controls",
            "_model_module_version": "1.5.0",
            "_model_name": "ButtonStyleModel",
            "_view_count": null,
            "_view_module": "@jupyter-widgets/base",
            "_view_module_version": "1.2.0",
            "_view_name": "StyleView",
            "button_color": null,
            "font_weight": ""
          }
        },
        "f11e33866bae4f97afd7d8be04f69d08": {
          "model_module": "@jupyter-widgets/controls",
          "model_name": "ButtonModel",
          "model_module_version": "1.5.0",
          "state": {
            "_dom_classes": [],
            "_model_module": "@jupyter-widgets/controls",
            "_model_module_version": "1.5.0",
            "_model_name": "ButtonModel",
            "_view_count": null,
            "_view_module": "@jupyter-widgets/controls",
            "_view_module_version": "1.5.0",
            "_view_name": "ButtonView",
            "button_style": "",
            "description": "Play 003_Its_the_good_advice_-SPK-002_Its_the_good_advice_-SPK-random.wav.wav",
            "disabled": false,
            "icon": "",
            "layout": "IPY_MODEL_ba676a7a9b4540f08199903d9d83fea8",
            "style": "IPY_MODEL_d95d5fec436040698a5b4236f3d5d81f",
            "tooltip": ""
          }
        },
        "ba676a7a9b4540f08199903d9d83fea8": {
          "model_module": "@jupyter-widgets/base",
          "model_name": "LayoutModel",
          "model_module_version": "1.2.0",
          "state": {
            "_model_module": "@jupyter-widgets/base",
            "_model_module_version": "1.2.0",
            "_model_name": "LayoutModel",
            "_view_count": null,
            "_view_module": "@jupyter-widgets/base",
            "_view_module_version": "1.2.0",
            "_view_name": "LayoutView",
            "align_content": null,
            "align_items": null,
            "align_self": null,
            "border": null,
            "bottom": null,
            "display": null,
            "flex": null,
            "flex_flow": null,
            "grid_area": null,
            "grid_auto_columns": null,
            "grid_auto_flow": null,
            "grid_auto_rows": null,
            "grid_column": null,
            "grid_gap": null,
            "grid_row": null,
            "grid_template_areas": null,
            "grid_template_columns": null,
            "grid_template_rows": null,
            "height": null,
            "justify_content": null,
            "justify_items": null,
            "left": null,
            "margin": null,
            "max_height": null,
            "max_width": null,
            "min_height": null,
            "min_width": null,
            "object_fit": null,
            "object_position": null,
            "order": null,
            "overflow": null,
            "overflow_x": null,
            "overflow_y": null,
            "padding": null,
            "right": null,
            "top": null,
            "visibility": null,
            "width": null
          }
        },
        "d95d5fec436040698a5b4236f3d5d81f": {
          "model_module": "@jupyter-widgets/controls",
          "model_name": "ButtonStyleModel",
          "model_module_version": "1.5.0",
          "state": {
            "_model_module": "@jupyter-widgets/controls",
            "_model_module_version": "1.5.0",
            "_model_name": "ButtonStyleModel",
            "_view_count": null,
            "_view_module": "@jupyter-widgets/base",
            "_view_module_version": "1.2.0",
            "_view_name": "StyleView",
            "button_color": null,
            "font_weight": ""
          }
        },
        "bfb0c1f37e4541aa938041ceb9bfacc2": {
          "model_module": "@jupyter-widgets/controls",
          "model_name": "ButtonModel",
          "model_module_version": "1.5.0",
          "state": {
            "_dom_classes": [],
            "_model_module": "@jupyter-widgets/controls",
            "_model_module_version": "1.5.0",
            "_model_name": "ButtonModel",
            "_view_count": null,
            "_view_module": "@jupyter-widgets/controls",
            "_view_module_version": "1.5.0",
            "_view_name": "ButtonView",
            "button_style": "",
            "description": "Play 004_When_you_think_every-SPK-002_Its_the_good_advice_-SPK-random.wav.wav",
            "disabled": false,
            "icon": "",
            "layout": "IPY_MODEL_8aec7773934a4651a88ba343c1a6f6a6",
            "style": "IPY_MODEL_e1a97cc9969c482ebe5ce0c9d1967989",
            "tooltip": ""
          }
        },
        "8aec7773934a4651a88ba343c1a6f6a6": {
          "model_module": "@jupyter-widgets/base",
          "model_name": "LayoutModel",
          "model_module_version": "1.2.0",
          "state": {
            "_model_module": "@jupyter-widgets/base",
            "_model_module_version": "1.2.0",
            "_model_name": "LayoutModel",
            "_view_count": null,
            "_view_module": "@jupyter-widgets/base",
            "_view_module_version": "1.2.0",
            "_view_name": "LayoutView",
            "align_content": null,
            "align_items": null,
            "align_self": null,
            "border": null,
            "bottom": null,
            "display": null,
            "flex": null,
            "flex_flow": null,
            "grid_area": null,
            "grid_auto_columns": null,
            "grid_auto_flow": null,
            "grid_auto_rows": null,
            "grid_column": null,
            "grid_gap": null,
            "grid_row": null,
            "grid_template_areas": null,
            "grid_template_columns": null,
            "grid_template_rows": null,
            "height": null,
            "justify_content": null,
            "justify_items": null,
            "left": null,
            "margin": null,
            "max_height": null,
            "max_width": null,
            "min_height": null,
            "min_width": null,
            "object_fit": null,
            "object_position": null,
            "order": null,
            "overflow": null,
            "overflow_x": null,
            "overflow_y": null,
            "padding": null,
            "right": null,
            "top": null,
            "visibility": null,
            "width": null
          }
        },
        "e1a97cc9969c482ebe5ce0c9d1967989": {
          "model_module": "@jupyter-widgets/controls",
          "model_name": "ButtonStyleModel",
          "model_module_version": "1.5.0",
          "state": {
            "_model_module": "@jupyter-widgets/controls",
            "_model_module_version": "1.5.0",
            "_model_name": "ButtonStyleModel",
            "_view_count": null,
            "_view_module": "@jupyter-widgets/base",
            "_view_module_version": "1.2.0",
            "_view_name": "StyleView",
            "button_color": null,
            "font_weight": ""
          }
        },
        "18e25b6d233f4fbeb9fc9ed8e8d0c609": {
          "model_module": "@jupyter-widgets/controls",
          "model_name": "ButtonModel",
          "model_module_version": "1.5.0",
          "state": {
            "_dom_classes": [],
            "_model_module": "@jupyter-widgets/controls",
            "_model_module_version": "1.5.0",
            "_model_name": "ButtonModel",
            "_view_count": null,
            "_view_module": "@jupyter-widgets/controls",
            "_view_module_version": "1.5.0",
            "_view_name": "ButtonView",
            "button_style": "",
            "description": "Play 005_And_everything_blows-SPK-002_Its_the_good_advice_-SPK-random.wav.wav",
            "disabled": false,
            "icon": "",
            "layout": "IPY_MODEL_20a060f910274c75a04af4493000a478",
            "style": "IPY_MODEL_d1798f0507c444248c68286d27c26458",
            "tooltip": ""
          }
        },
        "20a060f910274c75a04af4493000a478": {
          "model_module": "@jupyter-widgets/base",
          "model_name": "LayoutModel",
          "model_module_version": "1.2.0",
          "state": {
            "_model_module": "@jupyter-widgets/base",
            "_model_module_version": "1.2.0",
            "_model_name": "LayoutModel",
            "_view_count": null,
            "_view_module": "@jupyter-widgets/base",
            "_view_module_version": "1.2.0",
            "_view_name": "LayoutView",
            "align_content": null,
            "align_items": null,
            "align_self": null,
            "border": null,
            "bottom": null,
            "display": null,
            "flex": null,
            "flex_flow": null,
            "grid_area": null,
            "grid_auto_columns": null,
            "grid_auto_flow": null,
            "grid_auto_rows": null,
            "grid_column": null,
            "grid_gap": null,
            "grid_row": null,
            "grid_template_areas": null,
            "grid_template_columns": null,
            "grid_template_rows": null,
            "height": null,
            "justify_content": null,
            "justify_items": null,
            "left": null,
            "margin": null,
            "max_height": null,
            "max_width": null,
            "min_height": null,
            "min_width": null,
            "object_fit": null,
            "object_position": null,
            "order": null,
            "overflow": null,
            "overflow_x": null,
            "overflow_y": null,
            "padding": null,
            "right": null,
            "top": null,
            "visibility": null,
            "width": null
          }
        },
        "d1798f0507c444248c68286d27c26458": {
          "model_module": "@jupyter-widgets/controls",
          "model_name": "ButtonStyleModel",
          "model_module_version": "1.5.0",
          "state": {
            "_model_module": "@jupyter-widgets/controls",
            "_model_module_version": "1.5.0",
            "_model_name": "ButtonStyleModel",
            "_view_count": null,
            "_view_module": "@jupyter-widgets/base",
            "_view_module_version": "1.2.0",
            "_view_name": "StyleView",
            "button_color": null,
            "font_weight": ""
          }
        },
        "8fb28922d6a24e97b5ebe582cc981b07": {
          "model_module": "@jupyter-widgets/controls",
          "model_name": "ButtonModel",
          "model_module_version": "1.5.0",
          "state": {
            "_dom_classes": [],
            "_model_module": "@jupyter-widgets/controls",
            "_model_module_version": "1.5.0",
            "_model_name": "ButtonModel",
            "_view_count": null,
            "_view_module": "@jupyter-widgets/controls",
            "_view_module_version": "1.5.0",
            "_view_name": "ButtonView",
            "button_style": "",
            "description": "Play 006_Its_like_ten_thousan-SPK-002_Its_the_good_advice_-SPK-random.wav.wav",
            "disabled": false,
            "icon": "",
            "layout": "IPY_MODEL_ee01a0665af84f35a3a9e779e140ef67",
            "style": "IPY_MODEL_b595442996e94d9b87b1fd657ebc512a",
            "tooltip": ""
          }
        },
        "ee01a0665af84f35a3a9e779e140ef67": {
          "model_module": "@jupyter-widgets/base",
          "model_name": "LayoutModel",
          "model_module_version": "1.2.0",
          "state": {
            "_model_module": "@jupyter-widgets/base",
            "_model_module_version": "1.2.0",
            "_model_name": "LayoutModel",
            "_view_count": null,
            "_view_module": "@jupyter-widgets/base",
            "_view_module_version": "1.2.0",
            "_view_name": "LayoutView",
            "align_content": null,
            "align_items": null,
            "align_self": null,
            "border": null,
            "bottom": null,
            "display": null,
            "flex": null,
            "flex_flow": null,
            "grid_area": null,
            "grid_auto_columns": null,
            "grid_auto_flow": null,
            "grid_auto_rows": null,
            "grid_column": null,
            "grid_gap": null,
            "grid_row": null,
            "grid_template_areas": null,
            "grid_template_columns": null,
            "grid_template_rows": null,
            "height": null,
            "justify_content": null,
            "justify_items": null,
            "left": null,
            "margin": null,
            "max_height": null,
            "max_width": null,
            "min_height": null,
            "min_width": null,
            "object_fit": null,
            "object_position": null,
            "order": null,
            "overflow": null,
            "overflow_x": null,
            "overflow_y": null,
            "padding": null,
            "right": null,
            "top": null,
            "visibility": null,
            "width": null
          }
        },
        "b595442996e94d9b87b1fd657ebc512a": {
          "model_module": "@jupyter-widgets/controls",
          "model_name": "ButtonStyleModel",
          "model_module_version": "1.5.0",
          "state": {
            "_model_module": "@jupyter-widgets/controls",
            "_model_module_version": "1.5.0",
            "_model_name": "ButtonStyleModel",
            "_view_count": null,
            "_view_module": "@jupyter-widgets/base",
            "_view_module_version": "1.2.0",
            "_view_name": "StyleView",
            "button_color": null,
            "font_weight": ""
          }
        },
        "8fd2ab5f1b704ac2bbc88a95ff60614a": {
          "model_module": "@jupyter-widgets/controls",
          "model_name": "ButtonModel",
          "model_module_version": "1.5.0",
          "state": {
            "_dom_classes": [],
            "_model_module": "@jupyter-widgets/controls",
            "_model_module_version": "1.5.0",
            "_model_name": "ButtonModel",
            "_view_count": null,
            "_view_module": "@jupyter-widgets/controls",
            "_view_module_version": "1.5.0",
            "_view_name": "ButtonView",
            "button_style": "",
            "description": "Play 007_A_little_too_ironic_-SPK-002_Its_the_good_advice_-SPK-random.wav.wav",
            "disabled": false,
            "icon": "",
            "layout": "IPY_MODEL_000ef644370a46adb4bc9918ce248dc2",
            "style": "IPY_MODEL_a3550d6eb97a45809978825e4b8b36a0",
            "tooltip": ""
          }
        },
        "000ef644370a46adb4bc9918ce248dc2": {
          "model_module": "@jupyter-widgets/base",
          "model_name": "LayoutModel",
          "model_module_version": "1.2.0",
          "state": {
            "_model_module": "@jupyter-widgets/base",
            "_model_module_version": "1.2.0",
            "_model_name": "LayoutModel",
            "_view_count": null,
            "_view_module": "@jupyter-widgets/base",
            "_view_module_version": "1.2.0",
            "_view_name": "LayoutView",
            "align_content": null,
            "align_items": null,
            "align_self": null,
            "border": null,
            "bottom": null,
            "display": null,
            "flex": null,
            "flex_flow": null,
            "grid_area": null,
            "grid_auto_columns": null,
            "grid_auto_flow": null,
            "grid_auto_rows": null,
            "grid_column": null,
            "grid_gap": null,
            "grid_row": null,
            "grid_template_areas": null,
            "grid_template_columns": null,
            "grid_template_rows": null,
            "height": null,
            "justify_content": null,
            "justify_items": null,
            "left": null,
            "margin": null,
            "max_height": null,
            "max_width": null,
            "min_height": null,
            "min_width": null,
            "object_fit": null,
            "object_position": null,
            "order": null,
            "overflow": null,
            "overflow_x": null,
            "overflow_y": null,
            "padding": null,
            "right": null,
            "top": null,
            "visibility": null,
            "width": null
          }
        },
        "a3550d6eb97a45809978825e4b8b36a0": {
          "model_module": "@jupyter-widgets/controls",
          "model_name": "ButtonStyleModel",
          "model_module_version": "1.5.0",
          "state": {
            "_model_module": "@jupyter-widgets/controls",
            "_model_module_version": "1.5.0",
            "_model_name": "ButtonStyleModel",
            "_view_count": null,
            "_view_module": "@jupyter-widgets/base",
            "_view_module_version": "1.2.0",
            "_view_name": "StyleView",
            "button_color": null,
            "font_weight": ""
          }
        },
        "82165a42741a4baf8ffc795687a249de": {
          "model_module": "@jupyter-widgets/controls",
          "model_name": "ButtonModel",
          "model_module_version": "1.5.0",
          "state": {
            "_dom_classes": [],
            "_model_module": "@jupyter-widgets/controls",
            "_model_module_version": "1.5.0",
            "_model_name": "ButtonModel",
            "_view_count": null,
            "_view_module": "@jupyter-widgets/controls",
            "_view_module_version": "1.5.0",
            "_view_name": "ButtonView",
            "button_style": "",
            "description": "Play final_A_little_too_ironic_-SPK-002_Its_the_good_advice_-SPK-random.wav.wav",
            "disabled": false,
            "icon": "",
            "layout": "IPY_MODEL_471b04ef64584089b8526b7a2805f94f",
            "style": "IPY_MODEL_e61f0582de914f0ca216966185139808",
            "tooltip": ""
          }
        },
        "471b04ef64584089b8526b7a2805f94f": {
          "model_module": "@jupyter-widgets/base",
          "model_name": "LayoutModel",
          "model_module_version": "1.2.0",
          "state": {
            "_model_module": "@jupyter-widgets/base",
            "_model_module_version": "1.2.0",
            "_model_name": "LayoutModel",
            "_view_count": null,
            "_view_module": "@jupyter-widgets/base",
            "_view_module_version": "1.2.0",
            "_view_name": "LayoutView",
            "align_content": null,
            "align_items": null,
            "align_self": null,
            "border": null,
            "bottom": null,
            "display": null,
            "flex": null,
            "flex_flow": null,
            "grid_area": null,
            "grid_auto_columns": null,
            "grid_auto_flow": null,
            "grid_auto_rows": null,
            "grid_column": null,
            "grid_gap": null,
            "grid_row": null,
            "grid_template_areas": null,
            "grid_template_columns": null,
            "grid_template_rows": null,
            "height": null,
            "justify_content": null,
            "justify_items": null,
            "left": null,
            "margin": null,
            "max_height": null,
            "max_width": null,
            "min_height": null,
            "min_width": null,
            "object_fit": null,
            "object_position": null,
            "order": null,
            "overflow": null,
            "overflow_x": null,
            "overflow_y": null,
            "padding": null,
            "right": null,
            "top": null,
            "visibility": null,
            "width": null
          }
        },
        "e61f0582de914f0ca216966185139808": {
          "model_module": "@jupyter-widgets/controls",
          "model_name": "ButtonStyleModel",
          "model_module_version": "1.5.0",
          "state": {
            "_model_module": "@jupyter-widgets/controls",
            "_model_module_version": "1.5.0",
            "_model_name": "ButtonStyleModel",
            "_view_count": null,
            "_view_module": "@jupyter-widgets/base",
            "_view_module_version": "1.2.0",
            "_view_name": "StyleView",
            "button_color": null,
            "font_weight": ""
          }
        }
      }
    }
  },
  "nbformat": 4,
  "nbformat_minor": 0
}