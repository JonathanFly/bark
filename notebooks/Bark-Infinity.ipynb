{
  "nbformat": 4,
  "nbformat_minor": 0,
  "metadata": {
    "colab": {
      "provenance": [],
      "gpuType": "T4",
      "authorship_tag": "ABX9TyPwSM/Piw4ecN7LXoGsFpPu",
      "include_colab_link": true
    },
    "kernelspec": {
      "name": "python3",
      "display_name": "Python 3"
    },
    "language_info": {
      "name": "python"
    },
    "accelerator": "GPU"
  },
  "cells": [
    {
      "cell_type": "markdown",
      "metadata": {
        "id": "view-in-github",
        "colab_type": "text"
      },
      "source": [
        "<a href=\"https://colab.research.google.com/github/steinhaug/bark-infinity/blob/main/notebooks/Bark-Infinity.ipynb\" target=\"_parent\"><img src=\"https://colab.research.google.com/assets/colab-badge.svg\" alt=\"Open In Colab\"/></a>"
      ]
    },
    {
      "cell_type": "code",
      "source": [
        "!git clone https://github.com/JonathanFly/bark.git\n",
        "%cd bark\n",
        "!pip install -r old_setup_files/requirements-pip.txt\n",
        "!pip install encodec rich-argparse librosa pydub devtools\n",
        "!python bark_webui.py --share"
      ],
      "metadata": {
        "id": "h2hmNnKDlWvM"
      },
      "execution_count": null,
      "outputs": []
    }
  ]
}